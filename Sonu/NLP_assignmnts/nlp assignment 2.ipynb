{
 "cells": [
  {
   "cell_type": "markdown",
   "metadata": {},
   "source": [
    "**Question 1.** Write a python program using Textblob in which find out the parts-of-speech(pos) tagging from the following sentence.\n",
    "\n",
    "\"Susie works in a shoeshine shop. Where she shines she sits, and where she sits she shines\""
   ]
  },
  {
   "cell_type": "markdown",
   "metadata": {},
   "source": [
    "**Question 2.** Write a python program using the textblob to find out the count of the common words from the following sentence.\n",
    "\n",
    "\"How much wood would a woodchuck chuck if a woodchuck could chuck wood?\n",
    "He would chuck, he would, as much as he could, and chuck as much wood\n",
    "As a woodchuck would if a woodchuck could chuck wood\"\n",
    "Find it out how many times 'wood' came in the sentence."
   ]
  },
  {
   "cell_type": "markdown",
   "metadata": {},
   "source": [
    "**Question 3.** Translate the following sentences in your own language using the textblob.\n",
    "\n",
    "\"Data is a new oil.\", \"A.I is the last invention\", \"She sells seashells by the seashore\", \"He threw three free throws\"."
   ]
  },
  {
   "cell_type": "markdown",
   "metadata": {},
   "source": [
    "**Question 4.** Create a spell checker program using the textblob library with using your own sentences."
   ]
  },
  {
   "cell_type": "code",
   "execution_count": 32,
   "metadata": {},
   "outputs": [
    {
     "name": "stdout",
     "output_type": "stream",
     "text": [
      "Enter the string: She sells seashells by the seashore\n",
      "वह समुंद्र के किनारे शँख बेचती है\n",
      "\n",
      "[('Susie', 'NNP'), ('works', 'VBZ'), ('in', 'IN'), ('a', 'DT'), ('shoeshine', 'NN'), ('shop', 'NN'), ('Where', 'WRB'), ('she', 'PRP'), ('shines', 'VBZ'), ('she', 'PRP'), ('sits', 'VBZ'), ('and', 'CC'), ('where', 'WRB'), ('she', 'PRP'), ('sits', 'VBZ'), ('she', 'PRP'), ('shines', 'NNS')]\n",
      "\n",
      "defaultdict(<class 'int'>, {'how': 2, 'much': 3, 'wood': 5, 'would': 4, 'a': 4, 'woodchuck': 4, 'chuck': 5, 'if': 2, 'could': 3, 'he': 3, 'as': 4, 'and': 1, 'find': 1, 'it': 1, 'out': 1, 'many': 1, 'times': 1, 'came': 1, 'in': 1, 'the': 1, 'sentence': 1})\n",
      "\n",
      "[('spelling', 1.0)]\n"
     ]
    }
   ],
   "source": [
    "import nltk\n",
    "import string\n",
    "from nltk.corpus import stopwords\n",
    "from textblob import TextBlob , Word\n",
    "\n",
    "stop_words = stopwords.words('english')\n",
    "punct =string.punctuation\n",
    "\n",
    "trans = input('Enter the string: ')\n",
    "pos = \"Susie works in a shoeshine shop. Where she shines she sits, and where she sits she shines\"\n",
    "count = '''How much wood would a woodchuck chuck if a woodchuck could chuck wood? He would chuck, he would, as much as he could, \n",
    "and chuck as much wood As a woodchuck would if a woodchuck could chuck wood\" Find it out how many times 'wood' came in the \n",
    "sentence.'''\n",
    "spell_checker = \"speling\"\n",
    "\n",
    "class Text_blob:\n",
    "    \n",
    "    def pos_tag(self, text):\n",
    "        blob = TextBlob(text)\n",
    "        print(blob.tags)\n",
    "\n",
    "    def spell_check(self , text):\n",
    "        word = Word(text)\n",
    "        print(word.spellcheck())\n",
    "\n",
    "    def word_freq(self, text):\n",
    "        word = TextBlob(text)\n",
    "        print(word.word_counts)\n",
    "\n",
    "    def language_translation_eng_to_hindi(self , text):\n",
    "        blob = TextBlob(text)\n",
    "        print(blob.translate(to='hi'))\n",
    "\n",
    "if __name__ == '__main__':\n",
    "    blob = Text_blob()\n",
    "    blob.language_translation_eng_to_hindi(trans)\n",
    "    print()\n",
    "    blob.pos_tag(pos)\n",
    "    print()\n",
    "    blob.word_freq(count)\n",
    "    print()\n",
    "    blob.spell_check(spell_checker)\n",
    "   \n"
   ]
  },
  {
   "cell_type": "code",
   "execution_count": null,
   "metadata": {},
   "outputs": [],
   "source": []
  },
  {
   "cell_type": "code",
   "execution_count": null,
   "metadata": {},
   "outputs": [],
   "source": []
  },
  {
   "cell_type": "code",
   "execution_count": null,
   "metadata": {},
   "outputs": [],
   "source": []
  },
  {
   "cell_type": "code",
   "execution_count": null,
   "metadata": {},
   "outputs": [],
   "source": []
  },
  {
   "cell_type": "code",
   "execution_count": null,
   "metadata": {},
   "outputs": [],
   "source": []
  },
  {
   "cell_type": "code",
   "execution_count": null,
   "metadata": {},
   "outputs": [],
   "source": []
  },
  {
   "cell_type": "code",
   "execution_count": null,
   "metadata": {},
   "outputs": [],
   "source": []
  }
 ],
 "metadata": {
  "kernelspec": {
   "display_name": "Python 3",
   "language": "python",
   "name": "python3"
  },
  "language_info": {
   "codemirror_mode": {
    "name": "ipython",
    "version": 3
   },
   "file_extension": ".py",
   "mimetype": "text/x-python",
   "name": "python",
   "nbconvert_exporter": "python",
   "pygments_lexer": "ipython3",
   "version": "3.8.5"
  }
 },
 "nbformat": 4,
 "nbformat_minor": 4
}
