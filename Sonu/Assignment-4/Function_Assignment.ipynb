{
 "cells": [
  {
   "cell_type": "code",
   "execution_count": 1,
   "metadata": {
    "id": "1YVTYu-CuCOO"
   },
   "outputs": [
    {
     "name": "stdout",
     "output_type": "stream",
     "text": [
      "Sum of the two numbers: 30\n"
     ]
    }
   ],
   "source": [
    "# Define a function calls addNumber(x, y) that takes in two number and returns the sum of the two numbers.\n",
    "\n",
    "def addNumber(x,y):\n",
    "    print('Sum of the two numbers:',x+y)\n",
    "addNumber(20,10)\n",
    "\n"
   ]
  },
  {
   "cell_type": "code",
   "execution_count": 11,
   "metadata": {
    "id": "1-gIq-Rju2i2"
   },
   "outputs": [
    {
     "name": "stdout",
     "output_type": "stream",
     "text": [
      "Sum of the two numbers: 10\n"
     ]
    }
   ],
   "source": [
    "# Define a function calls subtractNumber(x, y) that takes in two numbers and returns the difference of the two numbers.\n",
    "\n",
    "def addNumber(x,y):\n",
    "    print('Sum of the two numbers:',x-y)\n",
    "addNumber(20,10)\n",
    "\n"
   ]
  },
  {
   "cell_type": "code",
   "execution_count": 14,
   "metadata": {
    "id": "kiAE0iLbviG9"
   },
   "outputs": [
    {
     "name": "stdout",
     "output_type": "stream",
     "text": [
      "40 is Bigger number\n"
     ]
    }
   ],
   "source": [
    "# Write a function getBiggerNumber(x, y) that takes in two numbers as arguments and returns the bigger number.\n",
    "\n",
    "def getBiggerNumber(x, y):\n",
    "    if x>y:\n",
    "        print(f'{x} is Bigger number')\n",
    "    else:\n",
    "        print(f'{y} is Bigger number')\n",
    "getBiggerNumber(40, 25)\n",
    "\n",
    "\n"
   ]
  },
  {
   "cell_type": "code",
   "execution_count": 37,
   "metadata": {
    "id": "10B5oVcZh16d"
   },
   "outputs": [
    {
     "name": "stdout",
     "output_type": "stream",
     "text": [
      "square root of 16: 4.0\n",
      "3 to the power of 5: 243.0\n",
      "Enter the radius:3.0\n",
      "area of circle: 28.274333882308138\n"
     ]
    }
   ],
   "source": [
    "# Python provides many built-in modules with many useful functions. \n",
    "# One such module is the math module. The math module provides many useful functions such as sqrt(x), pow(x, y), ceil(x), floor(x) etc. \n",
    "# You will need to do a \"import math\" before you are allowed to use the functions within the math module.\n",
    "\n",
    "import math\n",
    "# Calculate the square root of 16 and stores it in the variable a\n",
    "\n",
    "a = math.sqrt(16)\n",
    "print('square root of 16:',a)\n",
    "\n",
    "# Calculate 3 to the power of 5 and stores it in the variable b\n",
    "\n",
    "b = math.pow(3,5)\n",
    "print('3 to the power of 5:',b)\n",
    "\n",
    "# Calculate area of circle with radius = 3.0 by making use of the math.pi constant and store it in the variable c\n",
    "\n",
    "r = float(input('Enter the radius:'))\n",
    "c = math.pi*r*r\n",
    "print('area of circle:',c)"
   ]
  },
  {
   "cell_type": "code",
   "execution_count": 56,
   "metadata": {
    "id": "Yado0B99h2E_"
   },
   "outputs": [
    {
     "name": "stdout",
     "output_type": "stream",
     "text": [
      "82.40\n",
      "32.00\n"
     ]
    }
   ],
   "source": [
    "# Write a function to convert temperature from Celsius to Fahrenheit scale.\n",
    "# oC to oF Conversion: Multipy by 9, then divide by 5, then add 32.\n",
    "\n",
    "# Note: Return a string of 2 decimal places.\n",
    "# In - Cel2Fah(28.0)\n",
    "# Out - '82.40'\n",
    "# In - Cel2Fah(0.00)\n",
    "# Out - '32.00'\n",
    "\n",
    "def Cel2Fah(x):\n",
    "    print(\"{:.2f}\".format((((x*9)/5)+32)))\n",
    "          \n",
    "Cel2Fah(28.0)\n",
    "Cel2Fah(0.00)\n"
   ]
  },
  {
   "cell_type": "code",
   "execution_count": 68,
   "metadata": {
    "id": "n7lsFol9h2ID"
   },
   "outputs": [
    {
     "name": "stdout",
     "output_type": "stream",
     "text": [
      "21.8\n",
      "27.5\n"
     ]
    }
   ],
   "source": [
    "# Write a function to compute the BMI of a person.\n",
    "#     BMI = weight(kg)  /  ( height(m)*height(m) )\n",
    "\n",
    "# Note: Return a string of 1 decimal place.\n",
    "# In - BMI(63, 1.7)\n",
    "# Out - '21.8'\n",
    "# In - BMI(110, 2)\n",
    "# Out - '27.5'\n",
    "\n",
    "def BMI(weight,height):\n",
    "    BMI = weight/( height*height)\n",
    "    print(\"{:.1f}\".format(BMI))\n",
    "BMI(63, 1.7)\n",
    "BMI(110, 2)"
   ]
  },
  {
   "cell_type": "code",
   "execution_count": 72,
   "metadata": {
    "id": "f2tV1AU8h2LN"
   },
   "outputs": [
    {
     "name": "stdout",
     "output_type": "stream",
     "text": [
      "51\n",
      "100\n",
      "525\n"
     ]
    }
   ],
   "source": [
    "# Write a function percent(value, total) that takes in two numbers as arguments, and returns the percentage value as an integer.\n",
    "# In - percent(46, 90)\n",
    "# Out - 51\n",
    "# In - percent(51, 51)\n",
    "# Out - 100\n",
    "# In - percent(63, 12)\n",
    "# Out - 525\n",
    "\n",
    "def percent(value, total):\n",
    "    result = int(((value * 100) / total))\n",
    "    print(result)\n",
    "percent(46, 90)\n",
    "percent(51, 51)\n",
    "percent(63, 12)\n"
   ]
  },
  {
   "cell_type": "code",
   "execution_count": 4,
   "metadata": {
    "id": "QyoWR3dQh2OZ"
   },
   "outputs": [
    {
     "name": "stdout",
     "output_type": "stream",
     "text": [
      "5\n",
      "13\n"
     ]
    }
   ],
   "source": [
    "# Write a function to compute the hypotenuse given sides a and b of the triangle.\n",
    "# Hint: You can use math.sqrt(x) to compute the square root of x.\n",
    "# In - hypotenuse(3, 4)\n",
    "# Out - 5\n",
    "# In - hypotenuse(5, 12)\n",
    "# Out - 13\n",
    "\n",
    "import math\n",
    "def hypotenuse(a, b):\n",
    "    c = math.sqrt(a**2 + b**2)\n",
    "    print(int(c))\n",
    "hypotenuse(3, 4)\n",
    "hypotenuse(5, 12)\n"
   ]
  },
  {
   "cell_type": "code",
   "execution_count": 33,
   "metadata": {
    "id": "XthPUigkh2Ro"
   },
   "outputs": [
    {
     "name": "stdout",
     "output_type": "stream",
     "text": [
      "9\n",
      "10\n"
     ]
    }
   ],
   "source": [
    "# Write a function getSumOfLastDigits() that takes in a list of positive numbers and returns the sum of all the last digits in the list.\n",
    "# getSumOfLastDigits([2, 3, 4])\n",
    "# 9\n",
    "# getSumOfLastDigits([1, 23, 456])\n",
    "# 10\n",
    "\n",
    "def getSumOfLastDigits(lst):\n",
    "    arr = []\n",
    "    for i in lst:\n",
    "        i = i % 10\n",
    "        arr.append(i)\n",
    "    print(sum(arr))\n",
    "\n",
    "getSumOfLastDigits([2, 3, 4])\n",
    "getSumOfLastDigits([1, 23, 456])\n",
    "\n",
    "\n",
    "\n"
   ]
  },
  {
   "cell_type": "code",
   "execution_count": 4,
   "metadata": {
    "id": "T-uIqm9Mh2Un"
   },
   "outputs": [
    {
     "name": "stdout",
     "output_type": "stream",
     "text": [
      "My name is Lim. I am 20 years old.\n",
      "My name is Ahmad. My age is secret.\n"
     ]
    }
   ],
   "source": [
    "# Write a function that uses a default value.\n",
    "# In - introduce('Lim', 20)\n",
    "# Out - 'My name is Lim. I am 20 years old.'\n",
    "# In - introduce('Ahmad')\n",
    "# Out - 'My name is Ahmad. My age is secret.'\n",
    "\n",
    "def introduce(name, age=0):\n",
    "    msg = \"My name is %s. \" % name\n",
    "    if age == 0:\n",
    "       msg += \"My age is secret.\"\n",
    "    else:\n",
    "       msg += \"I am %s years old.\" % age \n",
    "    print(msg)\n",
    "    \n",
    "introduce('Lim', 20)\n",
    "introduce('Ahmad')"
   ]
  },
  {
   "cell_type": "code",
   "execution_count": 3,
   "metadata": {
    "id": "h0pXo5vH6wA-"
   },
   "outputs": [
    {
     "name": "stdout",
     "output_type": "stream",
     "text": [
      "False\n",
      "True\n",
      "False\n"
     ]
    }
   ],
   "source": [
    "# Write a function isEquilateral(x, y, z) that accepts the 3 sides of a triangle as arguments. \n",
    "# The program should return True if it is an equilateral triangle.\n",
    "\n",
    "# In - isEquilateral(2, 4, 3)\n",
    "# False - False\n",
    "# In - isEquilateral(3, 3, 3)\n",
    "# Out - True\n",
    "# In - isEquilateral(-3, -3, -3)\n",
    "# Out - False\n",
    "\n",
    "\n",
    "def isEquilateral(x, y, z):\n",
    "    if x == y == z and x>0:\n",
    "        print(True)\n",
    "    else:\n",
    "        print(False)\n",
    "\n",
    "isEquilateral(2, 4, 3)\n",
    "isEquilateral(3, 3, 3)\n",
    "isEquilateral(-3, -3, -3)"
   ]
  },
  {
   "cell_type": "code",
   "execution_count": 7,
   "metadata": {
    "id": "3NvcKCkn6wFy"
   },
   "outputs": [
    {
     "name": "stdout",
     "output_type": "stream",
     "text": [
      "The discriminant is -8\n",
      "The discriminant is 1\n",
      "The discriminant is 0\n"
     ]
    }
   ],
   "source": [
    "# For a quadratic equation in the form of ax2+bx+c, the discriminant, D is b2-4ac. Write a function to compute the discriminant, D.\n",
    "# In - quadratic(1, 2, 3)\n",
    "# Out - 'The discriminant is -8.'\n",
    "# In - quadratic(1, 3, 2)\n",
    "# Out - 'The discriminant is 1.'\n",
    "# In - quadratic(1, 4, 4)\n",
    "# Out - 'The discriminant is 0.'\n",
    "\n",
    "def quadratic(a, b, c):\n",
    "    D = (b**2)-(4*a*c)\n",
    "    print(f'The discriminant is {D}')\n",
    "quadratic(1, 2, 3)\n",
    "quadratic(1, 3, 2)\n",
    "quadratic(1, 4, 4)\n",
    "\n"
   ]
  },
  {
   "cell_type": "code",
   "execution_count": 23,
   "metadata": {
    "id": "ihmuttBS6wJQ"
   },
   "outputs": [
    {
     "name": "stdout",
     "output_type": "stream",
     "text": [
      "0\n",
      "5\n",
      "10\n"
     ]
    }
   ],
   "source": [
    "# Define a function calls addFirstAndLast(x) that takes in a list of numbers and returns the sum of the first and last numbers.\n",
    "# In - addFirstAndLast([])\n",
    "# Out - 0\n",
    "# In - addFirstAndLast([2, 7, 3])\n",
    "# Out - 5\n",
    "# In - addFirstAndLast([10])\n",
    "# Out - 10\n",
    "\n",
    "# def addFirstAndLast(lst):\n",
    "#     for i in lst:\n",
    "#         print(l)\n",
    "        \n",
    "# addFirstAndLast([])\n",
    "# addFirstAndLast([2, 7, 3])\n",
    "    \n",
    "def addFirstAndLast(l1):\n",
    "     if len(l1) == 0:\n",
    "        return 0\n",
    "     elif len(l1) == 1:\n",
    "        return l1[0]\n",
    "     else:\n",
    "        return l1[0] + l1[-1]\n",
    "    \n",
    "print(addFirstAndLast([]))\n",
    "print(AddFirstAndLast([2, 7, 3]))\n",
    "print(addFirstAndLast([10]))"
   ]
  },
  {
   "cell_type": "code",
   "execution_count": 10,
   "metadata": {
    "id": "lEt9HNPI6wM0"
   },
   "outputs": [
    {
     "name": "stdout",
     "output_type": "stream",
     "text": [
      "True\n"
     ]
    }
   ],
   "source": [
    "# Complete the 'lambda' expression so that it returns True if the argument is an even number, and False otherwise.\n",
    "\n",
    "is_even = lambda num : num % 2 == 0\n",
    "print(is_even(6))"
   ]
  },
  {
   "cell_type": "code",
   "execution_count": 25,
   "metadata": {
    "id": "JYWSZXPg6wQN"
   },
   "outputs": [
    {
     "data": {
      "text/plain": [
       "'A function that computes and returns the final score.'"
      ]
     },
     "execution_count": 25,
     "metadata": {},
     "output_type": "execute_result"
    }
   ],
   "source": [
    "# getScore.__doc__\n",
    "# 'A function that computes and returns the final score.'\n",
    "\n",
    "def getScore(data):\n",
    "    \"A function that computes and returns the final score.\"\n",
    "    return score \n",
    "\n",
    "getScore.__doc__"
   ]
  },
  {
   "cell_type": "code",
   "execution_count": 19,
   "metadata": {
    "id": "zmi81hi76wTK"
   },
   "outputs": [
    {
     "name": "stdout",
     "output_type": "stream",
     "text": [
      "25\n",
      "100\n",
      "1\n"
     ]
    }
   ],
   "source": [
    "# In Python, it is possible to pass a function as a argument to another function. \n",
    "# Write a function useFunction(func, num) that takes in a function and a number as arguments. \n",
    "# The useFunction should produce the output shown in the examples given below.\n",
    "\n",
    "# def addOne(x):\n",
    "#   return x + 1\n",
    "# useFunction(addOne, 4)\n",
    "# 25\n",
    "# useFunction(addOne, 9)\n",
    "# 100\n",
    "# useFunction(addOne, 0)\n",
    "# 1\n",
    "\n",
    "def addOne(x):\n",
    "    return x + 1\n",
    "def useFunction(addOne, x):\n",
    "    return addOne(x)**2\n",
    "\n",
    "print(useFunction(addOne, 4))\n",
    "print(useFunction(addOne, 9))\n",
    "print(useFunction(addOne, 0))\n"
   ]
  }
 ],
 "metadata": {
  "colab": {
   "name": "Function_Assignment.ipynb",
   "provenance": []
  },
  "kernelspec": {
   "display_name": "Python 3",
   "language": "python",
   "name": "python3"
  },
  "language_info": {
   "codemirror_mode": {
    "name": "ipython",
    "version": 3
   },
   "file_extension": ".py",
   "mimetype": "text/x-python",
   "name": "python",
   "nbconvert_exporter": "python",
   "pygments_lexer": "ipython3",
   "version": "3.8.3"
  }
 },
 "nbformat": 4,
 "nbformat_minor": 1
}
