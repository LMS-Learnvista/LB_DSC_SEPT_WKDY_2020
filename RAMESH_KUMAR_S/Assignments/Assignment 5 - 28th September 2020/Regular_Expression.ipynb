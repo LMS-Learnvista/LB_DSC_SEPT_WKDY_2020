{
 "cells": [
  {
   "cell_type": "markdown",
   "metadata": {},
   "source": [
    "# Assignment 5 - 28th Spetember 2020 - Regular Expression"
   ]
  },
  {
   "cell_type": "code",
   "execution_count": 261,
   "metadata": {
    "id": "xMLU30SQxZCH"
   },
   "outputs": [],
   "source": [
    "#Write the regular expression and use proper method which gives output as:- 'cat' in str.\n",
    "import re\n",
    "str = 'cat mat bat rat'"
   ]
  },
  {
   "cell_type": "code",
   "execution_count": 262,
   "metadata": {},
   "outputs": [
    {
     "name": "stdout",
     "output_type": "stream",
     "text": [
      "\tGenerate the given output\n",
      "Value of input string str :  cat mat bat rat\n",
      "Result :\n",
      "cat\n"
     ]
    }
   ],
   "source": [
    "#Solution\n",
    "print(\"\\tGenerate the given output\")\n",
    "\n",
    "import re\n",
    "#Variable Declaration\n",
    "str = 'cat mat bat rat'\n",
    "print('Value of input string str : ', str)\n",
    "\n",
    "#Generate the given output\n",
    "print('Result :')\n",
    "input_regex = r'c\\w\\w'\n",
    "print(re.match(input_regex,str).group())"
   ]
  },
  {
   "cell_type": "code",
   "execution_count": null,
   "metadata": {
    "id": "zMiSTGMHx6Dv"
   },
   "outputs": [],
   "source": [
    "#Write the regular expression and use proper method which gives output as:- 'rat' in str.\n",
    "import re\n",
    "str = 'cat mat bat rat'"
   ]
  },
  {
   "cell_type": "code",
   "execution_count": 263,
   "metadata": {},
   "outputs": [
    {
     "name": "stdout",
     "output_type": "stream",
     "text": [
      "\tGenerate the given output\n",
      "Value of input string str :  cat mat bat rat\n",
      "Result :\n",
      "rat\n"
     ]
    }
   ],
   "source": [
    "#Solution\n",
    "print(\"\\tGenerate the given output\")\n",
    "\n",
    "import re\n",
    "#Variable Declaration\n",
    "str = 'cat mat bat rat'\n",
    "print('Value of input string str : ', str)\n",
    "\n",
    "#Generate the given output\n",
    "print('Result :')\n",
    "input_regex = r'r\\w\\w'\n",
    "print(re.search(input_regex,str).group())"
   ]
  },
  {
   "cell_type": "code",
   "execution_count": null,
   "metadata": {
    "id": "qBoYFjf5x6Mm"
   },
   "outputs": [],
   "source": [
    "#Write the regular expression and use proper method which gives output as:- ['mat', 'man'] in str.\n",
    "import re\n",
    "str = 'cat mat bat rat man'"
   ]
  },
  {
   "cell_type": "code",
   "execution_count": 264,
   "metadata": {},
   "outputs": [
    {
     "name": "stdout",
     "output_type": "stream",
     "text": [
      "\tGenerate the given output\n",
      "Value of input string str :  cat mat bat rat man\n",
      "Result :\n",
      "['mat', 'man']\n"
     ]
    }
   ],
   "source": [
    "#Solution\n",
    "print(\"\\tGenerate the given output\")\n",
    "\n",
    "import re\n",
    "#Variable Declaration\n",
    "str = 'cat mat bat rat man'\n",
    "print('Value of input string str : ', str)\n",
    "\n",
    "#Generate the given output\n",
    "print('Result :')\n",
    "input_regex = r'm\\w\\w'\n",
    "print(re.findall(input_regex,str))"
   ]
  },
  {
   "cell_type": "code",
   "execution_count": null,
   "metadata": {
    "id": "qmxmqzX_x6QR"
   },
   "outputs": [],
   "source": [
    "#Write the regular expression and use proper method which gives output as:- \n",
    "#['Python', 's', 'Programming', 'is', 'very', 'easy', 'to', 'learn'] in str.\n",
    "import re\n",
    "str = \"Python's Programming: is very easy to learn\""
   ]
  },
  {
   "cell_type": "code",
   "execution_count": 265,
   "metadata": {},
   "outputs": [
    {
     "name": "stdout",
     "output_type": "stream",
     "text": [
      "\tGenerate the given output\n",
      "Value of input string str :  Python's Programming: is very easy to learn\n",
      "Result :\n",
      "['Python', 's', 'Programming', 'is', 'very', 'easy', 'to', 'learn']\n"
     ]
    }
   ],
   "source": [
    "#Solution\n",
    "print(\"\\tGenerate the given output\")\n",
    "\n",
    "import re\n",
    "#Variable Declaration\n",
    "str = \"Python's Programming: is very easy to learn\"\n",
    "print('Value of input string str : ', str)\n",
    "\n",
    "#Generate the given output\n",
    "print('Result :')\n",
    "input_regex = r'\\w+'\n",
    "print(re.findall(input_regex,str))"
   ]
  },
  {
   "cell_type": "code",
   "execution_count": null,
   "metadata": {
    "id": "LxGl1o7px6Vi"
   },
   "outputs": [],
   "source": [
    "#Write the regular expression and use proper method which gives output as:- Python Programming: is very easy to learn in str.\n",
    "import re\n",
    "str = \"Python's Programming: is very easy to learn\""
   ]
  },
  {
   "cell_type": "code",
   "execution_count": 266,
   "metadata": {},
   "outputs": [
    {
     "name": "stdout",
     "output_type": "stream",
     "text": [
      "\tGenerate the given output\n",
      "Value of input string str :  Python's Programming: is very easy to learn\n",
      "Result :\n",
      "Python Programming: is very easy to learn\n"
     ]
    }
   ],
   "source": [
    "#Solution\n",
    "print(\"\\tGenerate the given output\")\n",
    "\n",
    "import re\n",
    "#Variable Declaration\n",
    "str = \"Python's Programming: is very easy to learn\"\n",
    "print('Value of input string str : ', str)\n",
    "\n",
    "#Generate the given output\n",
    "print('Result :')\n",
    "input_regex = r\"'s\"\n",
    "print(re.sub(input_regex,'',str))"
   ]
  },
  {
   "cell_type": "code",
   "execution_count": null,
   "metadata": {
    "id": "9uIpb614x6Yb"
   },
   "outputs": [],
   "source": [
    "#Write the regular expression and use proper method which Retrieves all words starting with p.\n",
    "#Output:- ['peter', 'per', 'picked', 'peck', 'pickled', 'peppers']\n",
    "import re\n",
    "str = \"peter giper picked a peck of pickled peppers\""
   ]
  },
  {
   "cell_type": "code",
   "execution_count": 267,
   "metadata": {},
   "outputs": [
    {
     "name": "stdout",
     "output_type": "stream",
     "text": [
      "\tGenerate the given output\n",
      "Value of input string str :  peter giper picked a peck of pickled peppers\n",
      "Result :\n",
      "['peter', 'per', 'picked', 'peck', 'pickled', 'peppers']\n"
     ]
    }
   ],
   "source": [
    "#Solution\n",
    "print(\"\\tGenerate the given output\")\n",
    "\n",
    "import re\n",
    "#Variable Declaration\n",
    "str = \"peter giper picked a peck of pickled peppers\"\n",
    "print('Value of input string str : ', str)\n",
    "\n",
    "#Generate the given output\n",
    "print('Result :')\n",
    "input_regex = r'[p]\\w*'\n",
    "print(re.findall(input_regex,str))"
   ]
  },
  {
   "cell_type": "code",
   "execution_count": null,
   "metadata": {
    "id": "N0vFkePdx6bN"
   },
   "outputs": [],
   "source": [
    "#Write the regular expression and use proper method which Retrieves all words starting with p except 'per' which is not a separate word.\n",
    "#Output:- ['peter', 'picked', 'peck', 'pickled', 'peppers']\n",
    "import re\n",
    "str = \"peter giper picked a peck of pickled peppers\""
   ]
  },
  {
   "cell_type": "code",
   "execution_count": 2,
   "metadata": {},
   "outputs": [
    {
     "name": "stdout",
     "output_type": "stream",
     "text": [
      "\tGenerate the given output\n",
      "Value of input string str :  peter giper picked a peck of pickled peppers\n",
      "Result :\n",
      "['peter', 'picked', 'peck', 'pickled', 'peppers']\n"
     ]
    }
   ],
   "source": [
    "#Solution\n",
    "print(\"\\tGenerate the given output\")\n",
    "\n",
    "import re\n",
    "#Variable Declaration\n",
    "str = \"peter giper picked a peck of pickled peppers\"\n",
    "print('Value of input string str : ', str)\n",
    "\n",
    "#Generate the given output\n",
    "print('Result :')\n",
    "input_regex = r'\\b[p]\\w*\\b'\n",
    "print(re.findall(input_regex,str))"
   ]
  },
  {
   "cell_type": "code",
   "execution_count": null,
   "metadata": {
    "id": "mbiypO3yx6eE"
   },
   "outputs": [],
   "source": [
    "#Write the regular expression and use proper method which Retrieves all words starting with a digit.\n",
    "#Output:- ['8th', '11th']\n",
    "import re\n",
    "str = 'The election in delhi will be held on 8th and result for the same will be declared on 11th'"
   ]
  },
  {
   "cell_type": "code",
   "execution_count": 269,
   "metadata": {},
   "outputs": [
    {
     "name": "stdout",
     "output_type": "stream",
     "text": [
      "\tGenerate the given output\n",
      "Value of input string str :  The election in delhi will be held on 8th and result for the same will be declared on 11th\n",
      "Result :\n",
      "['8th', '11th']\n"
     ]
    }
   ],
   "source": [
    "#Solution\n",
    "print(\"\\tGenerate the given output\")\n",
    "\n",
    "import re\n",
    "#Variable Declaration\n",
    "str = \"The election in delhi will be held on 8th and result for the same will be declared on 11th\"\n",
    "print('Value of input string str : ', str)\n",
    "\n",
    "#Generate the given output\n",
    "print('Result :')\n",
    "input_regex = r'[\\d]\\w*'\n",
    "print(re.findall(input_regex,str))"
   ]
  },
  {
   "cell_type": "code",
   "execution_count": null,
   "metadata": {
    "id": "6ZUWWd6bx6g8"
   },
   "outputs": [],
   "source": [
    "#Write the regular expression and use proper method which Retrieves all words having 5 characters.\n",
    "#Output:- ['peter', 'giper']\n",
    "import re\n",
    "str = \"peter giper picked a peck of pickled peppers\""
   ]
  },
  {
   "cell_type": "code",
   "execution_count": 270,
   "metadata": {},
   "outputs": [
    {
     "name": "stdout",
     "output_type": "stream",
     "text": [
      "\tGenerate the given output\n",
      "Value of input string str :  peter giper picked a peck of pickled peppers\n",
      "Result :\n",
      "['peter', 'giper']\n"
     ]
    }
   ],
   "source": [
    "#Solution\n",
    "print(\"\\tGenerate the given output\")\n",
    "\n",
    "import re\n",
    "#Variable Declaration\n",
    "str = \"peter giper picked a peck of pickled peppers\"\n",
    "print('Value of input string str : ', str)\n",
    "\n",
    "#Generate the given output\n",
    "print('Result :')\n",
    "input_regex = r'\\b\\w{5}\\b'\n",
    "print(re.findall(input_regex,str))"
   ]
  },
  {
   "cell_type": "code",
   "execution_count": null,
   "metadata": {
    "id": "syuXvEXox6jt"
   },
   "outputs": [],
   "source": [
    "#Write the regular expression and use proper method which Retrieves all words having at least 4 characters.\n",
    "#Output:- ['Retrieving',  'words', 'having', 'least', 'characters']\n",
    "import re\n",
    "str = \"Retrieving all words having at least 4 characters\""
   ]
  },
  {
   "cell_type": "code",
   "execution_count": 271,
   "metadata": {},
   "outputs": [
    {
     "name": "stdout",
     "output_type": "stream",
     "text": [
      "\tGenerate the given output\n",
      "Value of input string str :  Retrieving all words having at least 4 characters\n",
      "Result :\n",
      "['Retrieving', 'words', 'having', 'least', 'characters']\n"
     ]
    }
   ],
   "source": [
    "#Solution\n",
    "print(\"\\tGenerate the given output\")\n",
    "\n",
    "import re\n",
    "#Variable Declaration\n",
    "str = \"Retrieving all words having at least 4 characters\"\n",
    "print('Value of input string str : ', str)\n",
    "\n",
    "#Generate the given output\n",
    "print('Result :')\n",
    "input_regex = r'\\w{4,}'\n",
    "print(re.findall(input_regex,str))"
   ]
  },
  {
   "cell_type": "code",
   "execution_count": null,
   "metadata": {
    "id": "MtXo1Hf8x6ma"
   },
   "outputs": [],
   "source": [
    "#Write the regular expression and use proper method which Retrieves all words having at characters between 3 to 5 words.\n",
    "#Output:- ['all', 'words', 'least']\n",
    "import re\n",
    "str = \"Retrieving all words having at least 4 characters\""
   ]
  },
  {
   "cell_type": "code",
   "execution_count": 272,
   "metadata": {},
   "outputs": [
    {
     "name": "stdout",
     "output_type": "stream",
     "text": [
      "\tGenerate the given output\n",
      "Value of input string str :  Retrieving all words having at least 4 characters\n",
      "Result :\n",
      "['all', 'words', 'least']\n"
     ]
    }
   ],
   "source": [
    "#Solution\n",
    "print(\"\\tGenerate the given output\")\n",
    "\n",
    "import re\n",
    "#Variable Declaration\n",
    "str = \"Retrieving all words having at least 4 characters\"\n",
    "print('Value of input string str : ', str)\n",
    "\n",
    "#Generate the given output\n",
    "print('Result :')\n",
    "input_regex = r'\\b\\w{3,5}\\b'\n",
    "print(re.findall(input_regex,str))"
   ]
  },
  {
   "cell_type": "code",
   "execution_count": null,
   "metadata": {
    "id": "RlvMct7xx6pE"
   },
   "outputs": [],
   "source": [
    "#Write the regular expression and use proper method which Retrieves only digits from the string.\n",
    "#Output:- ['8', '11']\n",
    "import re\n",
    "str = 'The election in delhi will be held on 8 and result for the same will be declared on 11'"
   ]
  },
  {
   "cell_type": "code",
   "execution_count": 273,
   "metadata": {},
   "outputs": [
    {
     "name": "stdout",
     "output_type": "stream",
     "text": [
      "\tGenerate the given output\n",
      "Value of input string str :  The election in delhi will be held on 8 and result for the same will be declared on 11\n",
      "Result :\n",
      "['8', '11']\n"
     ]
    }
   ],
   "source": [
    "#Solution\n",
    "print(\"\\tGenerate the given output\")\n",
    "\n",
    "import re\n",
    "#Variable Declaration\n",
    "str = \"The election in delhi will be held on 8 and result for the same will be declared on 11\"\n",
    "print('Value of input string str : ', str)\n",
    "\n",
    "#Generate the given output\n",
    "print('Result :')\n",
    "input_regex = r'\\d+'\n",
    "print(re.findall(input_regex,str))"
   ]
  },
  {
   "cell_type": "code",
   "execution_count": null,
   "metadata": {
    "id": "wdD4cSyJx6us"
   },
   "outputs": [],
   "source": [
    "#Write the regular expression and use proper method which Retrieves last word if starts with c from the given string.\n",
    "#Output:- ['characters']\n",
    "import re\n",
    "str = \"Retrieving all words having at least 4 characters\""
   ]
  },
  {
   "cell_type": "code",
   "execution_count": 4,
   "metadata": {},
   "outputs": [
    {
     "name": "stdout",
     "output_type": "stream",
     "text": [
      "\tGenerate the given output\n",
      "Value of input string str :  Retrieving all words having at least 4 characters\n",
      "Result :\n",
      "['characters']\n"
     ]
    }
   ],
   "source": [
    "#Solution\n",
    "print(\"\\tGenerate the given output\")\n",
    "\n",
    "import re\n",
    "#Variable Declaration\n",
    "str = \"Retrieving all words having at least 4 characters\"\n",
    "print('Value of input string str : ', str)\n",
    "\n",
    "#Generate the given output\n",
    "print('Result :')\n",
    "input_regex = r'\\bc\\w*\\Z\\b'\n",
    "print(re.findall(input_regex,str))"
   ]
  },
  {
   "cell_type": "code",
   "execution_count": null,
   "metadata": {
    "id": "HsVGzJVbx6sl"
   },
   "outputs": [],
   "source": [
    "#Write the regular expression and use proper method which Retrieves a phone number from the given string.\n",
    "#Output:- 1234567890\n",
    "import re\n",
    "str = \"Learnbay : 1234567890\""
   ]
  },
  {
   "cell_type": "code",
   "execution_count": 275,
   "metadata": {},
   "outputs": [
    {
     "name": "stdout",
     "output_type": "stream",
     "text": [
      "\tGenerate the given output\n",
      "Value of input string str :  Learnbay : 1234567890\n",
      "Result :\n",
      "1234567890\n"
     ]
    }
   ],
   "source": [
    "#Solution\n",
    "print(\"\\tGenerate the given output\")\n",
    "\n",
    "import re\n",
    "#Variable Declaration\n",
    "str = \"Learnbay : 1234567890\"\n",
    "print('Value of input string str : ', str)\n",
    "\n",
    "#Generate the given output\n",
    "print('Result :')\n",
    "input_regex = r'\\d+'\n",
    "print(re.search(input_regex,str).group())"
   ]
  },
  {
   "cell_type": "code",
   "execution_count": null,
   "metadata": {
    "id": "LvG3jTtvyQKk"
   },
   "outputs": [],
   "source": [
    "##Write the regular expression and use proper method which Etracts name from the string but not number.\n",
    "#Output:- Learnbay : \n",
    "import re\n",
    "str = \"Learnbay : 1234567890\""
   ]
  },
  {
   "cell_type": "code",
   "execution_count": 276,
   "metadata": {},
   "outputs": [
    {
     "name": "stdout",
     "output_type": "stream",
     "text": [
      "\tGenerate the given output\n",
      "Value of input string str :  Learnbay : 1234567890\n",
      "Result :\n",
      "Learnbay : \n"
     ]
    }
   ],
   "source": [
    "#Solution\n",
    "print(\"\\tGenerate the given output\")\n",
    "\n",
    "import re\n",
    "#Variable Declaration\n",
    "str = \"Learnbay : 1234567890\"\n",
    "print('Value of input string str : ', str)\n",
    "\n",
    "#Generate the given output\n",
    "print('Result :')\n",
    "input_regex = r'\\D*'\n",
    "print(re.search(input_regex,str).group())"
   ]
  },
  {
   "cell_type": "code",
   "execution_count": null,
   "metadata": {
    "id": "drArGXgKyQNz"
   },
   "outputs": [],
   "source": [
    "##Write the regular expression and use proper method which Retrieves name starting with 'an' or 'ak'.\n",
    "#Output:- ['anil', 'akhil', 'anant', 'ankur']\n",
    "import re\n",
    "str = 'anil akhil anant abhi arun arati arundhati abhijit ankur'"
   ]
  },
  {
   "cell_type": "code",
   "execution_count": 277,
   "metadata": {},
   "outputs": [
    {
     "name": "stdout",
     "output_type": "stream",
     "text": [
      "\tGenerate the given output\n",
      "Value of input string str :  anil akhil anant abhi arun arati arundhati abhijit ankur\n",
      "Result :\n",
      "['anil', 'akhil', 'anant', 'ankur']\n"
     ]
    }
   ],
   "source": [
    "#Solution\n",
    "print(\"\\tGenerate the given output\")\n",
    "\n",
    "import re\n",
    "#Variable Declaration\n",
    "str = \"anil akhil anant abhi arun arati arundhati abhijit ankur\"\n",
    "print('Value of input string str : ', str)\n",
    "\n",
    "#Generate the given output\n",
    "print('Result :')\n",
    "input_regex = r'a[n]\\w+|a[k]\\w+'\n",
    "print(re.findall(input_regex,str))"
   ]
  }
 ],
 "metadata": {
  "colab": {
   "name": "Regular_Expression.ipynb",
   "provenance": []
  },
  "kernelspec": {
   "display_name": "Python 3",
   "language": "python",
   "name": "python3"
  },
  "language_info": {
   "codemirror_mode": {
    "name": "ipython",
    "version": 3
   },
   "file_extension": ".py",
   "mimetype": "text/x-python",
   "name": "python",
   "nbconvert_exporter": "python",
   "pygments_lexer": "ipython3",
   "version": "3.8.3"
  }
 },
 "nbformat": 4,
 "nbformat_minor": 1
}
