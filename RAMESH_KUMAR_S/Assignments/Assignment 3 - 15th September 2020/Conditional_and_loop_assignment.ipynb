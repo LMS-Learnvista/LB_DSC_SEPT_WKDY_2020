{
 "cells": [
  {
   "cell_type": "markdown",
   "metadata": {},
   "source": [
    "# Assignment - 3 - 15th September 2020 - Flow Control"
   ]
  },
  {
   "cell_type": "markdown",
   "metadata": {
    "colab_type": "text",
    "id": "wNRNTbrsc53d"
   },
   "source": [
    "# If - elif - else statement"
   ]
  },
  {
   "cell_type": "code",
   "execution_count": null,
   "metadata": {
    "colab": {},
    "colab_type": "code",
    "id": "MiPfTnBycxNa"
   },
   "outputs": [],
   "source": [
    "#W. A P. which takes one number from 0 to 9 from the user and prints it in the word. And if the word is not from 0 to 9 then\n",
    "#it should print that number is outside of the range and program should exit.\n",
    "# For exapmple:- \n",
    "# input = 1\n",
    "# output = one"
   ]
  },
  {
   "cell_type": "code",
   "execution_count": 1,
   "metadata": {},
   "outputs": [
    {
     "name": "stdout",
     "output_type": "stream",
     "text": [
      "Solution : \n",
      "\tPrint Number in Words\n",
      "Enter a number : 8\n",
      "Entered number 8 in words is Eight\n"
     ]
    }
   ],
   "source": [
    "#Solution\n",
    "#Print Number in Words\n",
    "print(\"Solution : \")\n",
    "print(\"\\tPrint Number in Words\")\n",
    "\n",
    "#Varaible Declaration\n",
    "a=int(input(\"Enter a number : \"))\n",
    "\n",
    "if(a==0):\n",
    "    print(\"Entered number\" ,a,\"in words is Zero\")\n",
    "elif(a==1):\n",
    "    print(\"Entered number\" ,a,\"in words is One\")\n",
    "elif(a==2):\n",
    "    print(\"Entered number\" ,a,\"in words is Two\")\n",
    "elif(a==3):\n",
    "    print(\"Entered number\" ,a,\"in words is Three\")\n",
    "elif(a==4):\n",
    "    print(\"Entered number\" ,a,\"in words is Four\")\n",
    "elif(a==5):\n",
    "    print(\"Entered number\" ,a,\"in words is Five\")\n",
    "elif(a==6):\n",
    "    print(\"Entered number\" ,a,\"in words is Six\")\n",
    "elif(a==7):\n",
    "    print(\"Entered number\" ,a,\"in words is Seven\")\n",
    "elif(a==8):\n",
    "    print(\"Entered number\" ,a,\"in words is Eight\")\n",
    "elif(a==9):\n",
    "    print(\"Entered number\" ,a,\"in words is Nine\")\n",
    "else:\n",
    "    print(\"Enter a number between 0-9\")"
   ]
  },
  {
   "cell_type": "code",
   "execution_count": null,
   "metadata": {
    "colab": {},
    "colab_type": "code",
    "id": "vEMNOv9zdA39"
   },
   "outputs": [],
   "source": [
    "#W. A P. to implement calculator but the operation to be done and two numbers will be taken as input from user:-\n",
    "#Operation console should show below:-\n",
    "#     Please select any one operation from below:-\n",
    "#         * To add enter 1\n",
    "#         * to subtract enter 2\n",
    "#         * To multiply enter 3\n",
    "#         * To divide enter 4\n",
    "#         * To divide and find quotient enter 5\n",
    "#         * To divide and find remainder enter 6\n",
    "#         * To divide and find num1 to the power of num2 enter 7\n",
    "#         * To Come out of the program enter 8"
   ]
  },
  {
   "cell_type": "code",
   "execution_count": 1,
   "metadata": {},
   "outputs": [
    {
     "name": "stdout",
     "output_type": "stream",
     "text": [
      "Solution : \n",
      "\tCalculator\n",
      "Enter a number : 10\n",
      "Enter a number : 5\n",
      " \t * To add enter 1\n",
      "         * to subtract enter 2\n",
      "         * To multiply enter 3\n",
      "         * To divide enter 4\n",
      "         * To divide and find quotient enter 5\n",
      "         * To divide and find remainder enter 6\n",
      "         * To divide and find num1 to the power of num2 enter 7\n",
      "         * To Come out of the program enter 8\n",
      "Enter a number for operation : 4\n",
      "Entered operation is Float Division and the result is 2.0\n"
     ]
    }
   ],
   "source": [
    "#Solution\n",
    "#Calculator\n",
    "print(\"Solution : \")\n",
    "print(\"\\tCalculator\")\n",
    "\n",
    "#Varaible Declaration\n",
    "a=int(input(\"Enter a number : \"))\n",
    "b=int(input(\"Enter a number : \"))\n",
    "\n",
    "#Operations\n",
    "print(''' \\t * To add enter 1\n",
    "         * to subtract enter 2\n",
    "         * To multiply enter 3\n",
    "         * To divide enter 4\n",
    "         * To divide and find quotient enter 5\n",
    "         * To divide and find remainder enter 6\n",
    "         * To divide and find num1 to the power of num2 enter 7\n",
    "         * To Come out of the program enter 8''')\n",
    "op=int(input(\"Enter a number for operation : \"))\n",
    "\n",
    "if(op==1):\n",
    "    print(\"Entered operation is Add and the result is\" ,a+b)\n",
    "elif(op==2):\n",
    "    print(\"Entered operation is Subtract and the result is\" ,a-b)\n",
    "elif(op==3):\n",
    "    print(\"Entered operation is Multiply and the result is\" ,a*b)\n",
    "elif(op==4):\n",
    "    print(\"Entered operation is Float Division and the result is\" ,a/b)\n",
    "elif(op==5):\n",
    "    print(\"Entered operation is Floor Division and the result is\" ,a//b)\n",
    "elif(op==6):\n",
    "    print(\"Entered operation is Modules and the result is\" ,a%b)\n",
    "elif(op==7):\n",
    "    print(\"Entered operation is Power and the result is\" ,a**b)\n",
    "elif(op==8):\n",
    "    print(\"Entered operation is Break and the result is End\")\n",
    "else:\n",
    "    print(\"Enter a number between 1-8\")"
   ]
  },
  {
   "cell_type": "code",
   "execution_count": null,
   "metadata": {
    "colab": {},
    "colab_type": "code",
    "id": "1e2gwYLqdC1s"
   },
   "outputs": [],
   "source": [
    "#W A P to check whether a year entered by user is an leap year or not?\n",
    "#Check with below input:-\n",
    "    #leap year:- 2012, 1968, 2004, 1200, 1600,2400\n",
    "    #Non-lear year:- 1971, 2006, 1700,1800,1900`"
   ]
  },
  {
   "cell_type": "code",
   "execution_count": 2,
   "metadata": {},
   "outputs": [
    {
     "name": "stdout",
     "output_type": "stream",
     "text": [
      "Solution : \n",
      "\tLeap Year or Non Leap Year\n",
      "Enter a year : 1900\n",
      "It is a Non Leap Year\n"
     ]
    }
   ],
   "source": [
    "#Solution\n",
    "#Leap Year or Non Leap Year\n",
    "print(\"Solution : \")\n",
    "print(\"\\tLeap Year or Non Leap Year\")\n",
    "\n",
    "#Varaible Declaration\n",
    "a=int(input(\"Enter a year : \"))\n",
    "\n",
    "#Leap Year or Non Leap Year\n",
    "if(a%4 == 0):\n",
    "    if(a%100 == 0):\n",
    "        if(a%400 == 0):\n",
    "            print(\"It is a Leap Year\")\n",
    "        else:\n",
    "            print(\"It is a Non Leap Year\")\n",
    "    else:\n",
    "        print(\"It is a Leap Year\")\n",
    "else:\n",
    "    print(\"It is a Non Leap Year\")"
   ]
  },
  {
   "cell_type": "code",
   "execution_count": null,
   "metadata": {
    "colab": {},
    "colab_type": "code",
    "id": "_tpXv1EtdEre"
   },
   "outputs": [],
   "source": [
    "#W A P which takes one number from the user and checks whether it is an even or odd number?, If it even then prints number is \n",
    "#even number else prints that number is odd number."
   ]
  },
  {
   "cell_type": "code",
   "execution_count": 3,
   "metadata": {},
   "outputs": [
    {
     "name": "stdout",
     "output_type": "stream",
     "text": [
      "Solution : \n",
      "\tOdd or Even Number\n",
      "Enter a number : 10000000000009\n",
      "It is odd number\n"
     ]
    }
   ],
   "source": [
    "#Solution\n",
    "#Odd or Even Number\n",
    "print(\"Solution : \")\n",
    "print(\"\\tOdd or Even Number\")\n",
    "\n",
    "#Varaible Declaration\n",
    "a=int(input(\"Enter a number : \"))\n",
    "\n",
    "#Odd or Even Number\n",
    "if(a%2 == 0):\n",
    "    print(\"It is even number\")\n",
    "else:\n",
    "    print(\"It is odd number\")"
   ]
  },
  {
   "cell_type": "code",
   "execution_count": null,
   "metadata": {
    "colab": {},
    "colab_type": "code",
    "id": "Q1HumymCdG6i"
   },
   "outputs": [],
   "source": [
    "#W A P which takes two numbers from the user and prints below output:-\n",
    "#     1. num1 is greater than num2 if num1 is greater than num2\n",
    "#     2. num1 is smaller than num2 if num1 is smaller than num2\n",
    "#     3. num1 is equal to num2 if num1 and num2 are equal\n",
    "\n",
    "#Note:- 1. Do this problem using if - else \n",
    "#       2. Do this using ternary operator"
   ]
  },
  {
   "cell_type": "code",
   "execution_count": 4,
   "metadata": {},
   "outputs": [
    {
     "name": "stdout",
     "output_type": "stream",
     "text": [
      "Solution : \n",
      "\tGreatest of two numbers\n",
      "Enter a number : 10\n",
      "Enter a number : 10\n",
      "Solution A : \n",
      "Using if - else : \n",
      "\tResult : num1 is equal to num2\n",
      "\n",
      "Solution B : \n",
      "Using Ternary operator : \n",
      "\tResult : num1 is equal to num2\n"
     ]
    }
   ],
   "source": [
    "#Solution\n",
    "#Greatest of two numbers\n",
    "print(\"Solution : \")\n",
    "print(\"\\tGreatest of two numbers\")\n",
    "\n",
    "#Varaible Declaration\n",
    "num1=int(input(\"Enter a number : \"))\n",
    "num2=int(input(\"Enter a number : \"))\n",
    "\n",
    "#Greatest of two numbers\n",
    "#Using if - else\n",
    "print(\"Solution A : \")\n",
    "print(\"Using if - else : \")\n",
    "if(num1 > num2):\n",
    "    print(\"\\tResult : num1 is greater than num2\")\n",
    "else:\n",
    "    if(num1 < num2):\n",
    "        print(\"\\tResult : num1 is smaller than num2\")\n",
    "    else:\n",
    "        print(\"\\tResult : num1 is equal to num2\")\n",
    "    \n",
    "print()\n",
    "#Using Ternary operator\n",
    "print(\"Solution B : \")\n",
    "print(\"Using Ternary operator : \")\n",
    "result = \"\\tResult : num1 is greater than num2\" if num1 > num2 else \"\\tResult : num1 is smaller than num2\" if num1 < num2 else \"\\tResult : num1 is equal to num2\"\n",
    "print(result)"
   ]
  },
  {
   "cell_type": "code",
   "execution_count": null,
   "metadata": {
    "colab": {},
    "colab_type": "code",
    "id": "LR6TVB-DdOPf"
   },
   "outputs": [],
   "source": [
    "#W A P which takes three numbers from the user and prints below output:-\n",
    "#     1. num1 is greater than num2 and num3 if num1 is greater than num2 and num3\n",
    "#     2. num2 is greater than num1 and num3 if num2 is greater than num1 and num3\n",
    "#     3. num3 is greater than num1 and num2 if num3 is greater than num1 and num2\n",
    "\n",
    "#Note:- 1. Do this problem using if - elif - else \n",
    "#       2. Do this using ternary operator\n",
    "\n",
    "# a = a if a>b else b\n",
    "expr if cond1 else expr2 if cond2 else expr3"
   ]
  },
  {
   "cell_type": "code",
   "execution_count": 5,
   "metadata": {},
   "outputs": [
    {
     "name": "stdout",
     "output_type": "stream",
     "text": [
      "Solution : \n",
      "\tGreatest of three numbers\n",
      "Enter a number : 5\n",
      "Enter a number : 10\n",
      "Enter a number : 15\n",
      "Solution A : \n",
      "Using if - else : \n",
      "\tResult : num3 is greater than num1 and num2\n",
      "\n",
      "Solution B : \n",
      "Using Ternary operator : \n",
      "\tResult : num3 is greater than num1 and num2\n"
     ]
    }
   ],
   "source": [
    "#Solution\n",
    "#Greatest of three numbers\n",
    "print(\"Solution : \")\n",
    "print(\"\\tGreatest of three numbers\")\n",
    "\n",
    "#Varaible Declaration\n",
    "num1=int(input(\"Enter a number : \"))\n",
    "num2=int(input(\"Enter a number : \"))\n",
    "num3=int(input(\"Enter a number : \"))\n",
    "\n",
    "#Greatest of three numbers\n",
    "#Using if - elif - else\n",
    "print(\"Solution A : \")\n",
    "print(\"Using if - else : \")\n",
    "if(num1 > num2 and num1 > num3):\n",
    "    print(\"\\tResult : num1 is greater than num2 and num3\")\n",
    "elif(num2 > num3):\n",
    "    print(\"\\tResult : num2 is greater than num1 and num3\")\n",
    "else:\n",
    "    print(\"\\tResult : num3 is greater than num1 and num2\")\n",
    "    \n",
    "print()\n",
    "#Using Ternary operator\n",
    "print(\"Solution B : \")\n",
    "print(\"Using Ternary operator : \")\n",
    "result = \"\\tResult : num1 is greater than num2 and num3\" if num1 > num2 and num1 > num3 else \"\\tResult : num2 is greater than num1 and num3\" if num2 > num3 else \"\\tResult : num3 is greater than num1 and num2\"\n",
    "print(result)"
   ]
  },
  {
   "cell_type": "markdown",
   "metadata": {
    "colab_type": "text",
    "id": "IoOLQMUGdSox"
   },
   "source": [
    "# Loops - for loop, while loop"
   ]
  },
  {
   "cell_type": "code",
   "execution_count": null,
   "metadata": {
    "colab": {},
    "colab_type": "code",
    "id": "9K23Uld8dQfA"
   },
   "outputs": [],
   "source": [
    "#Write a Python program to find the length of the my_str using loop:-\n",
    "\n",
    "#Input:- 'Write a Python program to find the length of the my_str'\n",
    "#Output:- 55"
   ]
  },
  {
   "cell_type": "code",
   "execution_count": 7,
   "metadata": {},
   "outputs": [
    {
     "name": "stdout",
     "output_type": "stream",
     "text": [
      "Solution : \n",
      "\tLength of the string using loop\n",
      "Enter a string : Write a Python program to find the length of the my_str\n",
      "The length of the entered string is  55\n"
     ]
    }
   ],
   "source": [
    "#Solution\n",
    "#Length of the string using loop\n",
    "print(\"Solution : \")\n",
    "print(\"\\tLength of the string using loop\")\n",
    "\n",
    "#Varaible Declaration\n",
    "my_str=input(\"Enter a string : \")\n",
    "\n",
    "#Length of the string using loop\n",
    "length=0\n",
    "for i in my_str :\n",
    "    length+=1\n",
    "print(\"The length of the entered string is \", length)"
   ]
  },
  {
   "cell_type": "code",
   "execution_count": 10,
   "metadata": {
    "colab": {},
    "colab_type": "code",
    "id": "bp6AcqTsdYxy"
   },
   "outputs": [],
   "source": [
    "#Write a Python program to find the total number of times letter 'p' is appeared in the below string using loop:-\n",
    "    \n",
    "#Input:- 'peter piper picked a peck of pickled peppers.\\n'\n",
    "#Output:- 9"
   ]
  },
  {
   "cell_type": "code",
   "execution_count": 9,
   "metadata": {},
   "outputs": [
    {
     "name": "stdout",
     "output_type": "stream",
     "text": [
      "Solution : \n",
      "\tNo of times for occurence of a character\n",
      "Enter a character : p\n",
      "No of times for occurence of entered character is  9\n"
     ]
    }
   ],
   "source": [
    "#Solution\n",
    "#No of times for occurence of a character\n",
    "print(\"Solution : \")\n",
    "print(\"\\tNo of times for occurence of a character\")\n",
    "\n",
    "#Varaible Declaration\n",
    "value='peter piper picked a peck of pickled peppers.\\n'\n",
    "my_str=input(\"Enter a character : \")\n",
    "\n",
    "#No of times for occurence of a character\n",
    "count=0\n",
    "for i in value :\n",
    "    if(i==my_str) :\n",
    "        count+=1\n",
    "print(\"No of times for occurence of entered character is \", count)"
   ]
  },
  {
   "cell_type": "code",
   "execution_count": null,
   "metadata": {
    "colab": {},
    "colab_type": "code",
    "id": "xvxSBhTJdav1"
   },
   "outputs": [],
   "source": [
    "#Write a Python Program, to print all the indexes of all occurences of letter 'p' appeared in the string using loop:-\n",
    "    \n",
    "#Input:- 'peter piper picked a peck of pickled peppers.'\n",
    "#Output:- \n",
    "# 0\n",
    "# 6\n",
    "# 8\n",
    "# 12\n",
    "# 21\n",
    "# 29\n",
    "# 37\n",
    "# 39\n",
    "# 40"
   ]
  },
  {
   "cell_type": "code",
   "execution_count": 10,
   "metadata": {},
   "outputs": [
    {
     "name": "stdout",
     "output_type": "stream",
     "text": [
      "Solution : \n",
      "\tIndex for occurence of a character\n",
      "Enter a character : p\n",
      "Index for occurence of entered character : \n",
      "0\n",
      "6\n",
      "8\n",
      "12\n",
      "21\n",
      "29\n",
      "37\n",
      "39\n",
      "40\n"
     ]
    }
   ],
   "source": [
    "#Solution\n",
    "#Index for occurence of a character\n",
    "print(\"Solution : \")\n",
    "print(\"\\tIndex for occurence of a character\")\n",
    "\n",
    "#Varaible Declaration\n",
    "value='peter piper picked a peck of pickled peppers.\\n'\n",
    "my_str=input(\"Enter a character : \")\n",
    "\n",
    "#Index for occurence of a character\n",
    "print(\"Index for occurence of entered character : \")\n",
    "for i in range(len(value)) :\n",
    "    if(value[i]==my_str) :\n",
    "        print(i)"
   ]
  },
  {
   "cell_type": "code",
   "execution_count": null,
   "metadata": {
    "colab": {},
    "colab_type": "code",
    "id": "79L_feMadbmw"
   },
   "outputs": [],
   "source": [
    "#Write a python program to find below output using loop:-\n",
    "\n",
    "#Input:- 'peter piper picked a peck of pickled peppers.'\n",
    "#Output:- ['peter', 'piper', 'picked', 'a', 'peck', 'of', 'pickled', 'peppers']"
   ]
  },
  {
   "cell_type": "code",
   "execution_count": 11,
   "metadata": {},
   "outputs": [
    {
     "name": "stdout",
     "output_type": "stream",
     "text": [
      "Solution : \n",
      "\tGenerate the given output\n",
      "Result : \n",
      "['peter', 'piper', 'picked', 'a', 'peck', 'of', 'pickled', 'peppers']\n"
     ]
    }
   ],
   "source": [
    "#Solution\n",
    "#Generate the given output\n",
    "print(\"Solution : \")\n",
    "print(\"\\tGenerate the given output\")\n",
    "\n",
    "#Varaible Declaration\n",
    "value='peter piper picked a peck of pickled peppers.'\n",
    "\n",
    "#Generate the given output\n",
    "print(\"Result : \")\n",
    "word_list=[]\n",
    "word=''\n",
    "for i in range(len(value)) :\n",
    "    if(value[i] != ' ' and value[i] != '.') :\n",
    "        word+=value[i]\n",
    "    else:\n",
    "        word_list.append(word)\n",
    "        word=''\n",
    "print(word_list)"
   ]
  },
  {
   "cell_type": "code",
   "execution_count": null,
   "metadata": {
    "colab": {},
    "colab_type": "code",
    "id": "vzs5AJ53deVS"
   },
   "outputs": [],
   "source": [
    "#Write a python program to find below output using loop:-\n",
    "\n",
    "#Input:- 'peter piper picked a peck of pickled peppers.'\n",
    "#Output:- 'peppers pickled of peck a picked piper peter'"
   ]
  },
  {
   "cell_type": "code",
   "execution_count": 12,
   "metadata": {},
   "outputs": [
    {
     "name": "stdout",
     "output_type": "stream",
     "text": [
      "Solution : \n",
      "\tGenerate the given output\n",
      "Result : \n",
      "peppers pickled of peck a picked piper peter\n"
     ]
    }
   ],
   "source": [
    "#Solution\n",
    "#Generate the given output\n",
    "print(\"Solution : \")\n",
    "print(\"\\tGenerate the given output\")\n",
    "\n",
    "#Varaible Declaration\n",
    "value='peter piper picked a peck of pickled peppers.'\n",
    "\n",
    "#Generate the given output\n",
    "print(\"Result : \")\n",
    "word_list=[]\n",
    "word=''\n",
    "for i in range(len(value)) :\n",
    "    if(value[i] != ' ' and value[i] != '.') :\n",
    "        word+=value[i]\n",
    "    else:\n",
    "        word_list.append(word)\n",
    "        word=''\n",
    "word_list.reverse()\n",
    "print(' '.join(word_list))"
   ]
  },
  {
   "cell_type": "code",
   "execution_count": null,
   "metadata": {
    "colab": {},
    "colab_type": "code",
    "id": "i-HP7DrCdhwS"
   },
   "outputs": [],
   "source": [
    "#Write a python program to find below output using loop:-\n",
    "\n",
    "#Input:- 'peter piper picked a peck of pickled peppers.'\n",
    "#Output:- '.sreppep delkcip fo kcep a dekcip repip retep'"
   ]
  },
  {
   "cell_type": "code",
   "execution_count": 13,
   "metadata": {},
   "outputs": [
    {
     "name": "stdout",
     "output_type": "stream",
     "text": [
      "Solution : \n",
      "\tGenerate the given output\n",
      "Result : \n",
      ".sreppep delkcip fo kcep a dekcip repip retep\n"
     ]
    }
   ],
   "source": [
    "#Solution\n",
    "#Generate the given output\n",
    "print(\"Solution : \")\n",
    "print(\"\\tGenerate the given output\")\n",
    "\n",
    "#Varaible Declaration\n",
    "value='peter piper picked a peck of pickled peppers.'\n",
    "\n",
    "#Reverse the given input\n",
    "word=''\n",
    "print(\"Result : \")\n",
    "for i in range(len(value)-1,-1,-1) :\n",
    "    word+=value[i]\n",
    "print(word) "
   ]
  },
  {
   "cell_type": "code",
   "execution_count": null,
   "metadata": {
    "colab": {},
    "colab_type": "code",
    "id": "3rt6p0ytdkq0"
   },
   "outputs": [],
   "source": [
    "#Write a python program to find below output using loop:-\n",
    "\n",
    "#Input:- 'peter piper picked a peck of pickled peppers.'\n",
    "#Output:- 'retep repip dekcip a kcep fo delkcip sreppep'"
   ]
  },
  {
   "cell_type": "code",
   "execution_count": 14,
   "metadata": {},
   "outputs": [
    {
     "name": "stdout",
     "output_type": "stream",
     "text": [
      "Solution : \n",
      "\tGenerate the given output\n",
      "Result : \n",
      "retep repip dekcip a kcep fo delkcip sreppep\n"
     ]
    }
   ],
   "source": [
    "#Solution\n",
    "#Generate the given output\n",
    "print(\"Solution : \")\n",
    "print(\"\\tGenerate the given output\")\n",
    "\n",
    "#Varaible Declaration\n",
    "value='peter piper picked a peck of pickled peppers.'\n",
    "\n",
    "#Get words from string\n",
    "print(\"Result : \")\n",
    "word_list=[]\n",
    "word=''\n",
    "for i in range(len(value)) :\n",
    "    if(value[i] != ' ' and value[i] != '.') :\n",
    "        word+=value[i]\n",
    "    else:\n",
    "        word_list.append(word)\n",
    "        word=''\n",
    "\n",
    "#Generate the given output\n",
    "final_list=[]\n",
    "for i in word_list :\n",
    "    reverse_word=''\n",
    "    for j in range(len(i)-1,-1,-1) :\n",
    "        reverse_word+=i[j]\n",
    "    final_list.append(reverse_word)\n",
    "print(' '.join(final_list)) "
   ]
  },
  {
   "cell_type": "code",
   "execution_count": null,
   "metadata": {
    "colab": {},
    "colab_type": "code",
    "id": "HdlAWgT2dnKO"
   },
   "outputs": [],
   "source": [
    "#Write a python program to find below output using loop:-\n",
    "\n",
    "#Input:- 'peter piper picked a peck of pickled peppers.'\n",
    "#Output:- 'Peter Piper Picked A Peck Of Pickled Peppers'"
   ]
  },
  {
   "cell_type": "code",
   "execution_count": 15,
   "metadata": {},
   "outputs": [
    {
     "name": "stdout",
     "output_type": "stream",
     "text": [
      "Solution : \n",
      "\tGenerate the given output\n",
      "Result : \n",
      "Peter Piper Picked A Peck Of Pickled Peppers\n"
     ]
    }
   ],
   "source": [
    "#Solution\n",
    "#Generate the given output\n",
    "print(\"Solution : \")\n",
    "print(\"\\tGenerate the given output\")\n",
    "\n",
    "#Varaible Declaration\n",
    "value='peter piper picked a peck of pickled peppers.'\n",
    "\n",
    "#Get words from string\n",
    "print(\"Result : \")\n",
    "word_list=[]\n",
    "word=''\n",
    "for i in range(len(value)) :\n",
    "    if(value[i] != ' ' and value[i] != '.') :\n",
    "        word+=value[i]\n",
    "    else:\n",
    "        word_list.append(word)\n",
    "        word=''\n",
    "\n",
    "#Generate the given output\n",
    "final_list=[]\n",
    "for i in word_list :\n",
    "    final_list.append(i.capitalize())\n",
    "print(' '.join(final_list)) "
   ]
  },
  {
   "cell_type": "code",
   "execution_count": null,
   "metadata": {
    "colab": {},
    "colab_type": "code",
    "id": "OthUuacodrNl"
   },
   "outputs": [],
   "source": [
    "#Write a python program to find below output using loop:-\n",
    "\n",
    "#Input:- 'Peter Piper Picked A Peck Of Pickled Peppers.'\n",
    "#Output:- 'Peter piper picked a peck of pickled peppers'"
   ]
  },
  {
   "cell_type": "code",
   "execution_count": 16,
   "metadata": {},
   "outputs": [
    {
     "name": "stdout",
     "output_type": "stream",
     "text": [
      "Solution : \n",
      "\tGenerate the given output\n",
      "Result : \n",
      "Peter piper picked a peck of pickled peppers\n"
     ]
    }
   ],
   "source": [
    "#Solution\n",
    "#Generate the given output\n",
    "print(\"Solution : \")\n",
    "print(\"\\tGenerate the given output\")\n",
    "\n",
    "#Varaible Declaration\n",
    "value='Peter Piper Picked A Peck Of Pickled Peppers.'\n",
    "\n",
    "#Get words from string\n",
    "print(\"Result : \")\n",
    "word_list=[]\n",
    "word=''\n",
    "for i in range(len(value)) :\n",
    "    if(value[i] != ' ' and value[i] != '.') :\n",
    "        word+=value[i]\n",
    "    else:\n",
    "        word_list.append(word)\n",
    "        word=''\n",
    "\n",
    "#Generate the given output\n",
    "final_list=[]\n",
    "for i in word_list:\n",
    "    if(len(final_list) == 0) :\n",
    "        final_list.append(i)\n",
    "    else :\n",
    "        final_list.append(i.lower())\n",
    "print(' '.join(final_list)) "
   ]
  },
  {
   "cell_type": "code",
   "execution_count": 17,
   "metadata": {
    "colab": {
     "base_uri": "https://localhost:8080/",
     "height": 34
    },
    "colab_type": "code",
    "id": "scmDJE-ldsI9",
    "outputId": "4b1d1979-9f4a-4bc6-c505-b88b1bbd4d5d"
   },
   "outputs": [],
   "source": [
    "#Write a python program to implement index method using loop. If sub_str is found in my_str then it will print the index\n",
    "# of first occurrence of first character of matching string in my_str:-\n",
    "\n",
    "#Input:- my_str = 'Peter Piper Picked A Peck Of Pickled Peppers.', sub_str = 'Pickl'\n",
    "#Output:- 29"
   ]
  },
  {
   "cell_type": "code",
   "execution_count": 18,
   "metadata": {},
   "outputs": [
    {
     "name": "stdout",
     "output_type": "stream",
     "text": [
      "Solution : \n",
      "\tFirst occurrence of first character of matching string\n",
      "Result : \n",
      "First occurrence of first character of matching string is at index :  29\n"
     ]
    }
   ],
   "source": [
    "#Solution\n",
    "#Generate the given output\n",
    "print(\"Solution : \")\n",
    "print(\"\\tFirst occurrence of first character of matching string\")\n",
    "\n",
    "#Varaible Declaration\n",
    "my_str='Peter Piper Picked A Peck Of Pickled Peppers.'\n",
    "sub_str = 'Pickl'\n",
    "\n",
    "#First occurrence of first character of matching string\n",
    "print(\"Result : \")\n",
    "sub_prsent=False\n",
    "for i in range (len(my_str)) :\n",
    "    k=i\n",
    "    for j in range(len(sub_str)) :\n",
    "        if(sub_str[j]==my_str[k]) :\n",
    "            k=k+1\n",
    "            sub_present=True\n",
    "        else :\n",
    "            sub_present=False\n",
    "            break;\n",
    "        if(j==len(sub_str)-1 and sub_present) :\n",
    "            print(\"First occurrence of first character of matching string is at index : \", i) \n",
    "            break;\n",
    "    if(sub_present) :\n",
    "        break\n",
    "if(not sub_present) :\n",
    "    print(\"sub_str not found in the given my_str\")"
   ]
  },
  {
   "cell_type": "code",
   "execution_count": 19,
   "metadata": {
    "colab": {},
    "colab_type": "code",
    "id": "Kq_fwdb_dvYE"
   },
   "outputs": [],
   "source": [
    "#Write a python program to implement replace method using loop. If sub_str is found in my_str then it will replace the first \n",
    "#occurrence of sub_str with new_str else it will will print sub_str not found:-\n",
    "\n",
    "#Input:- my_str = 'Peter Piper Picked A Peck Of Pickled Peppers.', sub_str = 'Peck', new_str = 'Pack'\n",
    "#Output:- 'Peter Piper Picked A Pack Of Pickled Peppers.'"
   ]
  },
  {
   "cell_type": "code",
   "execution_count": 20,
   "metadata": {},
   "outputs": [
    {
     "name": "stdout",
     "output_type": "stream",
     "text": [
      "Solution : \n",
      "\tReplace the first occurrence of first character of matching string\n",
      "Result : \n",
      "Replaced string after replacing the first occurrence of given sub string : Peter Piper Picked A Pack Of Pickled Peppers.\n"
     ]
    }
   ],
   "source": [
    "#Solution\n",
    "#Generate the given output\n",
    "print(\"Solution : \")\n",
    "print(\"\\tReplace the first occurrence of first character of matching string\")\n",
    "\n",
    "#Varaible Declaration\n",
    "my_str='Peter Piper Picked A Peck Of Pickled Peppers.'\n",
    "sub_str = 'Peck'\n",
    "new_str = 'Pack'\n",
    "\n",
    "#Replace the first occurrence of first character of matching string\n",
    "print(\"Result : \")\n",
    "sub_prsent=False\n",
    "for i in range (len(my_str)) :\n",
    "    k=i\n",
    "    for j in range(len(sub_str)) :\n",
    "        if(sub_str[j]==my_str[k]) :\n",
    "            k=k+1\n",
    "            sub_present=True\n",
    "        else :\n",
    "            sub_present=False\n",
    "            break;\n",
    "        if(j==len(sub_str)-1 and sub_present) :\n",
    "            word_index=i\n",
    "            break;\n",
    "    if(sub_present) :\n",
    "        break\n",
    "\n",
    "replace_string=''\n",
    "if(sub_present) :\n",
    "    replace_string=my_str[0:word_index]+new_str+my_str[word_index+len(sub_str):len(my_str)]\n",
    "    print(\"Replaced string after replacing the first occurrence of given sub string :\", replace_string) \n",
    "else :\n",
    "    print(\"sub_str not found in the given my_str\")"
   ]
  },
  {
   "cell_type": "code",
   "execution_count": 21,
   "metadata": {
    "colab": {},
    "colab_type": "code",
    "id": "4Qes5D0cdyd1"
   },
   "outputs": [],
   "source": [
    "#Write a python program to find below output (implements rjust and ljust) using loop:-\n",
    "\n",
    "#Input:- 'Peter Piper Picked A Peck Of Pickled Peppers.', sub_str = 'Peck', \n",
    "#Output:- '*********************Peck********************'"
   ]
  },
  {
   "cell_type": "code",
   "execution_count": 22,
   "metadata": {},
   "outputs": [
    {
     "name": "stdout",
     "output_type": "stream",
     "text": [
      "Solution : \n",
      "\tGenerate the given output\n",
      "Result : \n",
      "*********************Peck********************\n"
     ]
    }
   ],
   "source": [
    "#Solution\n",
    "#Generate the given output\n",
    "print(\"Solution : \")\n",
    "print(\"\\tGenerate the given output\")\n",
    "\n",
    "#Varaible Declaration\n",
    "my_str='Peter Piper Picked A Peck Of Pickled Peppers.'\n",
    "sub_str = 'Peck'\n",
    "\n",
    "#Generate the given output\n",
    "print(\"Result : \")\n",
    "sub_prsent=False\n",
    "for i in range (len(my_str)) :\n",
    "    k=i\n",
    "    for j in range(len(sub_str)) :\n",
    "        if(sub_str[j]==my_str[k]) :\n",
    "            k=k+1\n",
    "            sub_present=True\n",
    "        else :\n",
    "            sub_present=False\n",
    "            break;\n",
    "        if(j==len(sub_str)-1 and sub_present) :\n",
    "            word_index=i\n",
    "            break;\n",
    "    if(sub_present) :\n",
    "        break\n",
    "\n",
    "replace_string=''\n",
    "if(sub_present) :\n",
    "    replace_string=(sub_str.rjust(word_index+len(sub_str),'*')).ljust(len(my_str),'*')\n",
    "    print(replace_string) \n",
    "else :\n",
    "    print(\"sub_str not found in the given my_str\")"
   ]
  },
  {
   "cell_type": "code",
   "execution_count": 23,
   "metadata": {
    "colab": {},
    "colab_type": "code",
    "id": "DsOrb07Od0lR"
   },
   "outputs": [],
   "source": [
    "#Write a python program to find below output using loop:-\n",
    "\n",
    "#Input:- 'This is Python class', sep = 'is', \n",
    "#Output:- ['This', 'is', 'Python class']"
   ]
  },
  {
   "cell_type": "code",
   "execution_count": 24,
   "metadata": {},
   "outputs": [
    {
     "name": "stdout",
     "output_type": "stream",
     "text": [
      "Solution : \n",
      "\tGenerate the given output\n",
      "Result : \n",
      "['This', 'is', 'Python class']\n"
     ]
    }
   ],
   "source": [
    "#Solution\n",
    "#Generate the given output\n",
    "print(\"Solution : \")\n",
    "print(\"\\tGenerate the given output\")\n",
    "\n",
    "#Varaible Declaration\n",
    "my_str='This is Python class'\n",
    "sep = 'is'\n",
    "\n",
    "#Generate the given output\n",
    "print(\"Result : \")\n",
    "word_list=[]\n",
    "word=''\n",
    "flag=False\n",
    "for i in range(len(my_str)) :\n",
    "    if(my_str[i] != ' ') :\n",
    "        word+=my_str[i]\n",
    "    else:\n",
    "        if(not flag) : \n",
    "            word_list.append(word)\n",
    "            if(word == sep) :            \n",
    "                flag=True \n",
    "            word=''\n",
    "        else :\n",
    "            word+=my_str[i]\n",
    "word_list.append(word)\n",
    "print(word_list)"
   ]
  },
  {
   "cell_type": "code",
   "execution_count": 25,
   "metadata": {
    "colab": {},
    "colab_type": "code",
    "id": "jRnBVufmd2Ay"
   },
   "outputs": [],
   "source": [
    "#Write a python program which takes one input string from user and encode it in below format:-\n",
    "    # 1. #Input:- 'Python'\n",
    "       #Output:- 'R{vjqp'\n",
    "            \n",
    "    # 2. #Input:- 'Python'\n",
    "       #Output:- 'Rwvfql'\n",
    "        \n",
    "    # 3. #Input:- 'Python'\n",
    "       #Output:- 'R{vkfml'"
   ]
  },
  {
   "cell_type": "code",
   "execution_count": 4,
   "metadata": {},
   "outputs": [
    {
     "name": "stdout",
     "output_type": "stream",
     "text": [
      "Solution : \n",
      "\tGenerate the given output\n",
      "Value of given my_str         :  Python\n",
      "\n",
      "Solution A : \n",
      "Encoded value of given string :  R{vjqp\n",
      "\n",
      "Solution B : \n",
      "Encoded value of given string :  Rwvfql\n",
      "\n",
      "Solution C : \n",
      "Encoded value of given string :  R{vfml\n"
     ]
    }
   ],
   "source": [
    "#Solution\n",
    "#Generate the given output\n",
    "print(\"Solution : \")\n",
    "print(\"\\tGenerate the given output\")\n",
    "\n",
    "#Varaible Declaration\n",
    "my_str='Python'\n",
    "print(\"Value of given my_str         : \", my_str)\n",
    "\n",
    "#Generate the given output\n",
    "print()\n",
    "print(\"Solution A : \")\n",
    "encoded_ouput1=''\n",
    "for i in my_str:\n",
    "    encoded_ouput1 += chr(ord(i)+2)\n",
    "print(\"Encoded value of given string : \", encoded_ouput1)\n",
    "    \n",
    "print()\n",
    "print(\"Solution B : \")\n",
    "encoded_ouput2=''\n",
    "for i in range(len(my_str)):\n",
    "    if i % 2 == 0:\n",
    "        encoded_ouput2 += chr(ord(my_str[i])+2)\n",
    "    else:\n",
    "        encoded_ouput2 += chr(ord(my_str[i])-2)\n",
    "print(\"Encoded value of given string : \", encoded_ouput2)\n",
    "\n",
    "print()\n",
    "print(\"Solution C : \")\n",
    "encoded_ouput3=''\n",
    "for i in range(len(my_str)):\n",
    "    if i < 3:\n",
    "        encoded_ouput3 += chr(ord(my_str[i])+2)\n",
    "    else:\n",
    "        encoded_ouput3 += chr(ord(my_str[i])-2)\n",
    "print(\"Encoded value of given string : \", encoded_ouput3)"
   ]
  }
 ],
 "metadata": {
  "colab": {
   "name": "Conditional_and_loop_assignment.ipynb",
   "provenance": []
  },
  "kernelspec": {
   "display_name": "Python 3",
   "language": "python",
   "name": "python3"
  },
  "language_info": {
   "codemirror_mode": {
    "name": "ipython",
    "version": 3
   },
   "file_extension": ".py",
   "mimetype": "text/x-python",
   "name": "python",
   "nbconvert_exporter": "python",
   "pygments_lexer": "ipython3",
   "version": "3.8.3"
  }
 },
 "nbformat": 4,
 "nbformat_minor": 1
}
