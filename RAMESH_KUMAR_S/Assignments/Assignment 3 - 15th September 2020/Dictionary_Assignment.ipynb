{
 "cells": [
  {
   "cell_type": "markdown",
   "metadata": {},
   "source": [
    "# Assignment - 3 - 15th September 2020 - Dictionay"
   ]
  },
  {
   "cell_type": "code",
   "execution_count": 1,
   "metadata": {
    "colab": {},
    "colab_type": "code",
    "id": "2k4ZB9yltJCa"
   },
   "outputs": [],
   "source": [
    "# Initialize a dictionary \"emp_info\" with below details\n",
    "# In - emp_info['Tom']\n",
    "# Out - {'email':'tom_latham019@gmail.com', 'Phone': +1987654321, 'City': 'California'}\n",
    "\n",
    "# In - emp_info['Kathy']\n",
    "# Out - {'email':'kathy_abram897@gmail.com', 'Phone': +1887654321, 'City': 'New York'}"
   ]
  },
  {
   "cell_type": "code",
   "execution_count": 3,
   "metadata": {},
   "outputs": [
    {
     "name": "stdout",
     "output_type": "stream",
     "text": [
      "Solution : \n",
      "\tInitialize a Dictionary variable\n",
      "Print Tom information   :  {'email': 'tom_latham019@gmail.com', 'Phone': 1987654321, 'City': 'California'}\n",
      "Print Kathy information :  {'email': 'kathy_abram897@gmail.com', 'Phone': 1887654321, 'City': 'New York'}\n"
     ]
    }
   ],
   "source": [
    "#Solution\n",
    "#Initialize a Dictionary variable\n",
    "print(\"Solution : \")\n",
    "print(\"\\tInitialize a Dictionary variable\")\n",
    "\n",
    "#Dictionary Varaible Declaration\n",
    "emp_info={'Tom':{'email':'tom_latham019@gmail.com', 'Phone': +1987654321, 'City': 'California'},\n",
    "          'Kathy':{'email':'kathy_abram897@gmail.com', 'Phone': +1887654321, 'City': 'New York'}}\n",
    "\n",
    "#Print Tom information\n",
    "print('Print Tom information   : ',emp_info['Tom'])\n",
    "\n",
    "#Print Kathy information\n",
    "print('Print Kathy information : ',emp_info['Kathy'])"
   ]
  },
  {
   "cell_type": "code",
   "execution_count": 3,
   "metadata": {
    "colab": {},
    "colab_type": "code",
    "id": "BAUj-S0fqFWG"
   },
   "outputs": [],
   "source": [
    "# Create a dictionary out of below inputs\n",
    "# lst1 = ['emp1', 'emp2', 'emp3']\n",
    "# emp_key = ['e_name', 'e_id', 'e_sal']\n",
    "# emp1_val = ['John', 'SG101', '$10,000']\n",
    "# emp2_val = ['Smith', 'SG102', '$9,000']\n",
    "# emp3_val = ['Peter', 'SG103', '$9,500']\n",
    "\n",
    "# Expected Output:- {'emp1':{'e_name':'John', 'e_id':'SG101', 'e_sal':$10,000}, \n",
    "#                    'emp2':{'e_name':'Smith', 'e_id':'SG102', 'e_sal':$9,000}, \n",
    "#                    'emp3':{'e_name':'Peter', 'e_id':'SG103', 'e_sal':$9,500}}"
   ]
  },
  {
   "cell_type": "code",
   "execution_count": 4,
   "metadata": {},
   "outputs": [
    {
     "name": "stdout",
     "output_type": "stream",
     "text": [
      "Solution : \n",
      "\tGenerate the given output\n",
      "Print Employee information   : \n",
      " {'emp1': {'e_name': 'John', 'e_id': 'SG101', 'e_sal': '$10,000'}, 'emp2': {'e_name': 'Smith', 'e_id': 'SG102', 'e_sal': '$9,000'}, 'emp3': {'e_name': 'Peter', 'e_id': 'SG103', 'e_sal': '$9,500'}}\n"
     ]
    }
   ],
   "source": [
    "#Solution\n",
    "#Generate the given output\n",
    "print(\"Solution : \")\n",
    "print(\"\\tGenerate the given output\")\n",
    "\n",
    "#Dictionary Varaible Declaration\n",
    "lst1={'emp1':{'e_name':'John','e_id':'SG101','e_sal':'$10,000'},\n",
    "      'emp2':{'e_name':'Smith','e_id':'SG102','e_sal':'$9,000'},\n",
    "      'emp3':{'e_name':'Peter','e_id':'SG103','e_sal':'$9,500'}}\n",
    "\n",
    "#Print Employee information\n",
    "print('Print Employee information   : \\n',lst1)"
   ]
  },
  {
   "cell_type": "code",
   "execution_count": 5,
   "metadata": {
    "colab": {},
    "colab_type": "code",
    "id": "LxGZ3jbjrBkj"
   },
   "outputs": [],
   "source": [
    "# Acess the value of key 'history'\n",
    "\n",
    "sampleDict = { \n",
    "   \"class\":{ \n",
    "      \"student\":{ \n",
    "         \"name\":\"Mike\",\n",
    "         \"marks\":{ \n",
    "            \"physics\":70,\n",
    "            \"history\":80\n",
    "         }\n",
    "      }\n",
    "   }\n",
    "}"
   ]
  },
  {
   "cell_type": "code",
   "execution_count": 5,
   "metadata": {},
   "outputs": [
    {
     "name": "stdout",
     "output_type": "stream",
     "text": [
      "Solution : \n",
      "\tGenerate the given output\n",
      "The value of history is 80\n"
     ]
    }
   ],
   "source": [
    "#Solution\n",
    "#Access the value of key 'history'\n",
    "print(\"Solution : \")\n",
    "print(\"\\tGenerate the given output\")\n",
    "\n",
    "#Dictionary Varaible Declaration\n",
    "sampleDict = { \n",
    "   \"class\":{\n",
    "      \"student\":{ \n",
    "         \"name\":\"Mike\",\n",
    "         \"marks\":{ \n",
    "            \"physics\":70,\n",
    "            \"history\":80\n",
    "         }\n",
    "      }\n",
    "   }\n",
    "}\n",
    "             \n",
    "#Access the value of key 'history'\n",
    "print('The value of history is', sampleDict[\"class\"][\"student\"][\"marks\"][\"history\"])"
   ]
  },
  {
   "cell_type": "code",
   "execution_count": 7,
   "metadata": {
    "colab": {},
    "colab_type": "code",
    "id": "Vm8UZbyNrKID"
   },
   "outputs": [],
   "source": [
    "# Initialize dictionary with default values. Inputs are:-\n",
    "# employees = ['Kelly', 'Emma', 'John']\n",
    "# defaults = {\"designation\": 'Application Developer', \"salary\": 8000}\n",
    "\n",
    "#Expected output:- {'Kelly': {'designation': 'Application Developer', 'salary': 8000}, \n",
    "#                   'Emma': {'designation': 'Application Developer', 'salary': 8000}, \n",
    "#                   'John': {'designation': 'Application Developer', 'salary': 8000}}"
   ]
  },
  {
   "cell_type": "code",
   "execution_count": 7,
   "metadata": {},
   "outputs": [
    {
     "name": "stdout",
     "output_type": "stream",
     "text": [
      "Solution : \n",
      "\tInitialize dictionary with default values\n",
      "Print Employee information   : \n",
      " {'Kelly': {'designation': 'Application Developer', 'salary': 8000}, 'Emma': {'designation': 'Application Developer', 'salary': 8000}, 'John': {'designation': 'Application Developer', 'salary': 8000}}\n"
     ]
    }
   ],
   "source": [
    "#Solution\n",
    "#Initialize dictionary with default values\n",
    "print(\"Solution : \")\n",
    "print(\"\\tInitialize dictionary with default values\")\n",
    "\n",
    "#Initialize dictionary with default values\n",
    "employees={}\n",
    "defaults = {\"designation\": 'Application Developer', \"salary\": 8000}\n",
    "employees=employees.fromkeys(['Kelly','Emma','John'],defaults)\n",
    "\n",
    "#Print Employee information\n",
    "print('Print Employee information   : \\n',employees)"
   ]
  },
  {
   "cell_type": "code",
   "execution_count": null,
   "metadata": {
    "colab": {},
    "colab_type": "code",
    "id": "nmFdbaHBrThC"
   },
   "outputs": [],
   "source": [
    "# In gene expression, mRNA is transcribed from a DNA template. \n",
    "# The 4 nucleotide bases of A, T, C, G corresponds to the U, A, G, C bases of the mRNA. \n",
    "# Write a function that returns the mRNA transcript given the sequence of a DNA strand.\n",
    "\n",
    "# Use a dictionary to provide the mapping of DNA to RNA bases."
   ]
  },
  {
   "cell_type": "code",
   "execution_count": 1,
   "metadata": {},
   "outputs": [
    {
     "name": "stdout",
     "output_type": "stream",
     "text": [
      "Solution : \n",
      "\tmRNA Transcript for the given the sequence of DNA strand\n",
      "Values in the given Dictionary                           : \n",
      " {'A': 'U', 'T': 'A', 'C': 'G', 'G': 'C'}\n",
      "Enter DNA strand : CTATCGGCACCCTTTCAGCA\n",
      "mRNA Transcript for the given the sequence of DNA strand :  GAUAGCCGUGGGAAAGUCGU\n"
     ]
    }
   ],
   "source": [
    "#Solution\n",
    "#mRNA Transcript for the given the sequence of DNA strand\n",
    "print(\"Solution : \")\n",
    "print(\"\\tmRNA Transcript for the given the sequence of DNA strand\")\n",
    "\n",
    "#mRNA Transcript for the given the sequence of DNA strand\n",
    "def mRNATranscript(dictionary,value) : \n",
    "    result_mRNA=''\n",
    "    for i in value :\n",
    "        result_mRNA+=dictionary.get(i.upper())        \n",
    "    return result_mRNA\n",
    "\n",
    "#mRNA Transcript for the given the sequence of DNA strand\n",
    "d = {'A':'U', 'T':'A', 'C':'G', 'G':'C'}\n",
    "print(\"Values in the given Dictionary                           : \\n\",d)\n",
    "input_DNA_strand=input('Enter DNA strand : ')\n",
    "mRNATranscript=mRNATranscript(d,input_DNA_strand)\n",
    "print(\"mRNA Transcript for the given the sequence of DNA strand : \",mRNATranscript)"
   ]
  },
  {
   "cell_type": "code",
   "execution_count": null,
   "metadata": {
    "colab": {},
    "colab_type": "code",
    "id": "rop1A1pQw6Uk"
   },
   "outputs": [],
   "source": [
    "# Write a function which takes a word as input and returns a dictionary with letters as key and no of time letters are repeated as value.\n",
    "# In - count_letter('google.com')\n",
    "# Out - {'g': 2, 'o': 3, 'l': 1, 'e': 1, '.': 1, 'c': 1, 'm': 1}"
   ]
  },
  {
   "cell_type": "code",
   "execution_count": 2,
   "metadata": {},
   "outputs": [
    {
     "name": "stdout",
     "output_type": "stream",
     "text": [
      "Solution : \n",
      "\tCount the no of letters in the given word\n",
      "Given input word                : \n",
      " google.com\n",
      "No of letters in the given word : \n",
      " {'g': 2, 'o': 3, 'l': 1, 'e': 1, '.': 1, 'c': 1, 'm': 1}\n"
     ]
    }
   ],
   "source": [
    "#Solution\n",
    "#Count the no of letters in the given word\n",
    "print(\"Solution : \")\n",
    "print(\"\\tCount the no of letters in the given word\")\n",
    "\n",
    "#No of letters in the given word function definition\n",
    "def noOfLetters(word) : \n",
    "    sampleDict = {}\n",
    "    for i in word: \n",
    "        sampleDict[i] = sampleDict.get(i, 0) + 1\n",
    "    return sampleDict\n",
    "\n",
    "#Count the no of letters in the given word\n",
    "input_word='google.com'\n",
    "print(\"Given input word                : \\n\",input_word)\n",
    "letter_count=noOfLetters(input_word)\n",
    "print(\"No of letters in the given word : \\n\",letter_count)"
   ]
  },
  {
   "cell_type": "code",
   "execution_count": null,
   "metadata": {
    "colab": {},
    "colab_type": "code",
    "id": "vAwGIoxdw856"
   },
   "outputs": [],
   "source": [
    "# A DNA strand consisting of the 4 nucleotide bases is usually represented with a string of letters: A,T, C, G. \n",
    "# Write a function that computes the base composition of a given DNA sequence.\n",
    "\n",
    "# In - baseComposition(\"CTATCGGCACCCTTTCAGCA\")\n",
    "# Out - {'A': 4, 'C': 8, 'T': 5,  'G': 3 }\n",
    "    \n",
    "# In - baseComposition(\"AGT\")\n",
    "# Out - {'A': 1, 'C': 0, 'T': 1,  'G': 1 }"
   ]
  },
  {
   "cell_type": "code",
   "execution_count": 3,
   "metadata": {},
   "outputs": [
    {
     "name": "stdout",
     "output_type": "stream",
     "text": [
      "Solution : \n",
      "\tCompute base composition of DNA sequence\n",
      "Solution A : \n",
      "Given input word                : \n",
      " CTATCGGCACCCTTTCAGCA\n",
      "No of letters in the given word : \n",
      " {'A': 4, 'C': 8, 'T': 5, 'G': 3}\n",
      "\n",
      "Solution B : \n",
      "Given input word                : \n",
      " AGT\n",
      "No of letters in the given word : \n",
      " {'A': 1, 'C': 0, 'T': 1, 'G': 1}\n"
     ]
    }
   ],
   "source": [
    "#Solution\n",
    "#Compute base composition of DNA sequence\n",
    "print(\"Solution : \")\n",
    "print(\"\\tCompute base composition of DNA sequence\")\n",
    "\n",
    "#Compute base composition of DNA sequence function definition\n",
    "def noOfLetters(word) : \n",
    "    sampleDict = {'A': 0, 'C': 0, 'T': 0,  'G': 0}\n",
    "    for i in word: \n",
    "        sampleDict[i] = sampleDict.get(i, 0) + 1\n",
    "    return sampleDict\n",
    "\n",
    "#Compute base composition of DNA sequence\n",
    "print(\"Solution A : \")\n",
    "input_word='CTATCGGCACCCTTTCAGCA'\n",
    "print(\"Given input word                : \\n\",input_word)\n",
    "letter_count=noOfLetters(input_word)\n",
    "print(\"No of letters in the given word : \\n\",letter_count)\n",
    "\n",
    "print()\n",
    "print(\"Solution B : \")\n",
    "input_word='AGT'\n",
    "print(\"Given input word                : \\n\",input_word)\n",
    "letter_count=noOfLetters(input_word)\n",
    "print(\"No of letters in the given word : \\n\",letter_count)"
   ]
  },
  {
   "cell_type": "code",
   "execution_count": null,
   "metadata": {
    "colab": {},
    "colab_type": "code",
    "id": "iVNnSsvaxMDo"
   },
   "outputs": [],
   "source": [
    "# [MCQ] Suppose \"d\" is an empty dictionary, which statement does not assign \"d\" with {\"Name\":\"Tom\"}? \n",
    "# 1. d = {\"Name\": \"Tom\" }\n",
    "# 2. d[\"Name\"] = \"Tom\"\n",
    "# 3. d.update({\"Name\": \"Tom\" })\n",
    "# 4. d.setdefault(\"Name\", \"Tom\")\n",
    "# 5. None of the above."
   ]
  },
  {
   "cell_type": "code",
   "execution_count": 4,
   "metadata": {},
   "outputs": [
    {
     "name": "stdout",
     "output_type": "stream",
     "text": [
      "Solution : \n",
      "\n",
      "[MCQ] Suppose \"d\" is an empty dictionary, which statement does not assign \"d\" with {\"Name\":\"Tom\"}?\n",
      "\t1. Declaration : d = {\"Name\": \"Tom\"}          Value : {'Name': 'Tom'}\n",
      "\t2. Declaration : d[\"Name\"] = \"Tom\"            Value : {'Name': 'Tom'}\n",
      "\t3. Declaration : d.update({\"Name\": \"Tom\" })   Value : {'Name': 'Tom'}\n",
      "\t4. Declaration : d.setdefault(\"Name\", \"Tom\")  Value : {'Name': 'Tom'}\n",
      "Answer : All the above declared statements are valid. The answer is 5.None of the above.\n"
     ]
    }
   ],
   "source": [
    "#Solution\n",
    "#[MCQ] Suppose \"d\" is an empty dictionary, which statement does not assign \"d\" with {\"Name\":\"Tom\"}? \n",
    "print(\"Solution : \")\n",
    "print('\\n[MCQ] Suppose \"d\" is an empty dictionary, which statement does not assign \"d\" with {\"Name\":\"Tom\"}?')\n",
    "\n",
    "#Dictinary variable declaration\n",
    "d = {\"Name\": \"Tom\" }\n",
    "print('\\t1. Declaration : d = {\"Name\": \"Tom\"}          Value :', d)\n",
    "d[\"Name\"] = \"Tom\"\n",
    "print('\\t2. Declaration : d[\"Name\"] = \"Tom\"            Value :', d)\n",
    "d.update({\"Name\": \"Tom\" })\n",
    "print('\\t3. Declaration : d.update({\"Name\": \"Tom\" })   Value :', d)\n",
    "d.setdefault(\"Name\", \"Tom\")\n",
    "print('\\t4. Declaration : d.setdefault(\"Name\", \"Tom\")  Value :', d)\n",
    "print('Answer : All the above declared statements are valid. The answer is 5.None of the above.')"
   ]
  },
  {
   "cell_type": "code",
   "execution_count": null,
   "metadata": {
    "colab": {},
    "colab_type": "code",
    "id": "tOgsXi2axnhF"
   },
   "outputs": [],
   "source": [
    "# [MCQ] d = {\"a\":1, \"b\":2}. Which of the statements returns [1,2]? \n",
    "# 1. d.keys()\n",
    "# 2. d.values()\n",
    "# 3. d.items()\n",
    "# 4. d.popitem()\n",
    "# 5. None of the above."
   ]
  },
  {
   "cell_type": "code",
   "execution_count": 5,
   "metadata": {},
   "outputs": [
    {
     "name": "stdout",
     "output_type": "stream",
     "text": [
      "Solution : \n",
      "\n",
      "[MCQ] d = {\"a\":1, \"b\":2}. Which of the statements returns [1,2]?\n",
      "\t1. Value of d.keys()    : dict_keys(['a', 'b'])\n",
      "\t2. Value of d.values()  : dict_values([1, 2])\n",
      "\t3. Value of d.items()   : dict_items([('a', 1), ('b', 2)])\n",
      "\t4. Value of d.popitem() : ('b', 2)\n",
      "Answer : d.values() returns [1,2] as its output\n"
     ]
    }
   ],
   "source": [
    "#Solution\n",
    "#[MCQ] d = {\"a\":1, \"b\":2}. Which of the statements returns [1,2]?\n",
    "print(\"Solution : \")\n",
    "print('\\n[MCQ] d = {\"a\":1, \"b\":2}. Which of the statements returns [1,2]?')\n",
    "\n",
    "#Dictinary variable declaration\n",
    "d = {\"a\":1, \"b\":2}\n",
    "print('\\t1. Value of d.keys()    :', d.keys())\n",
    "print('\\t2. Value of d.values()  :', d.values())\n",
    "print('\\t3. Value of d.items()   :', d.items())\n",
    "print('\\t4. Value of d.popitem() :', d.popitem())\n",
    "print('Answer : d.values() returns [1,2] as its output')"
   ]
  },
  {
   "cell_type": "code",
   "execution_count": null,
   "metadata": {
    "colab": {},
    "colab_type": "code",
    "id": "BeNNopkDzK0k"
   },
   "outputs": [],
   "source": [
    "# [MCQ] Which of the following declarations is not valid for 'dict' type?\n",
    "# 1. d = {\"Name\": \"Tom\" }\n",
    "# 2. d = { (1,3,4): 4.5 }\n",
    "# 3. d = { [\"First\", \"Last\"]: (1,3) }\n",
    "# 4. d = { 1: 0.4 }\n",
    "# 5. None of the above"
   ]
  },
  {
   "cell_type": "code",
   "execution_count": 6,
   "metadata": {},
   "outputs": [
    {
     "name": "stdout",
     "output_type": "stream",
     "text": [
      "Solution : \n",
      "\n",
      "[MCQ] Which of the following declarations is not valid for 'dict' type?\n",
      "\t1. Declaration : d = {\"Name\": \"Tom\"}    Value : {'Name': 'Tom'}\n",
      "\t2. Declaration : d = { (1,3,4): 4.5 }   Value : {(1, 3, 4): 4.5}\n",
      "\t4. Declaration : { 1: 0.4 }             Value : {1: 0.4}\n",
      "Answer : d = { [\"First\", \"Last\"]: (1,3) } is not valid for 'dict' type\n"
     ]
    },
    {
     "ename": "TypeError",
     "evalue": "unhashable type: 'list'",
     "output_type": "error",
     "traceback": [
      "\u001b[1;31m---------------------------------------------------------------------------\u001b[0m",
      "\u001b[1;31mTypeError\u001b[0m                                 Traceback (most recent call last)",
      "\u001b[1;32m<ipython-input-6-f221df7d8693>\u001b[0m in \u001b[0;36m<module>\u001b[1;34m\u001b[0m\n\u001b[0;32m     12\u001b[0m \u001b[0mprint\u001b[0m\u001b[1;33m(\u001b[0m\u001b[1;34m'\\t4. Declaration : { 1: 0.4 }             Value :'\u001b[0m\u001b[1;33m,\u001b[0m \u001b[0md\u001b[0m\u001b[1;33m)\u001b[0m\u001b[1;33m\u001b[0m\u001b[1;33m\u001b[0m\u001b[0m\n\u001b[0;32m     13\u001b[0m \u001b[0mprint\u001b[0m\u001b[1;33m(\u001b[0m\u001b[1;34m'''Answer : d = { [\"First\", \"Last\"]: (1,3) } is not valid for 'dict' type'''\u001b[0m\u001b[1;33m)\u001b[0m\u001b[1;33m\u001b[0m\u001b[1;33m\u001b[0m\u001b[0m\n\u001b[1;32m---> 14\u001b[1;33m \u001b[0md\u001b[0m \u001b[1;33m=\u001b[0m \u001b[1;33m{\u001b[0m \u001b[1;33m[\u001b[0m\u001b[1;34m\"First\"\u001b[0m\u001b[1;33m,\u001b[0m \u001b[1;34m\"Last\"\u001b[0m\u001b[1;33m]\u001b[0m\u001b[1;33m:\u001b[0m \u001b[1;33m(\u001b[0m\u001b[1;36m1\u001b[0m\u001b[1;33m,\u001b[0m\u001b[1;36m3\u001b[0m\u001b[1;33m)\u001b[0m \u001b[1;33m}\u001b[0m\u001b[1;33m\u001b[0m\u001b[1;33m\u001b[0m\u001b[0m\n\u001b[0m\u001b[0;32m     15\u001b[0m \u001b[0mprint\u001b[0m\u001b[1;33m(\u001b[0m\u001b[1;34m'\\t3. Declaration : { [\"First\", \"Last\"]: (1,3) }   Value :'\u001b[0m\u001b[1;33m,\u001b[0m \u001b[0md\u001b[0m\u001b[1;33m)\u001b[0m\u001b[1;33m\u001b[0m\u001b[1;33m\u001b[0m\u001b[0m\n",
      "\u001b[1;31mTypeError\u001b[0m: unhashable type: 'list'"
     ]
    }
   ],
   "source": [
    "#Solution\n",
    "#[MCQ] Which of the following declarations is not valid for 'dict' type?\n",
    "print(\"Solution : \")\n",
    "print(\"\\n[MCQ] Which of the following declarations is not valid for 'dict' type?\")\n",
    "\n",
    "#Dictinary variable declaration\n",
    "d = {\"Name\": \"Tom\" }\n",
    "print('\\t1. Declaration : d = {\"Name\": \"Tom\"}    Value :', d)\n",
    "d = { (1,3,4): 4.5 }\n",
    "print('\\t2. Declaration : d = { (1,3,4): 4.5 }   Value :', d)\n",
    "d = { 1: 0.4 }\n",
    "print('\\t4. Declaration : { 1: 0.4 }             Value :', d)\n",
    "print('''Answer : d = { [\"First\", \"Last\"]: (1,3) } is not valid for 'dict' type''')\n",
    "d = { [\"First\", \"Last\"]: (1,3) }\n",
    "print('\\t3. Declaration : { [\"First\", \"Last\"]: (1,3) }   Value :', d)"
   ]
  },
  {
   "cell_type": "code",
   "execution_count": 7,
   "metadata": {
    "colab": {},
    "colab_type": "code",
    "id": "7kPbKcfMzTHP"
   },
   "outputs": [],
   "source": [
    "# Write a function reverseLookup(dictionary, value) that takes in a dictionary \n",
    "# and a value as arguments and returns a sorted list of all keys that contains the value. \n",
    "# The function will return an empty list if no match is found.\n",
    "\n",
    "# In - reverseLookup({'a':1, 'b':2, 'c':2}, 1)\n",
    "# Out - ['a']\n",
    "# In - reverseLookup({'a':1, 'b':2, 'c':2}, 2)\n",
    "# Out - ['b', 'c']\n",
    "# In - reverseLookup({'a':1, 'b':2, 'c':2}, 3)\n",
    "# Out - []"
   ]
  },
  {
   "cell_type": "code",
   "execution_count": 8,
   "metadata": {},
   "outputs": [
    {
     "name": "stdout",
     "output_type": "stream",
     "text": [
      "Solution : \n",
      "\n",
      "Reverse Lookup Dictionary\n",
      "Solution A : \n",
      "Values in the given Dictionary                  : \n",
      " {'a': 1, 'b': 2, 'c': 2}\n",
      "Value in the given key after sorting Dictionary : \n",
      " ['a']\n",
      "\n",
      "Solution B : \n",
      "Values in the given Dictionary                  : \n",
      " {'a': 1, 'b': 2, 'c': 2}\n",
      "Value in the given key after sorting Dictionary : \n",
      " ['b', 'c']\n",
      "\n",
      "Solution C : \n",
      "Values in the given Dictionary                  : \n",
      " {'a': 1, 'b': 2, 'c': 2}\n",
      "Value in the given key after sorting Dictionary : \n",
      " []\n"
     ]
    }
   ],
   "source": [
    "#Solution\n",
    "#Invert Dictionary\n",
    "print(\"Solution : \")\n",
    "print(\"\\nReverse Lookup Dictionary\")\n",
    "\n",
    "#Reverse Lookup Dictionary Function definition\n",
    "def reverseLookup(dictionary,value) : \n",
    "    invert_sampleDict={}\n",
    "    sorted_dictionary={k: dictionary[k] for k in sorted(dictionary)}\n",
    "    for k,v in d.items() :\n",
    "        invert_sampleDict.setdefault(v, []).append(k) \n",
    "    return invert_sampleDict.get(value,[])\n",
    "\n",
    "#Reverse Lookup Dictionary Function definition\n",
    "print(\"Solution A : \")\n",
    "d = {'a':1, 'b':2, 'c':2}\n",
    "print(\"Values in the given Dictionary                  : \\n\",d)\n",
    "key_value=reverseLookup(d,1)\n",
    "print(\"Value in the given key after sorting Dictionary : \\n\",key_value)\n",
    "\n",
    "print()\n",
    "print(\"Solution B : \")\n",
    "d = {'a':1, 'b':2, 'c':2}\n",
    "print(\"Values in the given Dictionary                  : \\n\",d)\n",
    "key_value=reverseLookup(d,2)\n",
    "print(\"Value in the given key after sorting Dictionary : \\n\",key_value)\n",
    "\n",
    "print()\n",
    "print(\"Solution C : \")\n",
    "d = {'a':1, 'b':2, 'c':2}\n",
    "print(\"Values in the given Dictionary                  : \\n\",d)\n",
    "key_value=reverseLookup(d,3)\n",
    "print(\"Value in the given key after sorting Dictionary : \\n\",key_value)"
   ]
  },
  {
   "cell_type": "code",
   "execution_count": 19,
   "metadata": {
    "colab": {},
    "colab_type": "code",
    "id": "s87Rvg2HDFYp"
   },
   "outputs": [],
   "source": [
    "# Write a function invertDictionary(d) that takes in a dictionary as argument and return a dictionary that inverts the keys and the values of the original dictionary.\n",
    "# In - invertDictionary({'a':1, 'b':2, 'c':3, 'd':2})\n",
    "# Out - {1: ['a'], 2: ['b', 'd'], 3: ['c']}\n",
    "# In - invertDictionary({'a':3, 'b':3, 'c':3})\n",
    "# Out - {3: ['a', 'c', 'b']}\n",
    "# In - invertDictionary({'a':2, 'b':1, 'c':2, 'd':1})\n",
    "# Out - {1: ['b', 'd'], 2: ['a', 'c']}"
   ]
  },
  {
   "cell_type": "code",
   "execution_count": 9,
   "metadata": {},
   "outputs": [
    {
     "name": "stdout",
     "output_type": "stream",
     "text": [
      "Solution : \n",
      "\tInvert Dictionary\n",
      "Solution A : \n",
      "Values in sampleDict Dictionary before invert  : \n",
      " {'a': 1, 'b': 2, 'c': 3, 'd': 2}\n",
      "Values in sampleDict Dictionary before invert  : \n",
      " {1: ['a'], 2: ['b', 'd'], 3: ['c']}\n",
      "\n",
      "Solution B : \n",
      "Values in sampleDict Dictionary before invert  : \n",
      " {'a': 3, 'b': 3, 'c': 3}\n",
      "Values in sampleDict Dictionary before invert  : \n",
      " {3: ['a', 'b', 'c']}\n",
      "\n",
      "Solution B : \n",
      "Values in sampleDict Dictionary before invert  : \n",
      " {'a': 2, 'b': 1, 'c': 2, 'd': 1}\n",
      "Values in sampleDict Dictionary before invert  : \n",
      " {1: ['b', 'd'], 2: ['a', 'c']}\n"
     ]
    }
   ],
   "source": [
    "#Solution\n",
    "#Invert Dictionary\n",
    "print(\"Solution : \")\n",
    "print(\"\\tInvert Dictionary\")\n",
    "\n",
    "#Invert Function definition\n",
    "def invertDictionary(d) : \n",
    "    invert_sampleDict={}\n",
    "    for k,v in d.items() :\n",
    "        invert_sampleDict.setdefault(v, []).append(k)\n",
    "    invert_sampleDict = {k: invert_sampleDict[k] for k in sorted(invert_sampleDict)}\n",
    "    return invert_sampleDict\n",
    "\n",
    "#Initialize Dictionary\n",
    "print(\"Solution A : \")\n",
    "d = {'a':1, 'b':2, 'c':3, 'd':2}\n",
    "print(\"Values in sampleDict Dictionary before invert  : \\n\",d)\n",
    "invert_sampleDict1=invertDictionary(d)\n",
    "print(\"Values in sampleDict Dictionary before invert  : \\n\",invert_sampleDict1)\n",
    "\n",
    "print()\n",
    "print(\"Solution B : \")\n",
    "d = {'a':3, 'b':3, 'c':3}\n",
    "print(\"Values in sampleDict Dictionary before invert  : \\n\",d)\n",
    "invert_sampleDict2=invertDictionary(d)\n",
    "print(\"Values in sampleDict Dictionary before invert  : \\n\",invert_sampleDict2)\n",
    "\n",
    "print()\n",
    "print(\"Solution B : \")\n",
    "d = {'a':2, 'b':1, 'c':2, 'd':1}\n",
    "print(\"Values in sampleDict Dictionary before invert  : \\n\",d)\n",
    "invert_sampleDict3=invertDictionary(d)\n",
    "print(\"Values in sampleDict Dictionary before invert  : \\n\",invert_sampleDict3)"
   ]
  },
  {
   "cell_type": "code",
   "execution_count": null,
   "metadata": {
    "colab": {},
    "colab_type": "code",
    "id": "DgYyaZU6Oz7E"
   },
   "outputs": [],
   "source": [
    "# Write a function that converts a sparse vector into a dictionary as described above.\n",
    "# In - convertVector([1, 0, 0, 2, 0, 0, 0, 3, 0, 0, 0, 0, 4])\n",
    "# Out - {0: 1, 3: 2, 7: 3, 12: 4}\n",
    "# In - convertVector([1, 0, 1 , 0, 2, 0, 1, 0, 0, 1, 0])\n",
    "# Out - {0: 1, 2: 1, 4: 2, 6: 1, 9: 1}\n",
    "# In - convertVector([0, 0, 0, 0, 0])\n",
    "# Out - {}"
   ]
  },
  {
   "cell_type": "code",
   "execution_count": 10,
   "metadata": {},
   "outputs": [
    {
     "name": "stdout",
     "output_type": "stream",
     "text": [
      "Solution : \n",
      "\tConvert a Sparse vector into Dictionary\n",
      "Solution A : \n",
      "spare_vector_list before converting into dictionary        : \n",
      " [1, 0, 0, 2, 0, 0, 0, 3, 0, 0, 0, 0, 4]\n",
      "Resulted dictionary after converting the spare_vector_list : \n",
      " {0: 1, 3: 2, 7: 3, 12: 4}\n",
      "\n",
      "Solution B : \n",
      "spare_vector_list before converting into dictionary        : \n",
      " [1, 0, 1, 0, 2, 0, 1, 0, 0, 1, 0]\n",
      "Resulted dictionary after converting the spare_vector_list : \n",
      " {0: 1, 2: 1, 4: 2, 6: 1, 9: 1}\n",
      "\n",
      "Solution B : \n",
      "spare_vector_list before converting into dictionary        : \n",
      " [0, 0, 0, 0, 0]\n",
      "Resulted dictionary after converting the spare_vector_list : \n",
      " {}\n"
     ]
    }
   ],
   "source": [
    "#Solution\n",
    "#Convert a Sparse vector into Dictionary\n",
    "print(\"Solution : \")\n",
    "print(\"\\tConvert a Sparse vector into Dictionary\")\n",
    "\n",
    "#Converting a Sparse vector into Dictionary Function definition\n",
    "def convertVector(spare_vector_list) : \n",
    "    invert_sampleDict={n: v for n,v in enumerate(spare_vector_list) if v}\n",
    "    return invert_sampleDict\n",
    "\n",
    "#Sparse vector list\n",
    "print(\"Solution A : \")\n",
    "spare_vector_list = [1, 0, 0, 2, 0, 0, 0, 3, 0, 0, 0, 0, 4]\n",
    "print(\"spare_vector_list before converting into dictionary        : \\n\",spare_vector_list)\n",
    "invert_sampleDict1=convertVector(spare_vector_list)\n",
    "print(\"Resulted dictionary after converting the spare_vector_list : \\n\",invert_sampleDict1)\n",
    "\n",
    "print()\n",
    "print(\"Solution B : \")\n",
    "spare_vector_list = [1, 0, 1 , 0, 2, 0, 1, 0, 0, 1, 0]\n",
    "print(\"spare_vector_list before converting into dictionary        : \\n\",spare_vector_list)\n",
    "invert_sampleDict1=convertVector(spare_vector_list)\n",
    "print(\"Resulted dictionary after converting the spare_vector_list : \\n\",invert_sampleDict1)\n",
    "\n",
    "print()\n",
    "print(\"Solution B : \")\n",
    "spare_vector_list = [0, 0, 0, 0, 0]\n",
    "print(\"spare_vector_list before converting into dictionary        : \\n\",spare_vector_list)\n",
    "invert_sampleDict1=convertVector(spare_vector_list)\n",
    "print(\"Resulted dictionary after converting the spare_vector_list : \\n\",invert_sampleDict1)"
   ]
  },
  {
   "cell_type": "code",
   "execution_count": null,
   "metadata": {
    "colab": {},
    "colab_type": "code",
    "id": "ETCmEcflTGCI"
   },
   "outputs": [],
   "source": [
    "# Write a function that converts a dictionary back to its sparse vector representation.\n",
    "# In - convertDictionary({0: 1, 3: 2, 7: 3, 12: 4})\n",
    "# Out - [1, 0, 0, 2, 0, 0, 0, 3, 0, 0, 0, 0, 4]\n",
    "# In - convertDictionary({0: 1, 2: 1, 4: 2, 6: 1, 9: 1})\n",
    "# Out - [1, 0, 1, 0, 2, 0, 1, 0, 0, 1]\n",
    "# In - convertDictionary({})\n",
    "# Out - []"
   ]
  },
  {
   "cell_type": "code",
   "execution_count": 11,
   "metadata": {},
   "outputs": [
    {
     "name": "stdout",
     "output_type": "stream",
     "text": [
      "Solution : \n",
      "\tConvert a Dictionary into Sparse vector\n",
      "Solution A : \n",
      "Dictionary before converting into spare_vector_list        : \n",
      " {0: 1, 2: 1, 4: 2, 6: 1, 9: 1}\n",
      "Resulted spare_vector_list after converting the dictionary : \n",
      " [1, 0, 1, 0, 2, 0, 1, 0, 0, 1]\n",
      "\n",
      "Solution B : \n",
      "Dictionary before converting into spare_vector_list        : \n",
      " {0: 1, 3: 2, 7: 3, 12: 4}\n",
      "Resulted spare_vector_list after converting the dictionary : \n",
      " [1, 0, 0, 2, 0, 0, 0, 3, 0, 0, 0, 0, 4]\n",
      "\n",
      "Solution C : \n",
      "Dictionary before converting into spare_vector_list        : \n",
      " {}\n",
      "Resulted spare_vector_list after converting the dictionary : \n",
      " []\n"
     ]
    }
   ],
   "source": [
    "#Solution\n",
    "#Convert a Dictionary into Sparse vector\n",
    "print(\"Solution : \")\n",
    "print(\"\\tConvert a Dictionary into Sparse vector\")\n",
    "\n",
    "#Converting a Dictionary into Sparse vector Function definition\n",
    "def convertDictionary(sampleDict) :\n",
    "    if(bool(sampleDict)) :\n",
    "        return [sampleDict.get(i,0) for i in range(0,max(sampleDict)+1)]\n",
    "    else :\n",
    "        return []\n",
    "\n",
    "#Sparse vector list\n",
    "print(\"Solution A : \")\n",
    "sampleDict = {0: 1, 2: 1, 4: 2, 6: 1, 9: 1}\n",
    "print(\"Dictionary before converting into spare_vector_list        : \\n\",sampleDict)\n",
    "spare_vector_list2=convertDictionary(sampleDict)\n",
    "print(\"Resulted spare_vector_list after converting the dictionary : \\n\",spare_vector_list2)\n",
    "\n",
    "print()\n",
    "#Sparse vector list\n",
    "print(\"Solution B : \")\n",
    "sampleDict = {0: 1, 3: 2, 7: 3, 12: 4}\n",
    "print(\"Dictionary before converting into spare_vector_list        : \\n\",sampleDict)\n",
    "spare_vector_list1=convertDictionary(sampleDict)\n",
    "print(\"Resulted spare_vector_list after converting the dictionary : \\n\",spare_vector_list1)\n",
    "\n",
    "print()\n",
    "#Sparse vector list\n",
    "print(\"Solution C : \")\n",
    "sampleDict = {}\n",
    "print(\"Dictionary before converting into spare_vector_list        : \\n\",sampleDict)\n",
    "spare_vector_list3=convertDictionary(sampleDict)\n",
    "print(\"Resulted spare_vector_list after converting the dictionary : \\n\",spare_vector_list3)"
   ]
  },
  {
   "cell_type": "code",
   "execution_count": null,
   "metadata": {
    "colab": {},
    "colab_type": "code",
    "id": "tTANm2QKZXh3"
   },
   "outputs": [],
   "source": [
    "# Given a Python dictionary, Change Brad’s salary to 8500\n",
    "# sampleDict = {\n",
    "#      'emp1': {'name': 'Jhon', 'salary': 7500},\n",
    "#      'emp2': {'name': 'Emma', 'salary': 8000},\n",
    "#      'emp3': {'name': 'Brad', 'salary': 6500}\n",
    "# }\n",
    "\n",
    "# Expected Output\n",
    "# sampleDict = {\n",
    "#      'emp1': {'name': 'Jhon', 'salary': 7500},\n",
    "#      'emp2': {'name': 'Emma', 'salary': 8000},\n",
    "#      'emp3': {'name': 'Brad', 'salary': 8500}\n",
    "# }"
   ]
  },
  {
   "cell_type": "code",
   "execution_count": 12,
   "metadata": {},
   "outputs": [
    {
     "name": "stdout",
     "output_type": "stream",
     "text": [
      "Solution : \n",
      "\tUpdate Brad’s salary to 8500\n",
      "Values in sampleDict Dictionary before updating Brad's salary : \n",
      " {'emp1': {'name': 'Jhon', 'salary': 7500}, 'emp2': {'name': 'Emma', 'salary': 8000}, 'emp3': {'name': 'Brad', 'salary': 6500}}\n",
      "\n",
      "Values in sampleDict Dictionary after  updating Brad's salary : \n",
      " {'emp1': {'name': 'Jhon', 'salary': 7500}, 'emp2': {'name': 'Emma', 'salary': 8000}, 'emp3': {'name': 'Brad', 'salary': 8500}}\n"
     ]
    }
   ],
   "source": [
    "#Solution\n",
    "#Update Brad’s salary to 8500\n",
    "print(\"Solution : \")\n",
    "print(\"\\tUpdate Brad’s salary to 8500\")\n",
    "\n",
    "#Initialize Dictionary with default values\n",
    "sampleDict = {\n",
    "     'emp1': {'name': 'Jhon', 'salary': 7500},\n",
    "     'emp2': {'name': 'Emma', 'salary': 8000},\n",
    "     'emp3': {'name': 'Brad', 'salary': 6500}\n",
    "}\n",
    "print(\"Values in sampleDict Dictionary before updating Brad's salary : \\n\",sampleDict)\n",
    "\n",
    "print()\n",
    "#Update Brad’s salary to 8500\n",
    "sampleDict['emp3']['salary'] = 8500\n",
    "print(\"Values in sampleDict Dictionary after  updating Brad's salary : \\n\",sampleDict)"
   ]
  },
  {
   "cell_type": "code",
   "execution_count": null,
   "metadata": {
    "colab": {},
    "colab_type": "code",
    "id": "8dUHXiCVZmUx"
   },
   "outputs": [],
   "source": [
    "# Get the key corresponding to the minimum value from the following dictionary\n",
    "# sampleDict = {\n",
    "#   'Physics': 82,\n",
    "#   'Math': 65,\n",
    "#   'history': 75\n",
    "# }\n",
    "\n",
    "# Expected Output\n",
    "# Math"
   ]
  },
  {
   "cell_type": "code",
   "execution_count": 13,
   "metadata": {},
   "outputs": [
    {
     "name": "stdout",
     "output_type": "stream",
     "text": [
      "Solution : \n",
      "\tKey of minimum value from the Dictionary\n",
      "Values in sampleDict Dictionary   :  {'Physics': 82, 'Math': 65, 'history': 75}\n",
      "Math\n"
     ]
    }
   ],
   "source": [
    "#Solution\n",
    "#Key of minimum value from the Dictionary\n",
    "print(\"Solution : \")\n",
    "print(\"\\tKey of minimum value from the Dictionary\")\n",
    "\n",
    "#Initialize Dictionary with default values\n",
    "sampleDict = {'Physics': 82,'Math': 65,'history': 75}\n",
    "print('Values in sampleDict Dictionary   : ',sampleDict)\n",
    "\n",
    "#Key of minimum value from the Dictionary\n",
    "min_value=min(sampleDict.values())\n",
    "for key in sampleDict.keys() :\n",
    "    if(sampleDict.get(key)==min_value) :\n",
    "        print(key)"
   ]
  },
  {
   "cell_type": "code",
   "execution_count": null,
   "metadata": {
    "colab": {},
    "colab_type": "code",
    "id": "AQe5QNGdZ7aJ"
   },
   "outputs": [],
   "source": [
    "# Rename key city to location in the following dictionary\n",
    "# sampleDict = {\n",
    "#   \"name\": \"Kelly\",\n",
    "#   \"age\":25,\n",
    "#   \"salary\": 8000,\n",
    "#   \"city\": \"New york\"\n",
    "# }\n",
    "\n",
    "# Expected Output\n",
    "# {\n",
    "#   \"name\": \"Kelly\",\n",
    "#   \"age\":25,\n",
    "#   \"salary\": 8000,\n",
    "#   \"location\": \"New york\"\n",
    "# }"
   ]
  },
  {
   "cell_type": "code",
   "execution_count": 28,
   "metadata": {},
   "outputs": [
    {
     "name": "stdout",
     "output_type": "stream",
     "text": [
      "Solution : \n",
      "\tRename key city to location in Dictionary\n",
      "sampleDict Dictionary before updating  key \"city\" :  {'name': 'Kelly', 'age': 25, 'salary': 8000, 'city': 'New york'}\n",
      "sampleDict Dictionary after  updating  key \"city\" :  {'name': 'Kelly', 'age': 25, 'salary': 8000, 'location': 'New york'}\n"
     ]
    }
   ],
   "source": [
    "#Solution\n",
    "#Rename key city to location in Dictionary\n",
    "print(\"Solution : \")\n",
    "print(\"\\tRename key city to location in Dictionary\")\n",
    "\n",
    "#Dictionary variable declaration\n",
    "sampleDict = {\"name\": \"Kelly\",\"age\":25,\"salary\": 8000,\"city\": \"New york\"}\n",
    "print('sampleDict Dictionary before updating  key \"city\" : ',sampleDict)\n",
    "\n",
    "#Rename key city to location in Dictionary\n",
    "sampleDict[\"location\"]=sampleDict.pop(\"city\")\n",
    "print('sampleDict Dictionary after  updating  key \"city\" : ',sampleDict)"
   ]
  },
  {
   "cell_type": "code",
   "execution_count": 29,
   "metadata": {
    "colab": {},
    "colab_type": "code",
    "id": "e19_ddO9aNNw"
   },
   "outputs": [],
   "source": [
    "# Check if a value 200 exists in a dictionary\n",
    "# sampleDict = {'a': 100, 'b': 200, 'c': 300}\n",
    "\n",
    "# Expected Output: True"
   ]
  },
  {
   "cell_type": "code",
   "execution_count": 30,
   "metadata": {},
   "outputs": [
    {
     "name": "stdout",
     "output_type": "stream",
     "text": [
      "Solution : \n",
      "\tCheck if a value 200 exists in a Dictionary\n",
      "Values in sampleDict Dictionary   :  {'a': 100, 'b': 200, 'c': 300}\n",
      "Result   : \n",
      "True\n"
     ]
    }
   ],
   "source": [
    "#Solution\n",
    "#Check if a value 200 exists in a Dictionary\n",
    "print(\"Solution : \")\n",
    "print(\"\\tCheck if a value 200 exists in a Dictionary\")\n",
    "\n",
    "#Initialize Dictionary with default values\n",
    "sampleDict = {'a': 100, 'b': 200, 'c': 300}\n",
    "print('Values in sampleDict Dictionary   : ',sampleDict)\n",
    "\n",
    "#Check if a value 200 exists in a Dictionary\n",
    "print('Result   : ')\n",
    "value_list=sampleDict.values()\n",
    "print(200 in value_list)"
   ]
  },
  {
   "cell_type": "code",
   "execution_count": null,
   "metadata": {
    "colab": {},
    "colab_type": "code",
    "id": "yphwjc1gabMa"
   },
   "outputs": [],
   "source": [
    "# Delete set of keys from Python Dictionary\n",
    "# sampleDict = {\n",
    "#   \"name\": \"Kelly\",\n",
    "#   \"age\":25,\n",
    "#   \"salary\": 8000,\n",
    "#   \"city\": \"New york\"\n",
    "  \n",
    "# }\n",
    "# keysToRemove = [\"name\", \"salary\"]\n",
    "\n",
    "# Expected Output:\n",
    "# {'city': 'New york', 'age': 25}"
   ]
  },
  {
   "cell_type": "code",
   "execution_count": 31,
   "metadata": {},
   "outputs": [
    {
     "name": "stdout",
     "output_type": "stream",
     "text": [
      "Solution : \n",
      "\tDelete set of keys from Dictionary\n",
      "Dictionary before deleting keys \"name\" and \"salary\"   :  {'name': 'Kelly', 'age': 25, 'salary': 8000, 'city': 'New york'}\n",
      "Dictionary after  deleting keys \"name\" and \"salary\"   :  {'age': 25, 'city': 'New york'}\n"
     ]
    }
   ],
   "source": [
    "#Solution\n",
    "#Delete set of keys from Dictionary\n",
    "print(\"Solution : \")\n",
    "print(\"\\tDelete set of keys from Dictionary\")\n",
    "\n",
    "#Initialize dictionary with default values\n",
    "sampleDict = {\"name\": \"Kelly\",\"age\":25,\"salary\": 8000,\"city\": \"New york\"}\n",
    "print('Dictionary before deleting keys \"name\" and \"salary\"   : ',sampleDict)\n",
    "\n",
    "#Delete keys \"name\" and \"salary\" from Dictionary\n",
    "sampleDict.pop(\"name\")\n",
    "sampleDict.pop(\"salary\")\n",
    "print('Dictionary after  deleting keys \"name\" and \"salary\"   : ',sampleDict)"
   ]
  }
 ],
 "metadata": {
  "colab": {
   "name": "Dictionary_Assignment.ipynb",
   "provenance": []
  },
  "kernelspec": {
   "display_name": "Python 3",
   "language": "python",
   "name": "python3"
  },
  "language_info": {
   "codemirror_mode": {
    "name": "ipython",
    "version": 3
   },
   "file_extension": ".py",
   "mimetype": "text/x-python",
   "name": "python",
   "nbconvert_exporter": "python",
   "pygments_lexer": "ipython3",
   "version": "3.8.3"
  }
 },
 "nbformat": 4,
 "nbformat_minor": 1
}
