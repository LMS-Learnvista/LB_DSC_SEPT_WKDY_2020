{
 "cells": [
  {
   "cell_type": "markdown",
   "metadata": {},
   "source": [
    "# Assignment - 4 - 25th Spetember 2020 - Function"
   ]
  },
  {
   "cell_type": "code",
   "execution_count": null,
   "metadata": {
    "id": "1YVTYu-CuCOO"
   },
   "outputs": [],
   "source": [
    "# Define a function calls addNumber(x, y) that takes in two number and returns the sum of the two numbers."
   ]
  },
  {
   "cell_type": "code",
   "execution_count": 1,
   "metadata": {},
   "outputs": [
    {
     "name": "stdout",
     "output_type": "stream",
     "text": [
      "Solution : \n",
      "\tAddtion of two number using function\n",
      "Enter the value of num1 : 23\n",
      "Enter the value of num2 : 6\n",
      "The result of addition of given two numbers :  29\n"
     ]
    }
   ],
   "source": [
    "#Solution\n",
    "#Addtion of two number using function\n",
    "print(\"Solution : \")\n",
    "print(\"\\tAddtion of two number using function\")\n",
    "\n",
    "#Addtion function definition\n",
    "def addtion_two_number(x,y) :\n",
    "    return x+y\n",
    "\n",
    "#Addtion of two number using function\n",
    "num1=int(input('Enter the value of num1 : '))\n",
    "num2=int(input('Enter the value of num2 : '))\n",
    "sum=addtion_two_number(num1,num2)\n",
    "print('The result of addition of given two numbers : ', sum)"
   ]
  },
  {
   "cell_type": "code",
   "execution_count": null,
   "metadata": {
    "id": "1-gIq-Rju2i2"
   },
   "outputs": [],
   "source": [
    "# Define a function calls subtractNumber(x, y) that takes in two numbers and returns the difference of the two numbers."
   ]
  },
  {
   "cell_type": "code",
   "execution_count": 3,
   "metadata": {},
   "outputs": [
    {
     "name": "stdout",
     "output_type": "stream",
     "text": [
      "Solution : \n",
      "\tSubtraction of two number using function\n",
      "Enter the value of num1 : 23\n",
      "Enter the value of num2 : 5\n",
      "The result of subtraction of given two numbers :  18\n"
     ]
    }
   ],
   "source": [
    "#Solution\n",
    "#Subtraction of two number using function\n",
    "print(\"Solution : \")\n",
    "print(\"\\tSubtraction of two number using function\")\n",
    "\n",
    "#Subtraction function definition\n",
    "def subtraction_two_number(x,y) :\n",
    "    return x-y\n",
    "\n",
    "#Addtion of two number using function\n",
    "num1=int(input('Enter the value of num1 : '))\n",
    "num2=int(input('Enter the value of num2 : '))\n",
    "difference=subtraction_two_number(num1,num2)\n",
    "print('The result of subtraction of given two numbers : ', difference)"
   ]
  },
  {
   "cell_type": "code",
   "execution_count": null,
   "metadata": {
    "id": "kiAE0iLbviG9"
   },
   "outputs": [],
   "source": [
    "# Write a function getBiggerNumber(x, y) that takes in two numbers as arguments and returns the bigger number."
   ]
  },
  {
   "cell_type": "code",
   "execution_count": 4,
   "metadata": {},
   "outputs": [
    {
     "name": "stdout",
     "output_type": "stream",
     "text": [
      "Solution : \n",
      "\tGreatest of two number using function\n",
      "Enter the value of num1 : 23\n",
      "Enter the value of num2 : 4\n",
      "The result of greatest of given two numbers :  23\n"
     ]
    }
   ],
   "source": [
    "#Solution\n",
    "#Greatest of two number using function\n",
    "print(\"Solution : \")\n",
    "print(\"\\tGreatest of two number using function\")\n",
    "\n",
    "#Subtraction function definition\n",
    "def greatest_two_number(x,y) :\n",
    "    max_no= x if x>y else y\n",
    "    return max_no\n",
    "\n",
    "#Greatest of two number using function\n",
    "num1=int(input('Enter the value of num1 : '))\n",
    "num2=int(input('Enter the value of num2 : '))\n",
    "greater_no=greatest_two_number(num1,num2)\n",
    "print('The result of greatest of given two numbers : ', greater_no)"
   ]
  },
  {
   "cell_type": "code",
   "execution_count": null,
   "metadata": {
    "id": "10B5oVcZh16d"
   },
   "outputs": [],
   "source": [
    "# Python provides many built-in modules with many useful functions. \n",
    "# One such module is the math module. The math module provides many useful functions such as sqrt(x), pow(x, y), ceil(x), floor(x) etc. \n",
    "# You will need to do a \"import math\" before you are allowed to use the functions within the math module.\n",
    "\n",
    "# Calculate the square root of 16 and stores it in the variable a\n",
    "# Calculate 3 to the power of 5 and stores it in the variable b\n",
    "# Calculate area of circle with radius = 3.0 by making use of the math.pi constant and store it in the variable c"
   ]
  },
  {
   "cell_type": "code",
   "execution_count": 5,
   "metadata": {},
   "outputs": [
    {
     "name": "stdout",
     "output_type": "stream",
     "text": [
      "Solution : \n",
      "\tBuilt-in functions\n",
      "The square root of 16 using sqrt(16) function            :  4.0\n",
      "The value of 3 to the power of 5 using pow(3,5) function :  243.0\n",
      "The value of area of circle using pi*pow(3,2)            :  28.274333882308138\n"
     ]
    }
   ],
   "source": [
    "#Solution\n",
    "#Built-in functions\n",
    "print(\"Solution : \")\n",
    "print(\"\\tBuilt-in functions\")\n",
    "\n",
    "#Built-in functions\n",
    "import math\n",
    "\n",
    "#sqrt(x) function\n",
    "a=math.sqrt(16)\n",
    "print('The square root of 16 using sqrt(16) function            : ', a)\n",
    "\n",
    "#pow(x,y) function\n",
    "b=math.pow(3,5)\n",
    "print('The value of 3 to the power of 5 using pow(3,5) function : ', b)\n",
    "\n",
    "#Area of circle\n",
    "PI_VALUE=math.pi\n",
    "c=PI_VALUE*math.pow(3.0,2)\n",
    "print('The value of area of circle using pi*pow(3,2)            : ', c)"
   ]
  },
  {
   "cell_type": "code",
   "execution_count": null,
   "metadata": {
    "id": "Yado0B99h2E_"
   },
   "outputs": [],
   "source": [
    "# Write a function to convert temperature from Celsius to Fahrenheit scale.\n",
    "# oC to oF Conversion: Multipy by 9, then divide by 5, then add 32.\n",
    "\n",
    "# Note: Return a string of 2 decimal places.\n",
    "# In - Cel2Fah(28.0)\n",
    "# Out - '82.40'\n",
    "# In - Cel2Fah(0.00)\n",
    "# Out - '32.00'"
   ]
  },
  {
   "cell_type": "code",
   "execution_count": 6,
   "metadata": {},
   "outputs": [
    {
     "name": "stdout",
     "output_type": "stream",
     "text": [
      "Solution : \n",
      "\tConvert Temperature from Celsius to Fahrenheit scale\n",
      "Solution A : \n",
      "The value of Celsius value     :  28.0\n",
      "The result of Fahrenheit scale :  82.40\n",
      "\n",
      "Solution B : \n",
      "The value of Celsius value     :  0.0\n",
      "The result of Fahrenheit scale :  32.00\n"
     ]
    }
   ],
   "source": [
    "#Solution\n",
    "#Convert Temperature from Celsius to Fahrenheit scale\n",
    "print(\"Solution : \")\n",
    "print(\"\\tConvert Temperature from Celsius to Fahrenheit scale\")\n",
    "\n",
    "#Convert Temperature from Celsius to Fahrenheit scale\n",
    "def Cel2Fah(x) :\n",
    "    celsius_To_Fah=(x*9)/5+32\n",
    "    return celsius_To_Fah\n",
    "\n",
    "#Temperature from Celsius to Fahrenheit scale function definition\n",
    "print(\"Solution A : \")\n",
    "num1=28.0\n",
    "print('The value of Celsius value     : ', num1)\n",
    "Fahrenheit_value=Cel2Fah(num1)\n",
    "print('The result of Fahrenheit scale : ', \"{0:.2f}\".format(Fahrenheit_value))\n",
    "\n",
    "print()\n",
    "print(\"Solution B : \")\n",
    "num1=0.00\n",
    "print('The value of Celsius value     : ', num1)\n",
    "Fahrenheit_value=Cel2Fah(num1)\n",
    "print('The result of Fahrenheit scale : ', \"{0:.2f}\".format(Fahrenheit_value))"
   ]
  },
  {
   "cell_type": "code",
   "execution_count": null,
   "metadata": {
    "id": "n7lsFol9h2ID"
   },
   "outputs": [],
   "source": [
    "# Write a function to compute the BMI of a person.\n",
    "#     BMI = weight(kg)  /  ( height(m)*height(m) )\n",
    "\n",
    "# Note: Return a string of 1 decimal place.\n",
    "# In - BMI(63, 1.7)\n",
    "# Out - '21.8'\n",
    "# In - BMI(110, 2)\n",
    "# Out - '27.5'"
   ]
  },
  {
   "cell_type": "code",
   "execution_count": 7,
   "metadata": {},
   "outputs": [
    {
     "name": "stdout",
     "output_type": "stream",
     "text": [
      "Solution : \n",
      "\tTo Compute the BMI of a person\n",
      "Solution A : \n",
      "The value of weight in kg          :  63\n",
      "The value of height in m           :  1.7\n",
      "The result of BMI for given values :  21.8\n",
      "\n",
      "Solution A : \n",
      "The value of weight in kg          :  110\n",
      "The value of height in m           :  2\n",
      "The result of BMI for given values :  27.5\n"
     ]
    }
   ],
   "source": [
    "#Solution\n",
    "#To Compute the BMI of a person\n",
    "print(\"Solution : \")\n",
    "print(\"\\tTo Compute the BMI of a person\")\n",
    "\n",
    "#BMI of a person function definition\n",
    "def BMI(w,h) :\n",
    "    bmi_value=w/(math.pow(h,2))\n",
    "    return bmi_value\n",
    "\n",
    "#To Compute the BMI of a person\n",
    "print(\"Solution A : \")\n",
    "weight1=63\n",
    "height1=1.7\n",
    "print('The value of weight in kg          : ', weight1)\n",
    "print('The value of height in m           : ', height1)\n",
    "bmi_result_value1=BMI(weight1,height1)\n",
    "print('The result of BMI for given values : ', round(bmi_result_value1,1))\n",
    "\n",
    "print()\n",
    "print(\"Solution A : \")\n",
    "weight2=110\n",
    "height2=2\n",
    "print('The value of weight in kg          : ', weight2)\n",
    "print('The value of height in m           : ', height2)\n",
    "bmi_result_value2=BMI(weight2,height2)\n",
    "print('The result of BMI for given values : ', round(bmi_result_value2,1))"
   ]
  },
  {
   "cell_type": "code",
   "execution_count": null,
   "metadata": {
    "id": "f2tV1AU8h2LN"
   },
   "outputs": [],
   "source": [
    "# Write a function percent(value, total) that takes in two numbers as arguments, and returns the percentage value as an integer.\n",
    "# In - percent(46, 90)\n",
    "# Out - 51\n",
    "# In - percent(51, 51)\n",
    "# Out - 100\n",
    "# In - percent(63, 12)\n",
    "# Out - 525"
   ]
  },
  {
   "cell_type": "code",
   "execution_count": 8,
   "metadata": {},
   "outputs": [
    {
     "name": "stdout",
     "output_type": "stream",
     "text": [
      "Solution : \n",
      "\tTo Compute the percentage of given number\n",
      "Solution A : \n",
      "The value of variable value1  :  46\n",
      "The value of variable total1  :  90\n",
      "The result of percentage for given values :  51\n",
      "\n",
      "Solution B : \n",
      "The value of variable value2  :  51\n",
      "The value of variable total2  :  51\n",
      "The result of percentage for given values :  100\n",
      "\n",
      "Solution C : \n",
      "The value of variable value3  :  63\n",
      "The value of variable total3  :  12\n",
      "The result of percentage for given values :  525\n"
     ]
    }
   ],
   "source": [
    "#Solution\n",
    "#To Compute the percentage of given number\n",
    "print(\"Solution : \")\n",
    "print(\"\\tTo Compute the percentage of given number\")\n",
    "\n",
    "#Import math library\n",
    "import math\n",
    "\n",
    "#Percentage of given number function definition\n",
    "def percent(v,t) :\n",
    "    percentage_value=(v/t)*100\n",
    "    return percentage_value\n",
    "\n",
    "#To Compute the percentage of given number\n",
    "print(\"Solution A : \")\n",
    "value1=46\n",
    "total1=90\n",
    "print('The value of variable value1  : ', value1)\n",
    "print('The value of variable total1  : ', total1)\n",
    "percent_value1=percent(value1,total1)\n",
    "print('The result of percentage for given values : ', math.floor(percent_value1))\n",
    "\n",
    "print()\n",
    "print(\"Solution B : \")\n",
    "value2=51\n",
    "total2=51\n",
    "print('The value of variable value2  : ', value2)\n",
    "print('The value of variable total2  : ', total2)\n",
    "percent_value2=percent(value2,total2)\n",
    "print('The result of percentage for given values : ', math.floor(percent_value2))\n",
    "\n",
    "print()\n",
    "print(\"Solution C : \")\n",
    "value3=63\n",
    "total3=12\n",
    "print('The value of variable value3  : ', value3)\n",
    "print('The value of variable total3  : ', total3)\n",
    "percent_value3=percent(value3,total3)\n",
    "print('The result of percentage for given values : ', math.floor(percent_value3))"
   ]
  },
  {
   "cell_type": "code",
   "execution_count": null,
   "metadata": {
    "id": "QyoWR3dQh2OZ"
   },
   "outputs": [],
   "source": [
    "# Write a function to compute the hypotenuse given sides a and b of the triangle.\n",
    "# Hint: You can use math.sqrt(x) to compute the square root of x.\n",
    "# In - hypotenuse(3, 4)\n",
    "# Out - 5\n",
    "# In - hypotenuse(5, 12)\n",
    "# Out - 13"
   ]
  },
  {
   "cell_type": "code",
   "execution_count": 9,
   "metadata": {},
   "outputs": [
    {
     "name": "stdout",
     "output_type": "stream",
     "text": [
      "Solution : \n",
      "\tTo Compute hypotenuse given sides a and b of the triangle\n",
      "Solution A : \n",
      "The value of variable side1   :  3\n",
      "The value of variable height1 :  4\n",
      "The result of hypotenuse for given values :  5\n",
      "\n",
      "Solution B : \n",
      "The value of variable side2   :  5\n",
      "The value of variable height2 :  12\n",
      "The result of hypotenuse for given values :  13\n"
     ]
    }
   ],
   "source": [
    "#Solution\n",
    "#Hypotenuse given sides a and b of the triangle\n",
    "print(\"Solution : \")\n",
    "print(\"\\tTo Compute hypotenuse given sides a and b of the triangle\")\n",
    "\n",
    "#Import math library\n",
    "import math\n",
    "\n",
    "#Hypotenuse given sides a and b of the triangle function definition\n",
    "def hypotenuse(a,b) :\n",
    "    computed_value=math.sqrt(math.pow(a,2)+math.pow(b,2))\n",
    "    return computed_value\n",
    "\n",
    "#To Compute hypotenuse given sides a and b of the triangle\n",
    "print(\"Solution A : \")\n",
    "side1=3\n",
    "height1=4\n",
    "print('The value of variable side1   : ', side1)\n",
    "print('The value of variable height1 : ', height1)\n",
    "hypo_value1=hypotenuse(side1,height1)\n",
    "print('The result of hypotenuse for given values : ', round(hypo_value1))\n",
    "\n",
    "print()\n",
    "print(\"Solution B : \")\n",
    "side2=5\n",
    "height2=12\n",
    "print('The value of variable side2   : ', side2)\n",
    "print('The value of variable height2 : ', height2)\n",
    "hypo_value1=hypotenuse(side2,height2)\n",
    "print('The result of hypotenuse for given values : ', round(hypo_value1))"
   ]
  },
  {
   "cell_type": "code",
   "execution_count": null,
   "metadata": {
    "id": "XthPUigkh2Ro"
   },
   "outputs": [],
   "source": [
    "# Write a function getSumOfLastDigits() that takes in a list of positive numbers and returns the sum of all the last digits in the list.\n",
    "# getSumOfLastDigits([2, 3, 4])\n",
    "# 9\n",
    "# getSumOfLastDigits([1, 23, 456])\n",
    "# 10"
   ]
  },
  {
   "cell_type": "code",
   "execution_count": 10,
   "metadata": {},
   "outputs": [
    {
     "name": "stdout",
     "output_type": "stream",
     "text": [
      "Solution : \n",
      "\tTo Compute sum of all the last digits for given numbers\n",
      "Solution A : \n",
      "The value of given input list :  [2, 3, 4]\n",
      "The result of sum of all the last digits for given numbers :  9\n",
      "\n",
      "Solution B : \n",
      "The value of given input list :  [1, 23, 456]\n",
      "The result of sum of all the last digits for given numbers :  10\n"
     ]
    }
   ],
   "source": [
    "#Solution\n",
    "#Sum of all the last digits for given numbers\n",
    "print(\"Solution : \")\n",
    "print(\"\\tTo Compute sum of all the last digits for given numbers\")\n",
    "\n",
    "#Import math library\n",
    "import math\n",
    "\n",
    "#Sum of all the last digits for given numbers function definition\n",
    "def getSumOfLastDigits(list1) :\n",
    "    computed_value=0\n",
    "    for i in list1 :\n",
    "        computed_value=computed_value+i%10\n",
    "    return computed_value\n",
    "\n",
    "#To Compute sum of all the last digits for given numbers\n",
    "print(\"Solution A : \")\n",
    "list1=[2, 3, 4]\n",
    "print('The value of given input list : ', list1)\n",
    "sum_value1=getSumOfLastDigits(list1)\n",
    "print('The result of sum of all the last digits for given numbers : ', sum_value1)\n",
    "\n",
    "print()\n",
    "print(\"Solution B : \")\n",
    "list2=[1, 23, 456]\n",
    "print('The value of given input list : ', list2)\n",
    "sum_value2=getSumOfLastDigits(list2)\n",
    "print('The result of sum of all the last digits for given numbers : ', sum_value2)"
   ]
  },
  {
   "cell_type": "code",
   "execution_count": null,
   "metadata": {
    "id": "T-uIqm9Mh2Un"
   },
   "outputs": [],
   "source": [
    "# Write a function that uses a default value.\n",
    "# In - introduce('Lim', 20)\n",
    "# Out - 'My name is Lim. I am 20 years old.'\n",
    "# In - introduce('Ahmad')\n",
    "# Out - 'My name is Ahmad. My age is secret.'"
   ]
  },
  {
   "cell_type": "code",
   "execution_count": 11,
   "metadata": {},
   "outputs": [
    {
     "name": "stdout",
     "output_type": "stream",
     "text": [
      "Solution : \n",
      "\tFunction to use default value\n",
      "Solution A : \n",
      "The value of given input name :  Lim\n",
      "My name is Lim. I am 20 years old.\n",
      "\n",
      "Solution B : \n",
      "The value of given input name :  Ahmad\n",
      "My name is Ahmad. My age is secret.\n"
     ]
    }
   ],
   "source": [
    "#Solution\n",
    "#Function to use default value\n",
    "print(\"Solution : \")\n",
    "print(\"\\tFunction to use default value\")\n",
    "\n",
    "#Function to use default value function definition\n",
    "def introduce(n,a=0) :\n",
    "    if(a>0) :\n",
    "        print('My name is Lim. I am 20 years old.')\n",
    "    else :\n",
    "        print('My name is Ahmad. My age is secret.')\n",
    "\n",
    "#Function to use default value\n",
    "print(\"Solution A : \")\n",
    "name1='Lim'\n",
    "age1=20\n",
    "print('The value of given input name : ', name1)\n",
    "introduce(name1,age1)\n",
    "\n",
    "print()\n",
    "print(\"Solution B : \")\n",
    "name2='Ahmad'\n",
    "print('The value of given input name : ', name2)\n",
    "introduce(name2)"
   ]
  },
  {
   "cell_type": "code",
   "execution_count": null,
   "metadata": {
    "id": "h0pXo5vH6wA-"
   },
   "outputs": [],
   "source": [
    "# Write a function isEquilateral(x, y, z) that accepts the 3 sides of a triangle as arguments. \n",
    "# The program should return True if it is an equilateral triangle.\n",
    "\n",
    "# In - isEquilateral(2, 4, 3)\n",
    "# False - False\n",
    "# In - isEquilateral(3, 3, 3)\n",
    "# Out - True\n",
    "# In - isEquilateral(-3, -3, -3)\n",
    "# Out - False"
   ]
  },
  {
   "cell_type": "code",
   "execution_count": 12,
   "metadata": {},
   "outputs": [
    {
     "name": "stdout",
     "output_type": "stream",
     "text": [
      "Solution : \n",
      "\tCheck whether the given values form Equilateral triangle\n",
      "Solution A : \n",
      "The value of given sides are  :  2 4 3\n",
      "Whether the given values form Equilateral triangle?\n",
      "False\n",
      "\n",
      "Solution B : \n",
      "The value of given sides are  :  3 3 3\n",
      "Whether the given values form Equilateral triangle?\n",
      "True\n",
      "\n",
      "Solution C : \n",
      "The value of given sides are  :  -3 -3 -3\n",
      "Whether the given values form Equilateral triangle?\n",
      "False\n"
     ]
    }
   ],
   "source": [
    "#Solution\n",
    "#Check whether the given values form Equilateral triangle\n",
    "print(\"Solution : \")\n",
    "print(\"\\tCheck whether the given values form Equilateral triangle\")\n",
    "\n",
    "#Check whether the given values form Equilateral triangle function definition\n",
    "def isEquilateral(a,b,c) :\n",
    "    result=False\n",
    "    if(a>0 and b>0 and c>0) :\n",
    "        if(a==b==c) :\n",
    "            result=True\n",
    "    print(result)\n",
    "\n",
    "#Check whether the given values form Equilateral triangle\n",
    "print(\"Solution A : \")\n",
    "a1=2\n",
    "b1=4\n",
    "c1=3\n",
    "print('The value of given sides are  : ', a1,b1,c1)\n",
    "print('Whether the given values form Equilateral triangle?')\n",
    "isEquilateral(a1,b1,c1)\n",
    "\n",
    "print()\n",
    "print(\"Solution B : \")\n",
    "a2=3\n",
    "b2=3\n",
    "c2=3\n",
    "print('The value of given sides are  : ', a2,b2,c2)\n",
    "print('Whether the given values form Equilateral triangle?')\n",
    "isEquilateral(a2,b2,c2)\n",
    "\n",
    "print()\n",
    "print(\"Solution C : \")\n",
    "a3=-3\n",
    "b3=-3\n",
    "c3=-3\n",
    "print('The value of given sides are  : ', a3,b3,c3)\n",
    "print('Whether the given values form Equilateral triangle?')\n",
    "isEquilateral(a3,b3,c3)"
   ]
  },
  {
   "cell_type": "code",
   "execution_count": null,
   "metadata": {
    "id": "3NvcKCkn6wFy"
   },
   "outputs": [],
   "source": [
    "# For a quadratic equation in the form of ax2+bx+c, the discriminant, D is b2-4ac. Write a function to compute the discriminant, D.\n",
    "# In - quadratic(1, 2, 3)\n",
    "# Out - 'The discriminant is -8.'\n",
    "# In - quadratic(1, 3, 2)\n",
    "# Out - 'The discriminant is 1.'\n",
    "# In - quadratic(1, 4, 4)\n",
    "# Out - 'The discriminant is 0.'"
   ]
  },
  {
   "cell_type": "code",
   "execution_count": 13,
   "metadata": {},
   "outputs": [
    {
     "name": "stdout",
     "output_type": "stream",
     "text": [
      "Solution : \n",
      "\tFunction to compute the discriminant\n",
      "Solution A : \n",
      "The value of given co-efficients of x^2,x and constant is :  1 2 3\n",
      "The value of discriminant is -8 .\n",
      "\n",
      "Solution B : \n",
      "The value of given co-efficients of x^2,x and constant is :  1 3 2\n",
      "The value of discriminant is 1 .\n",
      "\n",
      "Solution C : \n",
      "The value of given co-efficients of x^2,x and constant is :  1 4 4\n",
      "The value of discriminant is 0 .\n"
     ]
    }
   ],
   "source": [
    "#Solution\n",
    "#Function to compute the discriminant\n",
    "print(\"Solution : \")\n",
    "print(\"\\tFunction to compute the discriminant\")\n",
    "\n",
    "#Discriminant function definition\n",
    "def quadratic(a,b,c) :\n",
    "    computed_value=math.pow(b,2)-4*a*c\n",
    "    return computed_value\n",
    "\n",
    "#Function to compute the discriminant\n",
    "print(\"Solution A : \")\n",
    "a1=1\n",
    "b1=2\n",
    "c1=3\n",
    "print('The value of given co-efficients of x^2,x and constant is : ', a1,b1,c1)\n",
    "discriminant_value1=quadratic(a1,b1,c1)\n",
    "print('The value of discriminant is', round(discriminant_value1),'.')\n",
    "\n",
    "print()\n",
    "print(\"Solution B : \")\n",
    "a2=1\n",
    "b2=3\n",
    "c2=2\n",
    "print('The value of given co-efficients of x^2,x and constant is : ', a2,b2,c2)\n",
    "discriminant_value2=quadratic(a2,b2,c2)\n",
    "print('The value of discriminant is', round(discriminant_value2),'.')\n",
    "\n",
    "print()\n",
    "print(\"Solution C : \")\n",
    "a3=1\n",
    "b3=4\n",
    "c3=4\n",
    "print('The value of given co-efficients of x^2,x and constant is : ', a3,b3,c3)\n",
    "discriminant_value3=quadratic(a3,b3,c3)\n",
    "print('The value of discriminant is', round(discriminant_value3),'.')"
   ]
  },
  {
   "cell_type": "code",
   "execution_count": null,
   "metadata": {
    "id": "ihmuttBS6wJQ"
   },
   "outputs": [],
   "source": [
    "# Define a function calls addFirstAndLast(x) that takes in a list of numbers and returns the sum of the first and last numbers.\n",
    "# In - addFirstAndLast([])\n",
    "# Out - 0\n",
    "# In - addFirstAndLast([2, 7, 3])\n",
    "# Out - 5\n",
    "# In - addFirstAndLast([10])\n",
    "# Out - 10"
   ]
  },
  {
   "cell_type": "code",
   "execution_count": 14,
   "metadata": {},
   "outputs": [
    {
     "name": "stdout",
     "output_type": "stream",
     "text": [
      "Solution : \n",
      "\tFunction to compute sum of the first and last numbers from the given list\n",
      "Solution A : \n",
      "The value of given input list :  []\n",
      "The result of sum of first and last numbers for given list :  0\n",
      "\n",
      "Solution B : \n",
      "The value of given input list :  [2, 7, 3]\n",
      "The result of sum of first and last numbers for given list :  5\n",
      "\n",
      "Solution C : \n",
      "The value of given input list :  [10]\n",
      "The result of sum of first and last numbers for given list :  10\n"
     ]
    }
   ],
   "source": [
    "#Solution\n",
    "#Function to compute sum of the first and last numbers from the given numbers\n",
    "print(\"Solution : \")\n",
    "print(\"\\tFunction to compute sum of the first and last numbers from the given list\")\n",
    "\n",
    "#Sum of the first and last numbers function definition\n",
    "def addFirstAndLast(list_value) :\n",
    "    if(len(list_value) > 1) :\n",
    "        computed_value=list_value[0]+list_value[-1]\n",
    "    elif((len(list_value) == 1)) :\n",
    "        computed_value=list_value[0]\n",
    "    else :\n",
    "        computed_value=0\n",
    "    return computed_value\n",
    "\n",
    "#To Compute sum of all the last digits for given numbers\n",
    "print(\"Solution A : \")\n",
    "list1=[]\n",
    "print('The value of given input list : ', list1)\n",
    "sum_value1=addFirstAndLast(list1)\n",
    "print('The result of sum of first and last numbers for given list : ', sum_value1)\n",
    "\n",
    "print()\n",
    "print(\"Solution B : \")\n",
    "list2=[2, 7, 3]\n",
    "print('The value of given input list : ', list2)\n",
    "sum_value2=addFirstAndLast(list2)\n",
    "print('The result of sum of first and last numbers for given list : ', sum_value2)\n",
    "\n",
    "print()\n",
    "print(\"Solution C : \")\n",
    "list3=[10]\n",
    "print('The value of given input list : ', list3)\n",
    "sum_value3=addFirstAndLast(list3)\n",
    "print('The result of sum of first and last numbers for given list : ', sum_value3)"
   ]
  },
  {
   "cell_type": "code",
   "execution_count": null,
   "metadata": {
    "id": "lEt9HNPI6wM0"
   },
   "outputs": [],
   "source": [
    "# Complete the 'lambda' expression so that it returns True if the argument is an even number, and False otherwise."
   ]
  },
  {
   "cell_type": "code",
   "execution_count": 15,
   "metadata": {},
   "outputs": [
    {
     "name": "stdout",
     "output_type": "stream",
     "text": [
      "Solution : \n",
      "\tLambda Expression\n",
      "Solution : \n",
      "Enter the input value : 33443\n",
      "The value of given input value :  33443\n",
      "The result of given value whether it is even no or not : False\n"
     ]
    }
   ],
   "source": [
    "#Solution\n",
    "#Lambda Expression\n",
    "print(\"Solution : \")\n",
    "print(\"\\tLambda Expression\")\n",
    "\n",
    "#Lambda Expression function definition\n",
    "def lambda_expression(x) :\n",
    "    computed_value=(lambda input_value: True if (input_value%2 == 0) else False)(x) \n",
    "    return computed_value\n",
    "\n",
    "#lambda Expression\n",
    "print(\"Solution : \")\n",
    "input_value=int(input('Enter the input value : '))\n",
    "print('The value of given input value : ', input_value)\n",
    "result=(lambda input_value: True if (input_value%2 == 0) else False)(input_value) \n",
    "print('The result of given value whether it is even no or not :', result)"
   ]
  },
  {
   "cell_type": "code",
   "execution_count": null,
   "metadata": {
    "id": "JYWSZXPg6wQN"
   },
   "outputs": [],
   "source": [
    "# getScore.__doc__\n",
    "# 'A function that computes and returns the final score.'"
   ]
  },
  {
   "cell_type": "code",
   "execution_count": 16,
   "metadata": {},
   "outputs": [
    {
     "name": "stdout",
     "output_type": "stream",
     "text": [
      "Solution : \n",
      "\tDocumentation of a function\n",
      "Solution : \n",
      "Documentation of getScore function is below :\n",
      "\t A function that computes and returns the final score.\n"
     ]
    }
   ],
   "source": [
    "#Solution\n",
    "#Documentation of a function\n",
    "print(\"Solution : \")\n",
    "print(\"\\tDocumentation of a function\")\n",
    "\n",
    "#Lambda Expression function definition\n",
    "def getScore() :\n",
    "    '''A function that computes and returns the final score.'''\n",
    "    print('\\t',getScore.__doc__)\n",
    "\n",
    "#Documentation of a function\n",
    "print(\"Solution : \")\n",
    "print(\"Documentation of getScore function is below :\")\n",
    "getScore()"
   ]
  },
  {
   "cell_type": "code",
   "execution_count": null,
   "metadata": {
    "id": "zmi81hi76wTK"
   },
   "outputs": [],
   "source": [
    "# In Python, it is possible to pass a function as a argument to another function. \n",
    "# Write a function useFunction(func, num) that takes in a function and a number as arguments. \n",
    "# The useFunction should produce the output shown in the examples given below.\n",
    "\n",
    "# def addOne(x):\n",
    "#   return x + 1\n",
    "# useFunction(addOne, 4)\n",
    "# 25\n",
    "# useFunction(addOne, 9)\n",
    "# 100\n",
    "# useFunction(addOne, 0)\n",
    "# 1"
   ]
  },
  {
   "cell_type": "code",
   "execution_count": 17,
   "metadata": {},
   "outputs": [
    {
     "name": "stdout",
     "output_type": "stream",
     "text": [
      "Solution : \n",
      "\tPass a function as a argument to another function\n",
      "Solution A : \n",
      "The input number passed as parameter     : 4\n",
      "The result is square of (input number+1) : 25\n",
      "\n",
      "Solution B : \n",
      "The input number passed as parameter     : 9\n",
      "The result is square of (input number+1) : 100\n",
      "\n",
      "Solution C : \n",
      "The input number passed as parameter     : 0\n",
      "The result is square of (input number+1) : 1\n"
     ]
    }
   ],
   "source": [
    "#Solution\n",
    "#Pass a function as a argument to another function\n",
    "print(\"Solution : \")\n",
    "print(\"\\tPass a function as a argument to another function\")\n",
    "\n",
    "#useFunction function definition\n",
    "def useFunction(func_name,y) :\n",
    "    return pow(func_name(y),2)\n",
    "\n",
    "#Pass a function as a argument to another function\n",
    "def addOne(x) :\n",
    "    return x+1\n",
    "\n",
    "#Pass a function as a argument to another function\n",
    "print(\"Solution A : \")\n",
    "input_no1=4\n",
    "print('The input number passed as parameter     :', input_no1)\n",
    "result=useFunction(addOne, input_no1)\n",
    "print('The result is square of (input number+1) :', result)\n",
    "\n",
    "print()\n",
    "print(\"Solution B : \")\n",
    "input_no2=9\n",
    "print('The input number passed as parameter     :', input_no2)\n",
    "result=useFunction(addOne, input_no2)\n",
    "print('The result is square of (input number+1) :', result)\n",
    "\n",
    "print()\n",
    "print(\"Solution C : \")\n",
    "input_no3=0\n",
    "print('The input number passed as parameter     :', input_no3)\n",
    "result=useFunction(addOne, input_no3)\n",
    "print('The result is square of (input number+1) :', result)"
   ]
  }
 ],
 "metadata": {
  "colab": {
   "name": "Function_Assignment.ipynb",
   "provenance": []
  },
  "kernelspec": {
   "display_name": "Python 3",
   "language": "python",
   "name": "python3"
  },
  "language_info": {
   "codemirror_mode": {
    "name": "ipython",
    "version": 3
   },
   "file_extension": ".py",
   "mimetype": "text/x-python",
   "name": "python",
   "nbconvert_exporter": "python",
   "pygments_lexer": "ipython3",
   "version": "3.8.3"
  }
 },
 "nbformat": 4,
 "nbformat_minor": 1
}
