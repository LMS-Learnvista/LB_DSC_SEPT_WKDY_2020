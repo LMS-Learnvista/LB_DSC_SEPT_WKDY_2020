{
 "cells": [
  {
   "cell_type": "code",
   "execution_count": 16,
   "metadata": {},
   "outputs": [
    {
     "name": "stdout",
     "output_type": "stream",
     "text": [
      "Enter third stringPython\n",
      "R{vjfml\n"
     ]
    }
   ],
   "source": [
    "#Write a python program which takes one input string from user and encode it in below format:-\n",
    "    # 1. #Input:- 'Python'\n",
    "       #Output:- 'R{vjqp'\n",
    "        \n",
    "str1=input('Enter first string') \n",
    "istr1=0\n",
    "c=''\n",
    "str2=''\n",
    "for i in range(0, len(str1)):\n",
    "     istr1=chr(ord(str1[i])+2)\n",
    "     str2=str2+istr1\n",
    "print(str2)\n",
    "        \n",
    "        \n",
    "        \n",
    "\n",
    "    # 2. #Input:- 'Python'\n",
    "       #Output:- 'Rwvfql'\n",
    "str3=input('Enter second string') \n",
    "istr2=0\n",
    "c=2\n",
    "str4=''\n",
    "for i in range(0, len(str3)):\n",
    "     istr2=chr(ord(str3[i])+c)\n",
    "     str4=str4+istr2\n",
    "     c*=-1\n",
    "print(str4)\n",
    "              \n",
    "        \n",
    "        \n",
    "        \n",
    "        \n",
    "    # 3. #Input:- 'Python'\n",
    "       #Output:- 'R{vkfml'\n",
    "str5=input('Enter third string') \n",
    "istr3=0\n",
    "c=2\n",
    "str6=''\n",
    "t=0\n",
    "for i in range(0, len(str5)):\n",
    "     if(t==1):\n",
    "        i=i-1\n",
    "        istr3=chr(ord(str5[i])+c)\n",
    "        str6=str6+istr3\n",
    "        t=0\n",
    "        i=i+1\n",
    "   \n",
    "     istr3=chr(ord(str5[i])+c)\n",
    "     str6=str6+istr3 \n",
    "     \n",
    "     if(i==len(str5)/2):\n",
    "      c*=-1\n",
    "      t=1\n",
    "print(str6)\n",
    "              \n",
    "        \n"
   ]
  },
  {
   "cell_type": "code",
   "execution_count": null,
   "metadata": {},
   "outputs": [],
   "source": []
  }
 ],
 "metadata": {
  "kernelspec": {
   "display_name": "Python 3",
   "language": "python",
   "name": "python3"
  },
  "language_info": {
   "codemirror_mode": {
    "name": "ipython",
    "version": 3
   },
   "file_extension": ".py",
   "mimetype": "text/x-python",
   "name": "python",
   "nbconvert_exporter": "python",
   "pygments_lexer": "ipython3",
   "version": "3.8.3"
  }
 },
 "nbformat": 4,
 "nbformat_minor": 4
}
