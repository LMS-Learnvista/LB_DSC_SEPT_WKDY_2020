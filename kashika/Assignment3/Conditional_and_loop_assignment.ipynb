{
 "cells": [
  {
   "cell_type": "markdown",
   "metadata": {
    "colab_type": "text",
    "id": "wNRNTbrsc53d"
   },
   "source": [
    "# If - elif - else statement"
   ]
  },
  {
   "cell_type": "code",
   "execution_count": 3,
   "metadata": {
    "colab": {},
    "colab_type": "code",
    "id": "MiPfTnBycxNa"
   },
   "outputs": [
    {
     "name": "stdout",
     "output_type": "stream",
     "text": [
      "Enter a number:2\n",
      "Two\n"
     ]
    }
   ],
   "source": [
    "#W. A P. which takes one number from 0 to 9 from the user and prints it in the word. And if the word is not from 0 to 9 then\n",
    "#it should print that number is outside of the range and program should exit.\n",
    "# For exapmple:- \n",
    "# input = 1\n",
    "# output = one\n",
    "num=(input(\"Enter a number:\"))\n",
    "if(num=='0'):\n",
    "    print('Zero')\n",
    "elif(num=='1'):\n",
    "    print('one')\n",
    "elif(num=='2'):\n",
    "    print('Two')\n",
    "elif(num=='3'):\n",
    "    print('Three')\n",
    "elif(num=='4'):\n",
    "    print('Four')\n",
    "elif(num=='5'):\n",
    "    print('Five')\n",
    "elif(num=='6'):\n",
    "    print('Six')\n",
    "elif(num=='7'):\n",
    "    print('Seven')\n",
    "elif(num=='8'):\n",
    "    print('Eight')\n",
    "elif(num=='9'):\n",
    "    print('Nine')\n",
    "else:\n",
    "    print('Number out of range')\n"
   ]
  },
  {
   "cell_type": "code",
   "execution_count": 23,
   "metadata": {
    "colab": {},
    "colab_type": "code",
    "id": "vEMNOv9zdA39"
   },
   "outputs": [
    {
     "name": "stdout",
     "output_type": "stream",
     "text": [
      "Please select any one operation from below:-\n",
      "#         * To add enter 1\n",
      "#         * to subtract enter 2\n",
      "#         * To multiply enter 3\n",
      "#         * To divide enter 4\n",
      "#         * To divide and find quotient enter 5\n",
      "#         * To divide and find remainder enter 6\n",
      "#         * To divide and find num1 to the power of num2 enter 7\n",
      "#         * To Come out of the program enter 85\n",
      "Enter bigger number:33\n",
      "Enter smaller number:10\n",
      "3\n"
     ]
    }
   ],
   "source": [
    "#W. A P. to implement calculator but the operation to be done and two numbers will be taken as input from user:-\n",
    "#Operation console should show below:-\n",
    "#     Please select any one operation from below:-\n",
    "#         * To add enter 1\n",
    "#         * to subtract enter 2\n",
    "#         * To multiply enter 3\n",
    "#         * To divide enter 4\n",
    "#         * To divide and find quotient enter 5\n",
    "#         * To divide and find remainder enter 6\n",
    "#         * To divide and find num1 to the power of num2 enter 7\n",
    "#         * To Come out of the program enter 8\n",
    "\n",
    "num=(input('''Please select any one operation from below:-\n",
    "#         * To add enter 1\n",
    "#         * to subtract enter 2\n",
    "#         * To multiply enter 3\n",
    "#         * To divide enter 4\n",
    "#         * To divide and find quotient enter 5\n",
    "#         * To divide and find remainder enter 6\n",
    "#         * To divide and find num1 to the power of num2 enter 7\n",
    "#         * To Come out of the program enter 8'''))\n",
    "\n",
    "num1=int(input(\"Enter bigger number:\"))\n",
    "num2=int(input(\"Enter smaller number:\"))\n",
    "if(num=='1'):\n",
    "    print(num1+num2)\n",
    "elif(num=='2'):\n",
    "    print(num-num2)\n",
    "elif(num=='3'):\n",
    "    print(num1*num2)\n",
    "elif(num=='4'):\n",
    "    print(num1/num2)\n",
    "elif(num=='5'):\n",
    "    print(num1//num2)\n",
    "elif(num=='6'):\n",
    "    print(num1%num2)\n",
    "elif(num=='7'):\n",
    "    print(num1**num2)\n",
    "elif(num=='8'):\n",
    "    print('Exit')\n",
    "else:\n",
    "    print('Number out of range')\n",
    "\n",
    "\n"
   ]
  },
  {
   "cell_type": "code",
   "execution_count": 9,
   "metadata": {
    "colab": {},
    "colab_type": "code",
    "id": "1e2gwYLqdC1s"
   },
   "outputs": [
    {
     "name": "stdout",
     "output_type": "stream",
     "text": [
      "Enter a year1000\n",
      "Not leap year\n"
     ]
    }
   ],
   "source": [
    "#W A P to check whether a year entered by user is an leap year or not?\n",
    "#Check with below input:-\n",
    "    #leap year:- 2012, 1968, 2004, 1200, 1600,2400\n",
    "    #Non-lear year:- 1971, 2006, 1700,1800,1900\n",
    "    \n",
    "yr=int(input('Enter a year'))\n",
    "if(yr%4==0 and yr%100==0):\n",
    "  if(yr%400==0):\n",
    "    print(\"Leap Year\")\n",
    "  else:\n",
    "    print(\"Not leap year\")\n",
    "elif(yr%4==0 and yr%100!=0):\n",
    "  print(\"Leap Year\")\n",
    "else:\n",
    "  print(\"Not leap year\")\n",
    "\n",
    " "
   ]
  },
  {
   "cell_type": "code",
   "execution_count": 11,
   "metadata": {
    "colab": {},
    "colab_type": "code",
    "id": "_tpXv1EtdEre"
   },
   "outputs": [
    {
     "name": "stdout",
     "output_type": "stream",
     "text": [
      "Enter a number7\n",
      "Odd number\n"
     ]
    }
   ],
   "source": [
    "#W A P which takes one number from the user and checks whether it is an even or odd number?, If it even then prints number is \n",
    "#even number else prints that number is odd number.\n",
    "num=int(input('Enter a number'))\n",
    "if(num%2==0):\n",
    "    print('Even number')\n",
    "else:\n",
    "    print('Odd number')\n"
   ]
  },
  {
   "cell_type": "code",
   "execution_count": 8,
   "metadata": {
    "colab": {},
    "colab_type": "code",
    "id": "Q1HumymCdG6i"
   },
   "outputs": [
    {
     "name": "stdout",
     "output_type": "stream",
     "text": [
      "Enter the first number:10\n",
      "Enter the second number:10\n",
      "numbers are equal\n"
     ]
    }
   ],
   "source": [
    "#W A P which takes two numbers from the user and prints below output:-\n",
    "#     1. num1 is greater than num2 if num1 is greater than num2\n",
    "#     2. num1 is smaller than num2 if num1 is smaller than num2\n",
    "#     3. num1 is equal to num2 if num1 and num2 are equal\n",
    "\n",
    "#Note:- 1. Do this problem using if - else \n",
    "#       2. Do this using ternary operator\n",
    "\n",
    "num1=int(input(\"Enter the first number:\"))\n",
    "num2=int(input(\"Enter the second number:\"))\n",
    "\n",
    "\n",
    "if(num1>num2):\n",
    "    print(\"num1 is greater than num2\")\n",
    "elif(num2>num1):\n",
    "    print(\"num1 is smaller than num2\")\n",
    "\n",
    "else:\n",
    "    print(\"numbers are equal\")\n",
    "\n",
    "    \n",
    "# ternary operator: print(\"num1 is greater than num2\") if num1 >num2 else print(\"num1 is smaller than num2\") if num2 >num1 else print(\"numbers are equal\")\n",
    "\n",
    "\n"
   ]
  },
  {
   "cell_type": "code",
   "execution_count": 11,
   "metadata": {
    "colab": {},
    "colab_type": "code",
    "id": "LR6TVB-DdOPf"
   },
   "outputs": [
    {
     "name": "stdout",
     "output_type": "stream",
     "text": [
      "Enter the first number:45\n",
      "Enter the second number:56\n",
      "Enter the third number:45\n",
      "num2 is greater than num1 and num3\n"
     ]
    }
   ],
   "source": [
    "#W A P which takes three numbers from the user and prints below output:-\n",
    "#     1. num1 is greater than num2 and num3 if num1 is greater than num2 and num3\n",
    "#     2. num2 is greater than num1 and num3 if num2 is greater than num1 and num3\n",
    "#     3. num3 is greater than num1 and num2 if num3 is greater than num1 and num2\n",
    "\n",
    "#Note:- 1. Do this problem using if - elif - else \n",
    "#       2. Do this using ternary operator\n",
    "\n",
    "# a = a if a>b else b\n",
    "num1=int(input(\"Enter the first number:\"))\n",
    "num2=int(input(\"Enter the second number:\"))\n",
    "num3=int(input(\"Enter the third number:\"))\n",
    "\n",
    "if(num1>num2 and num1>num3):\n",
    "    print(\"num1 is greater than num2 and num3\")\n",
    "elif(num2>num1 and num2>num3):\n",
    "    print(\"num2 is greater than num1 and num3\")\n",
    "elif(num3>num1 and num3>num2):\n",
    "    print(\"num3 is greater than num1 and num2\")\n",
    "elif(num1==num2==num3):\n",
    "    print(\"numbers are equal\")\n",
    "else:\n",
    "    print(\"two greater numbers are equal\")\n",
    "    \n",
    "# ternary operator: print(\"num1 is greater than num2 and num3\") if num1 >num2 and num1 >num3 else print(\"num2 is greater than num1 and num3\") if num2 >num1 and num2 >num3 else print(\"num3 is greater than num1 and num2\")\n"
   ]
  },
  {
   "cell_type": "markdown",
   "metadata": {
    "colab_type": "text",
    "id": "IoOLQMUGdSox"
   },
   "source": [
    "# Loops - for loop, while loop"
   ]
  },
  {
   "cell_type": "code",
   "execution_count": 14,
   "metadata": {
    "colab": {},
    "colab_type": "code",
    "id": "9K23Uld8dQfA"
   },
   "outputs": [
    {
     "name": "stdout",
     "output_type": "stream",
     "text": [
      "Length:  55\n"
     ]
    }
   ],
   "source": [
    "#Write a Python program to find the length of the my_str using loop:-\n",
    "\n",
    "#Input:- 'Write a Python program to find the length of the my_str'\n",
    "#Output:- 55\n",
    "str=\"Write a Python program to find the length of the my_str\"\n",
    "ct=0\n",
    "\n",
    "while True:\n",
    " try:\n",
    "    s=str[ct]\n",
    "    ct+=1\n",
    " except IndexError:\n",
    "    break\n",
    "\n",
    "print(\"Length: \",ct)\n"
   ]
  },
  {
   "cell_type": "code",
   "execution_count": 17,
   "metadata": {
    "colab": {},
    "colab_type": "code",
    "id": "bp6AcqTsdYxy"
   },
   "outputs": [
    {
     "name": "stdout",
     "output_type": "stream",
     "text": [
      "Count:  9\n"
     ]
    }
   ],
   "source": [
    "#Write a Python program to find the total number of times letter 'p' is appeared in the below string using loop:-\n",
    "    \n",
    "#Input:- 'peter piper picked a peck of pickled peppers.\\n'\n",
    "#Output:- 9\n",
    "str=\"peter piper picked a peck of pickled peppers.\\n\"\n",
    "ct=0\n",
    "i=0\n",
    "while True:\n",
    " try:\n",
    "    s=str[i]\n",
    "    if(s=='p'):\n",
    "     ct+=1\n",
    "    i+=1\n",
    " except IndexError:\n",
    "    break\n",
    "\n",
    "print(\"Count: \",ct)\n"
   ]
  },
  {
   "cell_type": "code",
   "execution_count": 19,
   "metadata": {
    "colab": {},
    "colab_type": "code",
    "id": "xvxSBhTJdav1"
   },
   "outputs": [
    {
     "name": "stdout",
     "output_type": "stream",
     "text": [
      "0\n",
      "6\n",
      "8\n",
      "12\n",
      "21\n",
      "29\n",
      "37\n",
      "39\n",
      "40\n"
     ]
    }
   ],
   "source": [
    "#Write a Python Program, to print all the indexes of all occurences of letter 'p' appeared in the string using loop:-\n",
    "    \n",
    "#Input:- 'peter piper picked a peck of pickled peppers.'\n",
    "#Output:- \n",
    "# 0\n",
    "# 6\n",
    "# 8\n",
    "# 12\n",
    "# 21\n",
    "# 29\n",
    "# 37\n",
    "# 39\n",
    "# 40\n",
    "\n",
    "str=\"peter piper picked a peck of pickled peppers.\\n\"\n",
    "i=0\n",
    "while True:\n",
    " try:\n",
    "    s=str[i]\n",
    "    if(s=='p'):\n",
    "     print(i)\n",
    "    i+=1\n",
    " except IndexError:\n",
    "    break\n"
   ]
  },
  {
   "cell_type": "code",
   "execution_count": 21,
   "metadata": {
    "colab": {},
    "colab_type": "code",
    "id": "79L_feMadbmw"
   },
   "outputs": [
    {
     "name": "stdout",
     "output_type": "stream",
     "text": [
      "['peter', 'piper', 'picked', 'a', 'peck', 'of', 'pickled', 'peppers.']\n"
     ]
    }
   ],
   "source": [
    "#Write a python program to find below output using loop:-\n",
    "\n",
    "#Input:- 'peter piper picked a peck of pickled peppers.'\n",
    "#Output:- ['peter', 'piper', 'picked', 'a', 'peck', 'of', 'pickled', 'peppers']\n",
    "\n",
    "str='peter piper picked a peck of pickled peppers.'\n",
    "lst=[]\n",
    "word=''\n",
    "for i in range(0,len(str)):\n",
    "    if(str[i]!=' '):\n",
    "     word=word+str[i]\n",
    "    elif(str[i]==' '):\n",
    "     lst.append(word)\n",
    "     word=''\n",
    "lst.append(word)\n",
    "print(lst)\n"
   ]
  },
  {
   "cell_type": "code",
   "execution_count": 13,
   "metadata": {
    "colab": {},
    "colab_type": "code",
    "id": "vzs5AJ53deVS"
   },
   "outputs": [
    {
     "name": "stdout",
     "output_type": "stream",
     "text": [
      "peppers. pickled of peck a picked piper peter\n"
     ]
    }
   ],
   "source": [
    "#Write a python program to find below output using loop:-\n",
    "\n",
    "#Input:- 'peter piper picked a peck of pickled peppers.'\n",
    "#Output:- 'peppers pickled of peck a picked piper peter'\n",
    "str='peter piper picked a peck of pickled peppers.'\n",
    "lst=[]\n",
    "word=''\n",
    "for i in range(0,len(str)):\n",
    "    if(str[i]!=' '):\n",
    "     word=word+str[i]\n",
    "    elif(str[i]==' '):\n",
    "     lst.append(word)\n",
    "     word=''\n",
    "lst.append(word)\n",
    "\n",
    "lst2=lst[::-1]\n",
    "str2=\"\"\n",
    "for i in range(0,len(lst2)):\n",
    "   str2=str2+' '+lst2[i]\n",
    "print(str2.strip())\n"
   ]
  },
  {
   "cell_type": "code",
   "execution_count": 12,
   "metadata": {
    "colab": {},
    "colab_type": "code",
    "id": "i-HP7DrCdhwS"
   },
   "outputs": [
    {
     "name": "stdout",
     "output_type": "stream",
     "text": [
      ".sreppep delkcip fo kcep a dekcip repip retep\n"
     ]
    }
   ],
   "source": [
    "#Write a python program to find below output using loop:-\n",
    "\n",
    "#Input:- 'peter piper picked a peck of pickled peppers.'\n",
    "#Output:- '.sreppep delkcip fo kcep a dekcip repip retep'\n",
    "str='peter piper picked a peck of pickled peppers.'\n",
    "lst=[]\n",
    "word=''\n",
    "for i in range(0,len(str)):\n",
    "    if(str[i]!=' '):\n",
    "     word=word+str[i]\n",
    "    elif(str[i]==' '):\n",
    "     lst.append(word)\n",
    "     word=''\n",
    "lst.append(word)\n",
    "\n",
    "lst2=lst[::-1]\n",
    "str2=\"\"\n",
    "for i in range(0,len(lst)):\n",
    "   str2=str2+' '+lst2[i][::-1]\n",
    "print(str2.strip())\n"
   ]
  },
  {
   "cell_type": "code",
   "execution_count": 11,
   "metadata": {
    "colab": {},
    "colab_type": "code",
    "id": "3rt6p0ytdkq0"
   },
   "outputs": [
    {
     "name": "stdout",
     "output_type": "stream",
     "text": [
      "retep repip dekcip a kcep fo delkcip .sreppep\n"
     ]
    }
   ],
   "source": [
    "#Write a python program to find below output using loop:-\n",
    "\n",
    "#Input:- 'peter piper picked a peck of pickled peppers.'\n",
    "#Output:- 'retep repip dekcip a kcep fo delkcip sreppep'\n",
    "\n",
    "str='peter piper picked a peck of pickled peppers.'\n",
    "lst=[]\n",
    "word=''\n",
    "for i in range(0,len(str)):\n",
    "    if(str[i]!=' '):\n",
    "     word=word+str[i]\n",
    "    elif(str[i]==' '):\n",
    "     lst.append(word)\n",
    "     word=''\n",
    "lst.append(word)\n",
    "\n",
    "\n",
    "str2=\"\"\n",
    "for i in range(0,len(lst)):\n",
    "   str2=str2+' '+lst[i][::-1]\n",
    "print(str2.strip())"
   ]
  },
  {
   "cell_type": "code",
   "execution_count": 9,
   "metadata": {
    "colab": {},
    "colab_type": "code",
    "id": "HdlAWgT2dnKO"
   },
   "outputs": [
    {
     "name": "stdout",
     "output_type": "stream",
     "text": [
      "Peter Piper Picked A Peck Of Pickled Peppers.\n"
     ]
    }
   ],
   "source": [
    "#Write a python program to find below output using loop:-\n",
    "\n",
    "#Input:- 'peter piper picked a peck of pickled peppers.'\n",
    "#Output:- 'Peter Piper Picked A Peck Of Pickled Peppers'\n",
    "str='peter piper picked a peck of pickled peppers.'\n",
    "lst=[]\n",
    "word=''\n",
    "for i in range(0,len(str)):\n",
    "    if(str[i]!=' '):\n",
    "     word=word+str[i]\n",
    "    elif(str[i]==' '):\n",
    "     lst.append(word)\n",
    "     word=''\n",
    "lst.append(word)\n",
    "\n",
    "\n",
    "str2=\"\"\n",
    "for i in range(0,len(lst)):\n",
    "   str2=str2+' '+lst[i]\n",
    "print(str2.strip().title())"
   ]
  },
  {
   "cell_type": "code",
   "execution_count": 10,
   "metadata": {
    "colab": {},
    "colab_type": "code",
    "id": "OthUuacodrNl"
   },
   "outputs": [
    {
     "name": "stdout",
     "output_type": "stream",
     "text": [
      "Peter piper picked a peck of pickled peppers.\n"
     ]
    }
   ],
   "source": [
    "#Write a python program to find below output using loop:-\n",
    "\n",
    "#Input:- 'Peter Piper Picked A Peck Of Pickled Peppers.'\n",
    "#Output:- 'Peter piper picked a peck of pickled peppers'\n",
    "\n",
    "str='peter piper picked a peck of pickled peppers.'\n",
    "lst=[]\n",
    "word=''\n",
    "for i in range(0,len(str)):\n",
    "    if(str[i]!=' '):\n",
    "     word=word+str[i]\n",
    "    elif(str[i]==' '):\n",
    "     lst.append(word)\n",
    "     word=''\n",
    "lst.append(word)\n",
    "\n",
    "\n",
    "str2=\"\"\n",
    "for i in range(0,len(lst)):  \n",
    "  str2=str2+' '+lst[i]\n",
    "print(str2.strip().capitalize())\n"
   ]
  },
  {
   "cell_type": "code",
   "execution_count": 2,
   "metadata": {
    "colab": {
     "base_uri": "https://localhost:8080/",
     "height": 34
    },
    "colab_type": "code",
    "id": "scmDJE-ldsI9",
    "outputId": "4b1d1979-9f4a-4bc6-c505-b88b1bbd4d5d"
   },
   "outputs": [
    {
     "name": "stdout",
     "output_type": "stream",
     "text": [
      "29\n"
     ]
    }
   ],
   "source": [
    "#Write a python program to implement index method using loop. If sub_str is found in my_str then it will print the index\n",
    "# of first occurrence of first character of matching string in my_str:-\n",
    "\n",
    "#Input:- my_str = 'Peter Piper Picked A Peck Of Pickled Peppers.', sub_str = 'Pickl'\n",
    "#Output:- 29\n",
    "my_str='Peter Piper Picked A Peck Of Pickled Peppers.'\n",
    "sub_str='Pickl'\n",
    "ind=-1\n",
    "while True:\n",
    " try:  \n",
    "  i=my_str.index(sub_str,ind+1) \n",
    "  ind=i\n",
    "  if(ind>-1):\n",
    "    break\n",
    " except ValueError:\n",
    "    break;\n",
    "  \n",
    "print(ind)"
   ]
  },
  {
   "cell_type": "code",
   "execution_count": 110,
   "metadata": {
    "colab": {},
    "colab_type": "code",
    "id": "Kq_fwdb_dvYE"
   },
   "outputs": [
    {
     "name": "stdout",
     "output_type": "stream",
     "text": [
      "Peter Piper Picked A Pack Of Pickled Peppers.\n"
     ]
    }
   ],
   "source": [
    "#Write a python program to implement replace method using loop. If sub_str is found in my_str then it will replace the first \n",
    "#occurrence of sub_str with new_str else it will will print sub_str not found:-\n",
    "\n",
    "#Input:- my_str = 'Peter Piper Picked A Peck Of Pickled Peppers.', sub_str = 'Peck', new_str = 'Pack'\n",
    "#Output:- 'Peter Piper Picked A Pack Of Pickled Peppers.'\n",
    "my_str='Peter Piper Picked A Peck Of Pickled Peppers.'\n",
    "\n",
    "sub_str='Peck'\n",
    "new_str = 'Pack'\n",
    "ind=-1\n",
    "while True:\n",
    " try:  \n",
    "  i=my_str.index(sub_str,ind+1) \n",
    "  ind=i\n",
    "  if(ind>-1):\n",
    "    break\n",
    " except ValueError:\n",
    "    break;\n",
    "\n",
    "# print(ind)\n",
    "j=0\n",
    "my_str2=\"\"\n",
    "i=0\n",
    "while i<(len(my_str)+len(new_str)-len(sub_str)):\n",
    "    if(i==ind):\n",
    "     for i in range(ind,ind+len(new_str)):\n",
    "            my_str2=my_str2+new_str[j]\n",
    "            j+=1\n",
    "    elif(i>=ind+len(new_str)):\n",
    "      my_str2=my_str2+my_str[i-(len(new_str)-len(sub_str))]\n",
    "    else:\n",
    "      my_str2=my_str2+my_str[i] \n",
    "    \n",
    "    i+=1\n",
    "   \n",
    "    \n",
    "        \n",
    "print(my_str2)\n"
   ]
  },
  {
   "cell_type": "code",
   "execution_count": 5,
   "metadata": {
    "colab": {},
    "colab_type": "code",
    "id": "4Qes5D0cdyd1"
   },
   "outputs": [
    {
     "name": "stdout",
     "output_type": "stream",
     "text": [
      "*********************Peck*********************\n"
     ]
    }
   ],
   "source": [
    "#Write a python program to find below output (implements rjust and ljust) using loop:-\n",
    "\n",
    "#Input:- 'Peter Piper Picked A Peck Of Pickled Peppers.', sub_str = 'Peck', \n",
    "#Output:- '*********************Peck********************'\n",
    "str='Peter Piper Picked A Peck Of Pickled Peppers.'\n",
    "sub_str = 'Peck'\n",
    "my_str=sub_str\n",
    "j=1\n",
    "\n",
    "while (len(my_str)<len(str)):\n",
    " r_str=my_str.rjust(len(my_str)+j,'*') \n",
    " \n",
    " l_str=r_str.ljust((len(r_str)+j),'*')\n",
    "\n",
    " my_str=l_str\n",
    "\n",
    " \n",
    " j+=1\n",
    " \n",
    "print(my_str)\n",
    "\n"
   ]
  },
  {
   "cell_type": "code",
   "execution_count": 9,
   "metadata": {
    "colab": {},
    "colab_type": "code",
    "id": "DsOrb07Od0lR"
   },
   "outputs": [
    {
     "name": "stdout",
     "output_type": "stream",
     "text": [
      "['This', 'is', 'Python class', 'is', 'Java and', 'is', 'R Python']\n"
     ]
    }
   ],
   "source": [
    "#Write a python program to find below output using loop:-\n",
    "\n",
    "#Input:- 'This is Python class', sep = 'is', \n",
    "#Output:- ['This', 'is', 'Python class']\n",
    "str='This is Python class is Java and is R Python'\n",
    "sep='is'\n",
    "lst=[]\n",
    "word=''\n",
    "for i in range(0,len(str)):\n",
    "    if(str[i]!=' '):\n",
    "     word=word+str[i]\n",
    "    elif(str[i]==' '):\n",
    "     lst.append(word)\n",
    "     word=''\n",
    "lst.append(word)\n",
    "\n",
    "lst2=[]\n",
    "ind=-1\n",
    "w=''\n",
    "\n",
    "for i in range(0,len(lst)):\n",
    " try:\n",
    "   z=lst.index(sep,ind+1)\n",
    "\n",
    "   for j in range(ind+1,z):\n",
    "      w=w+' '+lst[j] \n",
    "      j+=1\n",
    "\n",
    "   lst2.append(w.strip())\n",
    "   lst2.append(lst[z]) \n",
    "   w=''\n",
    "   ind=z\n",
    " \n",
    " except ValueError:\n",
    "    w=''\n",
    "    for k in range(j+1,len(lst)):\n",
    "      w=w+' '+lst[k]\n",
    "    lst2.append(w.strip())\n",
    "    w=''\n",
    "    break\n",
    " i=j\n",
    "print(lst2)\n",
    "    \n",
    "     \n",
    "            "
   ]
  },
  {
   "cell_type": "code",
   "execution_count": 1,
   "metadata": {
    "colab": {},
    "colab_type": "code",
    "id": "jRnBVufmd2Ay"
   },
   "outputs": [
    {
     "name": "stdout",
     "output_type": "stream",
     "text": [
      "Enter first stringPython\n",
      "R{vjqp\n",
      "Enter second stringPython\n",
      "Rwvfql\n",
      "Enter third stringPython\n",
      "R{vjfml\n"
     ]
    }
   ],
   "source": [
    "#Write a python program which takes one input string from user and encode it in below format:-\n",
    "    # 1. #Input:- 'Python'\n",
    "       #Output:- 'R{vjqp'\n",
    "        \n",
    "str1=input('Enter first string') \n",
    "istr1=0\n",
    "str2=''\n",
    "for i in range(0, len(str1)):\n",
    "     istr1=chr(ord(str1[i])+2)\n",
    "     str2=str2+istr1\n",
    "print(str2)\n",
    "        \n",
    "     \n",
    "        \n",
    "        \n",
    "        \n",
    "\n",
    "    # 2. #Input:- 'Python'\n",
    "       #Output:- 'Rwvfql'\n",
    "str3=input('Enter second string') \n",
    "istr2=0\n",
    "c=2\n",
    "str4=''\n",
    "for i in range(0, len(str3)):\n",
    "     istr2=chr(ord(str3[i])+c)\n",
    "     str4=str4+istr2\n",
    "     c*=-1\n",
    "print(str4)   \n",
    "        \n",
    "        \n",
    "        \n",
    "        \n",
    "    # 3. #Input:- 'Python'\n",
    "       #Output:- 'R{vkfml'\n",
    "str5=input('Enter third string') \n",
    "istr3=0\n",
    "c=2\n",
    "str6=''\n",
    "t=0\n",
    "for i in range(0, len(str5)):\n",
    "     if(t==1):\n",
    "        i=i-1\n",
    "        istr3=chr(ord(str5[i])+c)\n",
    "        str6=str6+istr3\n",
    "        t=0\n",
    "        i=i+1\n",
    "   \n",
    "     istr3=chr(ord(str5[i])+c)\n",
    "     str6=str6+istr3 \n",
    "     \n",
    "     if(i==len(str5)/2):\n",
    "      c*=-1\n",
    "      t=1\n",
    "print(str6)\n",
    "\n"
   ]
  },
  {
   "cell_type": "code",
   "execution_count": 35,
   "metadata": {},
   "outputs": [
    {
     "ename": "TypeError",
     "evalue": "'str' object is not callable",
     "output_type": "error",
     "traceback": [
      "\u001b[1;31m---------------------------------------------------------------------------\u001b[0m",
      "\u001b[1;31mTypeError\u001b[0m                                 Traceback (most recent call last)",
      "\u001b[1;32m<ipython-input-35-dfab160e0fcb>\u001b[0m in \u001b[0;36m<module>\u001b[1;34m\u001b[0m\n\u001b[1;32m----> 1\u001b[1;33m \u001b[0mchr\u001b[0m\u001b[1;33m(\u001b[0m\u001b[1;36m65\u001b[0m\u001b[1;33m)\u001b[0m\u001b[1;33m\u001b[0m\u001b[1;33m\u001b[0m\u001b[0m\n\u001b[0m",
      "\u001b[1;31mTypeError\u001b[0m: 'str' object is not callable"
     ]
    }
   ],
   "source": []
  },
  {
   "cell_type": "code",
   "execution_count": null,
   "metadata": {},
   "outputs": [],
   "source": []
  }
 ],
 "metadata": {
  "colab": {
   "name": "Conditional_and_loop_assignment.ipynb",
   "provenance": []
  },
  "kernelspec": {
   "display_name": "Python 3",
   "language": "python",
   "name": "python3"
  },
  "language_info": {
   "codemirror_mode": {
    "name": "ipython",
    "version": 3
   },
   "file_extension": ".py",
   "mimetype": "text/x-python",
   "name": "python",
   "nbconvert_exporter": "python",
   "pygments_lexer": "ipython3",
   "version": "3.8.3"
  }
 },
 "nbformat": 4,
 "nbformat_minor": 1
}
