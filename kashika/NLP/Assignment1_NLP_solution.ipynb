{
 "cells": [
  {
   "cell_type": "code",
   "execution_count": 11,
   "metadata": {},
   "outputs": [],
   "source": [
    "text1= 'xyz@gmail.com'\n",
    "text2 = 'abc@yahoo.com'\n",
    "text3='abc@yahoo.com'\n",
    "text4='abc@ineuron.ai'\n",
    "text5='xyz@outlook.com'"
   ]
  },
  {
   "cell_type": "code",
   "execution_count": 17,
   "metadata": {},
   "outputs": [
    {
     "name": "stdout",
     "output_type": "stream",
     "text": [
      "['@yahoo.com']\n"
     ]
    }
   ],
   "source": [
    "import re\n",
    "result = re.findall(r'@.+' , text2)\n",
    "print(result)"
   ]
  },
  {
   "cell_type": "code",
   "execution_count": 62,
   "metadata": {},
   "outputs": [
    {
     "name": "stdout",
     "output_type": "stream",
     "text": [
      "['@', 'yahoo', '.', 'com']\n",
      "['yahoo', 'com']\n"
     ]
    }
   ],
   "source": [
    "#Question 1\n",
    "from nltk.tokenize.regexp  import WordPunctTokenizer\n",
    "\n",
    "s= \"\".join(result)\n",
    "token = WordPunctTokenizer().tokenize(s)\n",
    "\n",
    "print(token)\n",
    "# print(f' number of words including punctuation {len(token)}')\n",
    "\n",
    "# print(f' number of words after removing duplication {len(set(token))}')\n",
    "# print(set(token))\n",
    "list=[word for word in token if word.isalnum()]\n",
    "print(list)"
   ]
  },
  {
   "cell_type": "code",
   "execution_count": 63,
   "metadata": {},
   "outputs": [
    {
     "name": "stdout",
     "output_type": "stream",
     "text": [
      "['@yahoo.com']\n"
     ]
    }
   ],
   "source": [
    "#Question 2\n",
    "st='New Delhi is the capital of India'\n",
    "r = re.findall(r'N\\D{3}' , st)\n",
    "print(result)"
   ]
  },
  {
   "cell_type": "code",
   "execution_count": 46,
   "metadata": {},
   "outputs": [
    {
     "name": "stdout",
     "output_type": "stream",
     "text": [
      "in india,  people got affected with corona virus and  are died.\n"
     ]
    }
   ],
   "source": [
    "#Question 3\n",
    "text6='In India, 184 people got affected with Corona virus and 4 are died.'\n",
    "l=text6.lower()\n",
    "lnew = re.sub(r'\\d+' ,\"\", l)\n",
    "print(lnew)"
   ]
  },
  {
   "cell_type": "code",
   "execution_count": 53,
   "metadata": {},
   "outputs": [
    {
     "name": "stdout",
     "output_type": "stream",
     "text": [
      "Requirement already satisfied: nltk in c:\\programdata\\anaconda3\\lib\\site-packages (3.5)\n",
      "Requirement already satisfied: tqdm in c:\\programdata\\anaconda3\\lib\\site-packages (from nltk) (4.47.0)\n",
      "Requirement already satisfied: regex in c:\\programdata\\anaconda3\\lib\\site-packages (from nltk) (2020.6.8)\n",
      "Requirement already satisfied: joblib in c:\\programdata\\anaconda3\\lib\\site-packages (from nltk) (0.16.0)\n",
      "Requirement already satisfied: click in c:\\programdata\\anaconda3\\lib\\site-packages (from nltk) (7.1.2)\n",
      "['I', 'hope', ',', 'I', 'built', 'savings', ',', 'I', 'able', 'travel', 'Hawai', '.']\n"
     ]
    },
    {
     "name": "stderr",
     "output_type": "stream",
     "text": [
      "[nltk_data] Downloading package stopwords to\n",
      "[nltk_data]     C:\\Users\\Welcome\\AppData\\Roaming\\nltk_data...\n",
      "[nltk_data]   Package stopwords is already up-to-date!\n"
     ]
    }
   ],
   "source": [
    "#Question 4 Tokenization\n",
    "text7='I hope that, when I have built up my savings, I will be able to travel to Hawai.'\n",
    "!pip install nltk\n",
    "import nltk\n",
    "from nltk.tokenize import word_tokenize\n",
    "from nltk.corpus import stopwords\n",
    "nltk.download('stopwords')\n",
    "\n",
    "\n",
    "stopword = stopwords.words('english')\n",
    "token = word_tokenize(text7)\n",
    "word = [word for word in token if word not in stopword]\n",
    "temp_str = \" \".join(word)\n",
    "print(word)"
   ]
  },
  {
   "cell_type": "code",
   "execution_count": 55,
   "metadata": {},
   "outputs": [
    {
     "name": "stdout",
     "output_type": "stream",
     "text": [
      "['I', 'hope', ',', 'I', 'built', 'save', ',', 'I', 'abl', 'travel', 'hawai', '.']\n",
      "I hope , I built save , I abl travel hawai .\n"
     ]
    }
   ],
   "source": [
    "#Question 4 stemming\n",
    "from nltk.stem.porter import PorterStemmer\n",
    "\n",
    "stem = PorterStemmer()\n",
    "stem_words = [ stem.stem(w) for w in word]\n",
    "print(stem_words)\n",
    "tem_str = \" \".join(stem_words)\n",
    "print(tem_str)"
   ]
  },
  {
   "cell_type": "code",
   "execution_count": 56,
   "metadata": {},
   "outputs": [
    {
     "name": "stdout",
     "output_type": "stream",
     "text": [
      "['I', 'hope', ',', 'I', 'built', 'saving', ',', 'I', 'able', 'travel', 'Hawai', '.']\n",
      "I hope , I built saving , I able travel Hawai .\n"
     ]
    }
   ],
   "source": [
    "#Question 4 lemmatization\n",
    "from nltk.stem import wordnet\n",
    "\n",
    "\n",
    "lem = wordnet.WordNetLemmatizer()\n",
    "\n",
    "lem_words = [ lem.lemmatize(w) for w in word]\n",
    "print(lem_words)\n",
    "tem_str = \" \".join(lem_words)\n",
    "print(tem_str)\n"
   ]
  },
  {
   "cell_type": "code",
   "execution_count": 60,
   "metadata": {},
   "outputs": [
    {
     "name": "stdout",
     "output_type": "stream",
     "text": [
      "['I', 'l', 'N', 'n', 'y']\n"
     ]
    }
   ],
   "source": [
    "#Question 5\n",
    "text8=\"I love NLP, not you\"\n",
    "token8 = word_tokenize(text8)\n",
    "t8=[w[0] for w in token8 if w.isalnum()]\n",
    "print(t8)"
   ]
  },
  {
   "cell_type": "code",
   "execution_count": null,
   "metadata": {},
   "outputs": [],
   "source": []
  }
 ],
 "metadata": {
  "kernelspec": {
   "display_name": "Python 3",
   "language": "python",
   "name": "python3"
  },
  "language_info": {
   "codemirror_mode": {
    "name": "ipython",
    "version": 3
   },
   "file_extension": ".py",
   "mimetype": "text/x-python",
   "name": "python",
   "nbconvert_exporter": "python",
   "pygments_lexer": "ipython3",
   "version": "3.8.3"
  }
 },
 "nbformat": 4,
 "nbformat_minor": 4
}
