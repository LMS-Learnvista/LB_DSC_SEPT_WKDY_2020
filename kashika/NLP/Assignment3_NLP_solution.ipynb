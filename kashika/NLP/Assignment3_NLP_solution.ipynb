{
 "cells": [
  {
   "cell_type": "markdown",
   "metadata": {},
   "source": [
    "## Q1 write a Python program to correct spellings using textblob \n",
    "\n",
    "so you have to give list of wrong words and output should the correct spellings of those words\n",
    "\n",
    "words = [\"Machne\", \"Learnin\"]\n",
    "\n",
    "and output should be \n",
    "\n",
    "Corrected Words are :\n",
    "Machine Learning "
   ]
  },
  {
   "cell_type": "code",
   "execution_count": 1,
   "metadata": {},
   "outputs": [],
   "source": [
    "from textblob import TextBlob"
   ]
  },
  {
   "cell_type": "code",
   "execution_count": 10,
   "metadata": {},
   "outputs": [
    {
     "name": "stdout",
     "output_type": "stream",
     "text": [
      "enter words:Machne Learnin\n",
      "Machine Learning\n"
     ]
    }
   ],
   "source": [
    "l=input(\"enter words:\")\n",
    "\n",
    "t=TextBlob(\"\".join(l))\n",
    "print(t.correct())"
   ]
  },
  {
   "cell_type": "markdown",
   "metadata": {},
   "source": [
    "### Q2 Identify the language and translate everying into English version and add it to a dataframe as new column in the existing csv and save the csv file\n",
    "\n",
    "example:\n",
    "initial columns of the csv file will be <b>Vegetable Names<b>\n",
    "    \n",
    "output should be csv with 2 new columns\n",
    "    \n",
    "    Vegetable Names  identified language  english version\n"
   ]
  },
  {
   "cell_type": "code",
   "execution_count": 2,
   "metadata": {},
   "outputs": [
    {
     "name": "stdout",
     "output_type": "stream",
     "text": [
      "  Vegetable Names identified language english version\n",
      "0      תפוחי אדמה                  iw        Potatoes\n",
      "1            बैगन                  hi         Brinjal\n",
      "2            女士手指               zh-CN     Lady finger\n",
      "3        Épinards                  fr         Spinach\n"
     ]
    }
   ],
   "source": [
    "import pandas as pd\n",
    "df=pd.DataFrame(['תפוחי אדמה','बैगन','女士手指','Épinards'], columns=['Vegetable Names'])\n",
    "# df1=pd.DataFrame([w for w in df['Vegetable Names']],[TextBlob(w).detect_language() for w in df['Vegetable Names']],[TextBlob(w).translate(to='en') for w in df['Vegetable Names']], columns=['Vegetable Names', 'identified language','english version'])\n",
    "lst=[]\n",
    "lst1=[]\n",
    "lst2=[]\n",
    "for i in range(0,len(df['Vegetable Names'])):\n",
    " lst.append(df['Vegetable Names'][i])\n",
    " lst1.append(TextBlob(df['Vegetable Names'][i]).detect_language())\n",
    " lst2.append(str(TextBlob(df['Vegetable Names'][i]).translate(from_lang=lst1[i], to=\"en\")))\n",
    "df1=pd.DataFrame( {'Vegetable Names':lst,'identified language':lst1,'english version':lst2})\n",
    "print (df1)\n",
    "# print(type(df['Vegetable Names']))"
   ]
  },
  {
   "cell_type": "markdown",
   "metadata": {},
   "source": [
    "### Q3 Generate a simple world cloud from the sentences (extract the keyword )"
   ]
  },
  {
   "cell_type": "code",
   "execution_count": 3,
   "metadata": {},
   "outputs": [],
   "source": [
    "sen = \"\"\"India has reported 11,039 new COVID-19 cases and 110 more fatalities in the last 24 hours, according to the Union Health Ministry. With this, the total number of cases rose to 1,07,77,284 and the death toll reached 1,54,596. As many as 14,225 patients were discharged in a day, taking the total recoveries to 1,04,62,631. India's active cases stand at 1,60,057.\"\"\"\n",
    "sen1 = \"\"\"With a global faculty from business schools around the world, BITSoM's MBA programme promises to shape the next generation of changemakers. The B-School announced that the programme will offer an immersive and experiential curriculum, focused on emerging technology, design thinking and data analytics. Holistic learning and global perspectives will prepare students for the challenges of tomorrow, it added.\"\"\""
   ]
  },
  {
   "cell_type": "code",
   "execution_count": 6,
   "metadata": {},
   "outputs": [
    {
     "name": "stdout",
     "output_type": "stream",
     "text": [
      "['india', 'covid-19', 'union health', 'ministry', 'total number', 'death toll', 'total recoveries', 'india', 'active cases stand']\n",
      "['global faculty', 'business schools', 'bitsom', 'mba', 'b-school', 'experiential curriculum', 'data analytics', 'holistic', 'global perspectives']\n"
     ]
    }
   ],
   "source": [
    "print(TextBlob(sen).noun_phrases)\n",
    "print(TextBlob(sen1).noun_phrases)"
   ]
  },
  {
   "cell_type": "code",
   "execution_count": null,
   "metadata": {},
   "outputs": [],
   "source": []
  }
 ],
 "metadata": {
  "kernelspec": {
   "display_name": "Python 3",
   "language": "python",
   "name": "python3"
  },
  "language_info": {
   "codemirror_mode": {
    "name": "ipython",
    "version": 3
   },
   "file_extension": ".py",
   "mimetype": "text/x-python",
   "name": "python",
   "nbconvert_exporter": "python",
   "pygments_lexer": "ipython3",
   "version": "3.8.3"
  }
 },
 "nbformat": 4,
 "nbformat_minor": 4
}
