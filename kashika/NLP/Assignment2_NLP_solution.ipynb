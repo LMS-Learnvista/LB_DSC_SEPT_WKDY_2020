{
 "cells": [
  {
   "cell_type": "code",
   "execution_count": 1,
   "metadata": {},
   "outputs": [],
   "source": [
    "from textblob import TextBlob"
   ]
  },
  {
   "cell_type": "code",
   "execution_count": 4,
   "metadata": {},
   "outputs": [
    {
     "data": {
      "text/plain": [
       "[('Susie', 'NNP'),\n",
       " ('works', 'VBZ'),\n",
       " ('in', 'IN'),\n",
       " ('a', 'DT'),\n",
       " ('shoeshine', 'NN'),\n",
       " ('shop', 'NN'),\n",
       " ('Where', 'WRB'),\n",
       " ('she', 'PRP'),\n",
       " ('shines', 'VBZ'),\n",
       " ('she', 'PRP'),\n",
       " ('sits', 'VBZ'),\n",
       " ('and', 'CC'),\n",
       " ('where', 'WRB'),\n",
       " ('she', 'PRP'),\n",
       " ('sits', 'VBZ'),\n",
       " ('she', 'PRP'),\n",
       " ('shines', 'NNS')]"
      ]
     },
     "execution_count": 4,
     "metadata": {},
     "output_type": "execute_result"
    }
   ],
   "source": [
    "#Question 1\n",
    "text=TextBlob(\"Susie works in a shoeshine shop. Where she shines she sits, and where she sits she shines\")\n",
    "text.tags"
   ]
  },
  {
   "cell_type": "code",
   "execution_count": 8,
   "metadata": {},
   "outputs": [
    {
     "name": "stdout",
     "output_type": "stream",
     "text": [
      "How:1\n",
      "much:3\n",
      "wood:4\n",
      "would:4\n",
      "a:4\n",
      "woodchuck:4\n",
      "chuck:5\n",
      "if:2\n",
      "a:4\n",
      "woodchuck:4\n",
      "could:3\n",
      "chuck:5\n",
      "wood:4\n",
      "He:3\n",
      "would:4\n",
      "chuck:5\n",
      "he:3\n",
      "would:4\n",
      "as:4\n",
      "much:3\n",
      "as:4\n",
      "he:3\n",
      "could:3\n",
      "and:1\n",
      "chuck:5\n",
      "as:4\n",
      "much:3\n",
      "wood:4\n",
      "As:4\n",
      "a:4\n",
      "woodchuck:4\n",
      "would:4\n",
      "if:2\n",
      "a:4\n",
      "woodchuck:4\n",
      "could:3\n",
      "chuck:5\n",
      "wood:4\n"
     ]
    }
   ],
   "source": [
    "#Question 2\n",
    "text1=TextBlob('''How much wood would a woodchuck chuck if a woodchuck could chuck wood?\n",
    "He would chuck, he would, as much as he could, and chuck as much wood\n",
    "As a woodchuck would if a woodchuck could chuck wood''')\n",
    "list=text1.words\n",
    "for i in range (0,len(list)):\n",
    "    print(list[i]+\":\"+str(text1.words.count(list[i])))"
   ]
  },
  {
   "cell_type": "code",
   "execution_count": 9,
   "metadata": {},
   "outputs": [
    {
     "name": "stdout",
     "output_type": "stream",
     "text": [
      "डेटा एक नया तेल है।\n",
      "A.I अंतिम आविष्कार है\n",
      "वह समुंद्र के किनारे शँख बेचती है\n",
      "उसने तीन मुफ्त फेंके\n"
     ]
    }
   ],
   "source": [
    "#Question 3\n",
    "t1=TextBlob(\"Data is a new oil.\")\n",
    "t2=TextBlob(\"A.I is the last invention\")\n",
    "t3=TextBlob(\"She sells seashells by the seashore\")\n",
    "t4=TextBlob(\"He threw three free throws\")\n",
    "print(str(t1.translate(to='hi')))\n",
    "print(str(t2.translate(to='hi')))\n",
    "print(str(t3.translate(to='hi')))\n",
    "print(str(t4.translate(to='hi')))"
   ]
  },
  {
   "cell_type": "code",
   "execution_count": 12,
   "metadata": {},
   "outputs": [
    {
     "name": "stdout",
     "output_type": "stream",
     "text": [
      "Enter a sentence:I am an Indan\n",
      "I am an Indian\n"
     ]
    }
   ],
   "source": [
    "#Question 4\n",
    "st=input(\"Enter a sentence:\")\n",
    "print(TextBlob(st).correct())"
   ]
  },
  {
   "cell_type": "code",
   "execution_count": null,
   "metadata": {},
   "outputs": [],
   "source": []
  }
 ],
 "metadata": {
  "kernelspec": {
   "display_name": "Python 3",
   "language": "python",
   "name": "python3"
  },
  "language_info": {
   "codemirror_mode": {
    "name": "ipython",
    "version": 3
   },
   "file_extension": ".py",
   "mimetype": "text/x-python",
   "name": "python",
   "nbconvert_exporter": "python",
   "pygments_lexer": "ipython3",
   "version": "3.8.3"
  }
 },
 "nbformat": 4,
 "nbformat_minor": 4
}
