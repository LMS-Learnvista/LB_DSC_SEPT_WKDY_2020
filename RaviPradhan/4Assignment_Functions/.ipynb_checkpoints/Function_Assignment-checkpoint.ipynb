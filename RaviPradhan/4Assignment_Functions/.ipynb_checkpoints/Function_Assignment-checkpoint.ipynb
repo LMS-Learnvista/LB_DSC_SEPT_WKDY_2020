{
 "cells": [
  {
   "cell_type": "code",
   "execution_count": null,
   "metadata": {},
   "outputs": [],
   "source": []
  },
  {
   "cell_type": "markdown",
   "metadata": {
    "colab": {},
    "colab_type": "code",
    "id": "1YVTYu-CuCOO"
   },
   "source": [
    "### 1. Define a function calls addNumber(x, y) that takes in two number and returns the sum of the two numbers."
   ]
  },
  {
   "cell_type": "code",
   "execution_count": 3,
   "metadata": {},
   "outputs": [
    {
     "name": "stdout",
     "output_type": "stream",
     "text": [
      "Enter two numbers to add.\n",
      "Enter 1st number:  10\n",
      "Enter 2nd number:  20\n",
      "The sum of 10.0 and 20.0 is 30.0\n"
     ]
    }
   ],
   "source": [
    "def addNumber(x, y):\n",
    "    sum = x + y\n",
    "    return sum\n",
    "\n",
    "print('Enter two numbers to add.')\n",
    "num1 = float(input('Enter 1st number:  '))\n",
    "num2 = float(input('Enter 2nd number:  '))\n",
    "s = addNumber(num1, num2)\n",
    "print(f'The sum of {num1} and {num2} is {s}')"
   ]
  },
  {
   "cell_type": "markdown",
   "metadata": {
    "colab": {},
    "colab_type": "code",
    "id": "1-gIq-Rju2i2"
   },
   "source": [
    "### 2. Define a function calls subtractNumber(x, y) that takes in two numbers and returns the difference of the two numbers."
   ]
  },
  {
   "cell_type": "code",
   "execution_count": 6,
   "metadata": {},
   "outputs": [
    {
     "name": "stdout",
     "output_type": "stream",
     "text": [
      "Enter two numbers to calculate the difference.\n",
      "Enter 1st number:  10\n",
      "Enter 2nd number:  100\n",
      "The difference of 10.0 and 100.0 is 90.0\n"
     ]
    }
   ],
   "source": [
    "def subtractNumber(x, y):\n",
    "    sub = abs(x - y)\n",
    "    return sub\n",
    "\n",
    "print('Enter two numbers to calculate the difference.')\n",
    "num1 = float(input('Enter 1st number:  '))\n",
    "num2 = float(input('Enter 2nd number:  '))\n",
    "s = subtractNumber(num1, num2)\n",
    "print(f'The difference of {num1} and {num2} is {s}')"
   ]
  },
  {
   "cell_type": "markdown",
   "metadata": {
    "colab": {},
    "colab_type": "code",
    "id": "kiAE0iLbviG9"
   },
   "source": [
    "### 3. Write a function getBiggerNumber(x, y) that takes in two numbers as arguments and returns the bigger number."
   ]
  },
  {
   "cell_type": "code",
   "execution_count": 11,
   "metadata": {},
   "outputs": [
    {
     "name": "stdout",
     "output_type": "stream",
     "text": [
      "Enter two numbers to find the greater of the two.\n",
      "Enter 1st number:  -0.2\n",
      "Enter 2nd number:  0.2\n",
      "The greater number of -0.2 and 0.2 is 0.2\n"
     ]
    }
   ],
   "source": [
    "def getBiggerNumber(x, y):\n",
    "    if x>y:\n",
    "        return x\n",
    "    else:\n",
    "        return y\n",
    "\n",
    "print('Enter two numbers to find the greater of the two.')\n",
    "num1 = float(input('Enter 1st number:  '))\n",
    "num2 = float(input('Enter 2nd number:  '))\n",
    "g = getBiggerNumber(num1, num2)\n",
    "print(f'The greater number of {num1} and {num2} is {g}')"
   ]
  },
  {
   "cell_type": "markdown",
   "metadata": {
    "colab": {},
    "colab_type": "code",
    "id": "10B5oVcZh16d"
   },
   "source": [
    "##### Python provides many built-in modules with many useful functions. \n",
    "##### One such module is the math module. The math module provides many useful functions such as sqrt(x), pow(x, y), ceil(x), floor(x) etc. \n",
    "##### You will need to do a \"import math\" before you are allowed to use the functions within the math module.\n",
    "\n",
    "## Question 3\n",
    "### 3.1. Calculate the square root of 16 and stores it in the variable a\n",
    "### 3.1. Calculate 3 to the power of 5 and stores it in the variable b\n",
    "### 3.1. Calculate area of circle with radius = 3.0 by making use of the math.pi constant and store it in variable c"
   ]
  },
  {
   "cell_type": "code",
   "execution_count": 16,
   "metadata": {},
   "outputs": [
    {
     "name": "stdout",
     "output_type": "stream",
     "text": [
      "Square root of 16 is 4.0\n",
      "3 to the power of 5 is 243.0\n",
      "Area of circle with radius 3.0 is 28.274333882308138\n"
     ]
    }
   ],
   "source": [
    "import math as m\n",
    "\n",
    "a = m.sqrt(16)\n",
    "b = m.pow(3,5)\n",
    "\n",
    "radius = 3.0\n",
    "c = m.pi*radius**2\n",
    "\n",
    "print(f'Square root of 16 is {a}')\n",
    "print(f'3 to the power of 5 is {b}')\n",
    "print(f'Area of circle with radius 3.0 is {c}')"
   ]
  },
  {
   "cell_type": "markdown",
   "metadata": {
    "colab": {},
    "colab_type": "code",
    "id": "Yado0B99h2E_"
   },
   "source": [
    "### 4. Write a function to convert temperature from Celsius to Fahrenheit scale.\n",
    "\n",
    "oC to oF Conversion: Multipy by 9, then divide by 5, then add 32.\n",
    "\n",
    "    Note: Return a string of 2 decimal places.\n",
    "    In - Cel2Fah(28.0)\n",
    "    Out - '82.40'\n",
    "    In - Cel2Fah(0.00)\n",
    "    Out - '32.00'\n",
    "\n",
    "\n",
    "\n",
    "++ NOTES\n",
    "##### round(int/float type variable, number of decimal places)\n",
    "    round(a,2)   ==> as the output is int/float ----> maximum 2 decimal places\n",
    "\n",
    "##### string formating\n",
    "\n",
    "a = 0.352\n",
    "b = 0.35\n",
    "c = 0.3\n",
    "\n",
    "x = \"%.2f\" % a\n",
    "print(x, type(x))\n",
    "y = \"%.2f\" % b\n",
    "print(y, type(y))\n",
    "z = \"%.2f\" % c\n",
    "print(z, type(z))\n",
    "print()\n",
    "p = round(a,2)\n",
    "print(p, type(p))\n",
    "q = round(b,2)\n",
    "print(q, type(q))\n",
    "r = round(c,2)\n",
    "print(r, type(r))"
   ]
  },
  {
   "cell_type": "code",
   "execution_count": 44,
   "metadata": {},
   "outputs": [
    {
     "name": "stdout",
     "output_type": "stream",
     "text": [
      "Convert °Celcius to °Fahrenheit.\n",
      "Enter temperature in °C to convert in °F:  28\n",
      "28.00° Celcius = 82.40° Fahrenheit\n"
     ]
    }
   ],
   "source": [
    "def c2f(c):\n",
    "    f = (c*9/5)+32\n",
    "    return f\n",
    "\n",
    "print('Convert °Celcius to °Fahrenheit.')\n",
    "cel = float(input('Enter temperature in °C to convert in °F:  '))\n",
    "f = c2f(cel)\n",
    "print('{:.2f}° Celcius = {:.2f}° Fahrenheit'.format(cel,f))"
   ]
  },
  {
   "cell_type": "markdown",
   "metadata": {
    "colab": {},
    "colab_type": "code",
    "id": "n7lsFol9h2ID"
   },
   "source": [
    "### 5. Write a function to compute the BMI of a person.\n",
    "     BMI = weight(kg)  /  ( height(m)*height(m) )\n",
    "\n",
    "    Note: Return a string of 1 decimal place.\n",
    "    In - BMI(63, 1.7)\n",
    "    Out - '21.8'\n",
    "    In - BMI(110, 2)\n",
    "    Out - '27.5'"
   ]
  },
  {
   "cell_type": "code",
   "execution_count": 47,
   "metadata": {},
   "outputs": [
    {
     "name": "stdout",
     "output_type": "stream",
     "text": [
      "Calculate your Body Mass Index (BMI).\n",
      "Enter your weight in kgs:  63\n",
      "Enter your height in mtrs:  1.7\n",
      "Your BMI is 21.8\n"
     ]
    }
   ],
   "source": [
    "def BMI(w, h):\n",
    "    bmi = w/h**2\n",
    "    return bmi\n",
    "\n",
    "print('Calculate your Body Mass Index (BMI).')\n",
    "wt = float(input('Enter your weight in kgs:  '))\n",
    "ht = float(input('Enter your height in mtrs:  '))\n",
    "b = BMI(wt, ht)\n",
    "print('Your BMI is {:.1f}'.format(b))"
   ]
  },
  {
   "cell_type": "markdown",
   "metadata": {
    "colab": {},
    "colab_type": "code",
    "id": "f2tV1AU8h2LN"
   },
   "source": [
    "### 6. Write a function percent(value, total) that takes in two numbers as arguments, and returns the percentage value as an integer.\n",
    "\n",
    "    In - percent(46, 90)\n",
    "    Out - 51\n",
    "    In - percent(51, 51)\n",
    "    Out - 100\n",
    "    In - percent(63, 12)\n",
    "    Out - 525"
   ]
  },
  {
   "cell_type": "code",
   "execution_count": 52,
   "metadata": {},
   "outputs": [
    {
     "name": "stdout",
     "output_type": "stream",
     "text": [
      "Calculate percentage.\n",
      "Enter your aggregate:  51\n",
      "Enter total:  51\n",
      "Rounded percentage value of 51.0 out of 51.0 is: 100\n"
     ]
    }
   ],
   "source": [
    "def per(v, t):\n",
    "    percentage = v/t*100\n",
    "    return percentage\n",
    "\n",
    "print('Calculate percentage.')\n",
    "val = float(input('Enter your aggregate:  '))\n",
    "total = float(input('Enter total:  '))\n",
    "p = per(val, total)\n",
    "print(f'Rounded percentage value of {val} out of {total} is: {int(p)}')"
   ]
  },
  {
   "cell_type": "markdown",
   "metadata": {
    "colab": {},
    "colab_type": "code",
    "id": "QyoWR3dQh2OZ"
   },
   "source": [
    "### 7. Write a function to compute the hypotenuse given sides a and b of the triangle.\n",
    "\n",
    "    Hint: You can use math.sqrt(x) to compute the square root of x.\n",
    "\n",
    "    In - hypotenuse(3, 4)\n",
    "    Out - 5\n",
    "    In - hypotenuse(5, 12)\n",
    "    Out - 13"
   ]
  },
  {
   "cell_type": "code",
   "execution_count": 54,
   "metadata": {},
   "outputs": [
    {
     "name": "stdout",
     "output_type": "stream",
     "text": [
      "Calculate hypotenuse. \n",
      " Enter 2 non-hypotenuse sides of a right angle triangle in cms:\n",
      "Side 1:  5\n",
      "Side 2:  12\n",
      "Hypotenuse of triangle with sides (5.0, 12.0) is: 13.0\n"
     ]
    }
   ],
   "source": [
    "from math import sqrt as s \n",
    "\n",
    "def hyp(a,b):\n",
    "    h = s(a**2 + b**2)\n",
    "    return h\n",
    "\n",
    "print('Calculate hypotenuse. \\n Enter 2 non-hypotenuse sides of a right angle triangle in cms:')\n",
    "a = float(input('Side 1:  '))\n",
    "b = float(input('Side 2:  '))\n",
    "h = hyp(a, b)\n",
    "print(f'Hypotenuse of triangle with sides {a, b} is: {h}')"
   ]
  },
  {
   "cell_type": "markdown",
   "metadata": {
    "colab": {},
    "colab_type": "code",
    "id": "XthPUigkh2Ro"
   },
   "source": [
    "### 8. Write a function getSumOfLastDigits() that takes in a list of positive numbers and returns the sum of all the last digits in the list.\n",
    "    getSumOfLastDigits([2, 3, 4])\n",
    "    9\n",
    "    getSumOfLastDigits([1, 23, 456])\n",
    "    10"
   ]
  },
  {
   "cell_type": "code",
   "execution_count": 66,
   "metadata": {},
   "outputs": [
    {
     "name": "stdout",
     "output_type": "stream",
     "text": [
      "Calculate sum of last digits in a list of numbers:\n",
      "Enter a list of numbers:  [1, 23, 456]\n",
      "Sum of all the last digits of the numbers in list [1, 23, 456] is: 10\n"
     ]
    }
   ],
   "source": [
    "def getSumOfLastDigits(l):\n",
    "    lst1 = []\n",
    "    if type(l) == list:\n",
    "        for i in l:\n",
    "            lst1.append(i%10)\n",
    "        sld = sum(lst1)\n",
    "        return sld\n",
    "    else:\n",
    "        print('The input is not a list. Please provide a list of numbers.')\n",
    "\n",
    "print('Calculate sum of last digits in a list of numbers:')\n",
    "lst = eval(input('Enter a list of numbers:  '))\n",
    "s = getSumOfLastDigits(lst)\n",
    "if s != None:\n",
    "    print(f'Sum of all the last digits of the numbers in list {lst} is: {s}')"
   ]
  },
  {
   "cell_type": "markdown",
   "metadata": {
    "colab": {},
    "colab_type": "code",
    "id": "T-uIqm9Mh2Un"
   },
   "source": [
    "### 9. Write a function that uses a default value.\n",
    "\n",
    "    In - introduce('Lim', 20)\n",
    "    Out - 'My name is Lim. I am 20 years old.'\n",
    "    In - introduce('Ahmad')\n",
    "    Out - 'My name is Ahmad. My age is secret.'"
   ]
  },
  {
   "cell_type": "code",
   "execution_count": 81,
   "metadata": {},
   "outputs": [
    {
     "name": "stdout",
     "output_type": "stream",
     "text": [
      "My name is Lim. I am 20 years old.\n",
      "My name is Ahmad. My age is secret.\n"
     ]
    }
   ],
   "source": [
    "def introduce(name = 'abc', age = 'secret'):\n",
    "    if type(age) == int:\n",
    "        print(f'My name is {name}. I am {age} years old.')\n",
    "    else:\n",
    "        print(f'My name is {name}. My age is {age}.')\n",
    "\n",
    "introduce('Lim', 20)\n",
    "introduce('Ahmad')"
   ]
  },
  {
   "cell_type": "markdown",
   "metadata": {
    "colab": {},
    "colab_type": "code",
    "id": "h0pXo5vH6wA-"
   },
   "source": [
    "### 10. Write a function isEquilateral(x, y, z) that accepts the 3 sides of a triangle as arguments. \n",
    "    The program should return True if it is an equilateral triangle.\n",
    "\n",
    "    In - isEquilateral(2, 4, 3)\n",
    "    False - False\n",
    "    In - isEquilateral(3, 3, 3)\n",
    "    Out - True\n",
    "    In - isEquilateral(-3, -3, -3)\n",
    "    Out - False"
   ]
  },
  {
   "cell_type": "code",
   "execution_count": 12,
   "metadata": {},
   "outputs": [
    {
     "name": "stdout",
     "output_type": "stream",
     "text": [
      "Check if the triange is an Equilateral Triangle:\n",
      "Enter Side 1 in cms:  -3\n",
      "Enter Side 2 in cms:  -3\n",
      "Enter Side 3 in cms:  -3\n",
      "Is the triangle an equilateral triangle?   False\n"
     ]
    }
   ],
   "source": [
    "def isEquilateral(x, y, z):\n",
    "    if x == y == z and x > 0:\n",
    "        return True\n",
    "    else:\n",
    "        return False\n",
    "\n",
    "print('Check if the triange is an Equilateral Triangle:')\n",
    "a = float(input('Enter Side 1 in cms:  '))\n",
    "b = float(input('Enter Side 2 in cms:  '))\n",
    "c = float(input('Enter Side 3 in cms:  '))\n",
    "e = isEquilateral(a, b, c)\n",
    "print(f'Is the triangle an equilateral triangle?   {e}')"
   ]
  },
  {
   "cell_type": "markdown",
   "metadata": {
    "colab": {},
    "colab_type": "code",
    "id": "3NvcKCkn6wFy"
   },
   "source": [
    "### 11. For a quadratic equation in the form of ax2+bx+c, the discriminant, D is b2-4ac. Write a function to compute the discriminant, D.\n",
    "\n",
    "    In - quadratic(1, 2, 3)\n",
    "    Out - 'The discriminant is -8.'\n",
    "    In - quadratic(1, 3, 2)\n",
    "    Out - 'The discriminant is 1.'\n",
    "    In - quadratic(1, 4, 4)\n",
    "    Out - 'The discriminant is 0.'\n",
    "    \n",
    "    \n",
    "        HOMEWORK\n",
    "    The discriminant is the part of the quadratic formula under the square root.\n",
    "\n",
    "    for a quadratic equation like ==> ax² + bx + c = 0\n",
    "    the quadratic formula is (-b ± √(b²-4ac))/2a\n",
    "        where discriminant 'D' is (b²-4ac)\n",
    "\n",
    "    The discriminant can be positive, zero, or negative,\n",
    "        and this determines how many solutions there are to the given quadratic equation.\n",
    "        \n",
    "    - A positive discriminant indicates that the quadratic has two distinct real number solutions.\n",
    "    - A discriminant of zero indicates that the quadratic has a repeated real number solution.\n",
    "    - A negative discriminant indicates that neither of the solutions are real numbers."
   ]
  },
  {
   "cell_type": "code",
   "execution_count": 16,
   "metadata": {},
   "outputs": [
    {
     "name": "stdout",
     "output_type": "stream",
     "text": [
      "Calculate discriminant:\n",
      "Enter a:  1\n",
      "Enter b:  4\n",
      "Enter constant c:  4\n",
      "The discriminant 'D' for equation 1.0x² + 4.0x + 4.0 is 0.0\n"
     ]
    }
   ],
   "source": [
    "def quadratic(a, b, c):\n",
    "    d = (b**2) - 4*a*c\n",
    "    return d\n",
    "\n",
    "print('Calculate discriminant:')\n",
    "a = float(input('Enter a:  '))\n",
    "b = float(input('Enter b:  '))\n",
    "c = float(input('Enter constant c:  '))\n",
    "q = quadratic(a, b, c)\n",
    "print(f\"The discriminant 'D' for equation {a}x² + {b}x + {c} is {q}\")"
   ]
  },
  {
   "cell_type": "markdown",
   "metadata": {
    "colab": {},
    "colab_type": "code",
    "id": "ihmuttBS6wJQ"
   },
   "source": [
    "### 12. Define a function calls addFirstAndLast(x) that takes in a list of numbers and returns the sum of the first and last numbers.\n",
    "\n",
    "    In - addFirstAndLast([])\n",
    "    Out - 0\n",
    "    In - addFirstAndLast([2, 7, 3])\n",
    "    Out - 5\n",
    "    In - addFirstAndLast([10])\n",
    "    Out - 10"
   ]
  },
  {
   "cell_type": "code",
   "execution_count": 23,
   "metadata": {},
   "outputs": [
    {
     "name": "stdout",
     "output_type": "stream",
     "text": [
      "Calculate sum of first and last numbers from the list:\n",
      "Enter a list of numbers:  [2, 7, 3]\n",
      "In the list of numbers [2, 7, 3], sum of first number and last number is: 5\n"
     ]
    }
   ],
   "source": [
    "def addFirstAndLast(x):\n",
    "    if x == []:\n",
    "        return 0\n",
    "    elif len(x) == 1:\n",
    "        return int(x[0])\n",
    "    else:\n",
    "        a = x[0] + x[-1]\n",
    "        return a\n",
    "\n",
    "print('Calculate sum of first and last numbers from the list:')\n",
    "lst = eval(input('Enter a list of numbers:  '))\n",
    "s = addFirstAndLast(lst)\n",
    "print(f'In the list of numbers {lst}, sum of first number and last number is: {s}')"
   ]
  },
  {
   "cell_type": "markdown",
   "metadata": {
    "colab": {},
    "colab_type": "code",
    "id": "lEt9HNPI6wM0"
   },
   "source": [
    "### 13. Complete the 'lambda' expression so that it returns True if the argument is an even number, and False otherwise."
   ]
  },
  {
   "cell_type": "code",
   "execution_count": 40,
   "metadata": {},
   "outputs": [
    {
     "name": "stdout",
     "output_type": "stream",
     "text": [
      "Enter an integer value to check if it is an even number:  11\n",
      "False\n"
     ]
    }
   ],
   "source": [
    "x = int(input('Enter an integer value to check if it is an even number:  '))\n",
    "\n",
    "g = lambda x: x%2 == 0\n",
    "print(g(x))"
   ]
  },
  {
   "cell_type": "code",
   "execution_count": null,
   "metadata": {
    "colab": {},
    "colab_type": "code",
    "id": "JYWSZXPg6wQN"
   },
   "outputs": [],
   "source": [
    "### 14. getScore.__doc__\n",
    "# 'A function that computes and returns the final score.'"
   ]
  },
  {
   "cell_type": "code",
   "execution_count": null,
   "metadata": {},
   "outputs": [],
   "source": []
  },
  {
   "cell_type": "code",
   "execution_count": null,
   "metadata": {},
   "outputs": [],
   "source": []
  },
  {
   "cell_type": "code",
   "execution_count": null,
   "metadata": {
    "colab": {},
    "colab_type": "code",
    "id": "zmi81hi76wTK"
   },
   "outputs": [],
   "source": [
    "### 15. In Python, it is possible to pass a function as a argument to another function. \n",
    "# Write a function useFunction(func, num) that takes in a function and a number as arguments. \n",
    "# The useFunction should produce the output shown in the examples given below.\n",
    "\n",
    "# def addOne(x):\n",
    "#   return x + 1\n",
    "# useFunction(addOne, 4)\n",
    "# 25\n",
    "# useFunction(addOne, 9)\n",
    "# 100\n",
    "# useFunction(addOne, 0)\n",
    "# 1\n",
    "\n"
   ]
  },
  {
   "cell_type": "code",
   "execution_count": 44,
   "metadata": {},
   "outputs": [
    {
     "ename": "SyntaxError",
     "evalue": "invalid syntax (<ipython-input-44-23d7319ef1e3>, line 4)",
     "output_type": "error",
     "traceback": [
      "\u001b[1;36m  File \u001b[1;32m\"<ipython-input-44-23d7319ef1e3>\"\u001b[1;36m, line \u001b[1;32m4\u001b[0m\n\u001b[1;33m    def useFunction(addOne, 4):\u001b[0m\n\u001b[1;37m                            ^\u001b[0m\n\u001b[1;31mSyntaxError\u001b[0m\u001b[1;31m:\u001b[0m invalid syntax\n"
     ]
    }
   ],
   "source": [
    "def addOne(x):\n",
    "    return x + 1\n",
    "\n",
    "def useFunction(addOne, 4):\n",
    "\n",
    "    return\n",
    "\n",
    "addone(20)\n",
    "\n",
    "\n",
    "\n",
    "\n",
    "# def useFunction(addOne, 9):\n",
    "#     return\n",
    "\n",
    "# def useFunction(addOne, 0):\n",
    "#     return\n"
   ]
  },
  {
   "cell_type": "code",
   "execution_count": null,
   "metadata": {},
   "outputs": [],
   "source": []
  }
 ],
 "metadata": {
  "colab": {
   "name": "Function_Assignment.ipynb",
   "provenance": []
  },
  "kernelspec": {
   "display_name": "Python 3",
   "language": "python",
   "name": "python3"
  },
  "language_info": {
   "codemirror_mode": {
    "name": "ipython",
    "version": 3
   },
   "file_extension": ".py",
   "mimetype": "text/x-python",
   "name": "python",
   "nbconvert_exporter": "python",
   "pygments_lexer": "ipython3",
   "version": "3.8.3"
  }
 },
 "nbformat": 4,
 "nbformat_minor": 1
}
