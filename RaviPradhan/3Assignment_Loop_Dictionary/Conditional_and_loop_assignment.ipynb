{
 "cells": [
  {
   "cell_type": "markdown",
   "metadata": {
    "colab_type": "text",
    "id": "wNRNTbrsc53d"
   },
   "source": [
    "# If - elif - else statement"
   ]
  },
  {
   "cell_type": "markdown",
   "metadata": {
    "colab": {},
    "colab_type": "code",
    "id": "MiPfTnBycxNa"
   },
   "source": [
    "### 1. W. A P. which takes one number from 0 to 9 from the user and prints it in the word.\n",
    "\n",
    "    And if the word is not from 0 to 9 then\n",
    "    it should print that number is outside of the range and program should exit.\n",
    "    For exapmple:- \n",
    "    input = 1\n",
    "    output = one"
   ]
  },
  {
   "cell_type": "code",
   "execution_count": 9,
   "metadata": {},
   "outputs": [
    {
     "name": "stdout",
     "output_type": "stream",
     "text": [
      "Enter a whole number between 0 to 9: \t1\n",
      "Value of 1 in words is One\n"
     ]
    }
   ],
   "source": [
    "userin = int(input ('Enter a whole number between 0 to 9: \\t'))\n",
    "\n",
    "if 0 <= userin <= 9:\n",
    "        if userin == 1:\n",
    "            print (f'Value of {userin} in words is One')\n",
    "        elif userin == 2:\n",
    "            print (f'Value of {userin} in words is Two')\n",
    "        elif userin == 3:\n",
    "            print (f'Value of {userin} in words is Three')\n",
    "        elif userin == 4:\n",
    "            print (f'Value of {userin} in words is Four')\n",
    "        elif userin == 5:\n",
    "            print (f'Value of {userin} in words is Five')\n",
    "        elif userin == 6:\n",
    "            print (f'Value of {userin} in words is Six')\n",
    "        elif userin == 7:\n",
    "            print (f'Value of {userin} in words is Seven')\n",
    "        elif userin == 8:\n",
    "            print (f'Value of {userin} in words is Eight')\n",
    "        elif userin == 9:\n",
    "            print (f'Value of {userin} in words is Nine')\n",
    "        else:\n",
    "            print (f'Value of {userin} in words is Zero')\n",
    "else:\n",
    "        print (f'The number {userin} is outside the range of 0 to 9')"
   ]
  },
  {
   "cell_type": "markdown",
   "metadata": {
    "colab": {},
    "colab_type": "code",
    "id": "vEMNOv9zdA39"
   },
   "source": [
    "### 2. W. A P. to implement calculator but the operation to be done and two numbers will be taken as input from user:-\n",
    "\n",
    "    Operation console should show below:-\n",
    "        \n",
    "    Please select any one operation from below:-\n",
    "        * To add enter 1\n",
    "        * to subtract enter 2\n",
    "        * To multiply enter 3\n",
    "        * To divide enter 4\n",
    "        * To divide and find quotient enter 5\n",
    "        * To divide and find remainder enter 6\n",
    "        * To divide and find num1 to the power of num2 enter 7\n",
    "        * To Come out of the program enter 8\n",
    "\n",
    "\n",
    "\n"
   ]
  },
  {
   "cell_type": "code",
   "execution_count": 14,
   "metadata": {},
   "outputs": [
    {
     "name": "stdout",
     "output_type": "stream",
     "text": [
      "Enter 1st number: 10\n",
      "Enter 2nd number: 2\n",
      "Operation: \n",
      "                         To add enter '1'\n",
      "                         To subtract enter '2'\n",
      "                         To multiply enter '3'\n",
      "                         To divide enter '4'\n",
      "                         To divide and find quotient enter '5'\n",
      "                         To divide and find remainder enter '6'\n",
      "                         To divide and find 1st number to the power of 2nd number enter '7'\n",
      "                         To come out of the program enter '8'\n",
      "                         \n",
      "\n",
      "                         Enter an operation from 1 to 8: \t5\n",
      "Result =  5.0\n"
     ]
    }
   ],
   "source": [
    "def calc (num1, num2, op):\n",
    "    if op == 1:\n",
    "        add = num1 + num2\n",
    "        return add\n",
    "    if op == 2:\n",
    "        if num1 >= num2:\n",
    "            sub = num1 - num2\n",
    "        else:\n",
    "            sub = num2 - num1\n",
    "        return sub\n",
    "    if op == 3:\n",
    "        mul = num1 * num2\n",
    "        return mul\n",
    "    if op == 4:\n",
    "        if num2 != 0:\n",
    "            div = num1 / num2\n",
    "        else:\n",
    "            div = print('ZeroDivisionError: A number is not divisible by 0')\n",
    "        return div \n",
    "    if op == 5:\n",
    "        if num2 != 0:\n",
    "            quo = num1 // num2\n",
    "        else:\n",
    "            quo = print('ZeroDivisionError: As a number is not divisible by 0, quotient is not possible')\n",
    "        return quo        \n",
    "    if op == 6:\n",
    "        if num2 != 0:\n",
    "            rem = num1 % num2\n",
    "        else:\n",
    "            rem = print('ZeroDivisionError: As a number is not divisible by 0, remainder is not possible')\n",
    "        return rem            \n",
    "    if op == 7:\n",
    "        pov = num1 ** num2\n",
    "        return pov\n",
    "    if op == 8:\n",
    "        t = print ('The operation is terminated')\n",
    "        return t\n",
    "    else:\n",
    "        print('Invalid Input')\n",
    "        \n",
    "num1 = float(input('Enter 1st number: '))\n",
    "num2 = float(input('Enter 2nd number: '))\n",
    "operation = int(input('''Operation: \n",
    "                         To add enter '1'\n",
    "                         To subtract enter '2'\n",
    "                         To multiply enter '3'\n",
    "                         To divide enter '4'\n",
    "                         To divide and find quotient enter '5'\n",
    "                         To divide and find remainder enter '6'\n",
    "                         To divide and find 1st number to the power of 2nd number enter '7'\n",
    "                         To come out of the program enter '8'\n",
    "                         \\n\n",
    "                         Enter an operation from 1 to 8: \\t'''))\n",
    "Result = calc(num1, num2, operation)\n",
    "print('Result = ', Result)"
   ]
  },
  {
   "cell_type": "markdown",
   "metadata": {
    "colab": {},
    "colab_type": "code",
    "id": "1e2gwYLqdC1s"
   },
   "source": [
    "### 3. W A P to check whether a year entered by user is an leap year or not?\n",
    "\n",
    "    Check with below input:-\n",
    "    leap year:- 2012, 1968, 2004, 1200, 1600,2400\n",
    "    Non-lear year:- 1971, 2006, 1700,1800,1900"
   ]
  },
  {
   "cell_type": "code",
   "execution_count": 15,
   "metadata": {},
   "outputs": [
    {
     "name": "stdout",
     "output_type": "stream",
     "text": [
      "Enter an year to check whether it is a leap year:  1800\n",
      "Year 1800 is NOT a leap year\n"
     ]
    }
   ],
   "source": [
    "year = int(input('Enter an year to check whether it is a leap year:  '))\n",
    "\n",
    "if year%4 == 0:\n",
    "    if year%100 == 0:\n",
    "        if year%400 == 0:\n",
    "            print(f'Year {year} is a leap year')\n",
    "        else:\n",
    "            print(f'Year {year} is NOT a leap year')\n",
    "    else:\n",
    "        print(f'Year {year} is a leap year')\n",
    "else:\n",
    "    print(f'Year {year} is NOT a leap year')"
   ]
  },
  {
   "cell_type": "markdown",
   "metadata": {
    "colab": {},
    "colab_type": "code",
    "id": "_tpXv1EtdEre"
   },
   "source": [
    "### 4. W A P which takes one number from the user and checks whether it is an even or odd number?, If it even then prints number is even number else prints that number is odd number."
   ]
  },
  {
   "cell_type": "code",
   "execution_count": 17,
   "metadata": {},
   "outputs": [
    {
     "name": "stdout",
     "output_type": "stream",
     "text": [
      "Enter a number to check if it is an even or an odd number:  2\n",
      "The number 2 is an even number.\n"
     ]
    }
   ],
   "source": [
    "num = int(input('Enter a number to check if it is an even or an odd number:  '))\n",
    "\n",
    "if num%2 == 0:\n",
    "    print(f'The number {num} is an even number.')\n",
    "else:\n",
    "    print(f'The number {num} is an odd number.')"
   ]
  },
  {
   "cell_type": "markdown",
   "metadata": {
    "colab": {},
    "colab_type": "code",
    "id": "Q1HumymCdG6i"
   },
   "source": [
    "### 5. W A P which takes two numbers from the user and prints below output:-\n",
    "        1. num1 is greater than num2 if num1 is greater than num2\n",
    "        2. num1 is smaller than num2 if num1 is smaller than num2\n",
    "        3. num1 is equal to num2 if num1 and num2 are equal\n",
    "\n",
    "    Note:- 1. Do this problem using if - else \n",
    "           2. Do this using ternary operator"
   ]
  },
  {
   "cell_type": "code",
   "execution_count": 20,
   "metadata": {},
   "outputs": [
    {
     "name": "stdout",
     "output_type": "stream",
     "text": [
      "Enter 2 numbers to compare.\n",
      "Enter 1st number:  10\n",
      "Enter 2nd number:  10\n",
      "10 is equal to 10\n"
     ]
    }
   ],
   "source": [
    "# using if - else\n",
    "\n",
    "print('Enter 2 numbers to compare.')\n",
    "num1 = int(input('Enter 1st number:  '))\n",
    "num2 = int(input('Enter 2nd number:  '))\n",
    "\n",
    "if num1 > num2:\n",
    "    print(f'{num1} is greater than {num2}')\n",
    "elif num2 > num1:\n",
    "    print(f'{num2} is greater than {num1}')\n",
    "else:\n",
    "    print(f'{num1} is equal to {num2}')"
   ]
  },
  {
   "cell_type": "code",
   "execution_count": 24,
   "metadata": {},
   "outputs": [
    {
     "name": "stdout",
     "output_type": "stream",
     "text": [
      "Enter 2 numbers to compare.\n",
      "Enter 1st number:  10\n",
      "Enter 2nd number:  20\n",
      "20 is greater than 10\n"
     ]
    }
   ],
   "source": [
    "# using ternary operator\n",
    "\n",
    "print('Enter 2 numbers to compare.')\n",
    "num1 = int(input('Enter 1st number:  '))\n",
    "num2 = int(input('Enter 2nd number:  '))\n",
    "\n",
    "print(f'{num1} is greater than {num2}') if num1 > num2 else print(f'{num2} is greater than {num1}') if num2 > num1 else print(f'{num1} is equal to {num2}')"
   ]
  },
  {
   "cell_type": "markdown",
   "metadata": {
    "colab": {},
    "colab_type": "code",
    "id": "LR6TVB-DdOPf"
   },
   "source": [
    "### 6. W A P which takes three numbers from the user and prints below output:-\n",
    "        1. num1 is greater than num2 and num3 if num1 is greater than num2 and num3\n",
    "        2. num2 is greater than num1 and num3 if num2 is greater than num1 and num3\n",
    "        3. num3 is greater than num1 and num2 if num3 is greater than num1 and num2\n",
    "\n",
    "    Note:- 1. Do this problem using if - elif - else \n",
    "          2. Do this using ternary operator\n",
    "\n",
    "    a = a if a>b else b\n",
    "    expr if cond1 else expr2 if cond2 else expr3"
   ]
  },
  {
   "cell_type": "code",
   "execution_count": 29,
   "metadata": {},
   "outputs": [
    {
     "name": "stdout",
     "output_type": "stream",
     "text": [
      "Enter 3 numbers to compare.\n",
      "Enter 1st number:  10\n",
      "Enter 2nd number:  20\n",
      "Enter 2nd number:  30\n",
      "30 is greater than 10 and 20\n"
     ]
    }
   ],
   "source": [
    "# using if - else\n",
    "\n",
    "print('Enter 3 numbers to compare.')\n",
    "num1 = int(input('Enter 1st number:  '))\n",
    "num2 = int(input('Enter 2nd number:  '))\n",
    "num3 = int(input('Enter 2nd number:  '))\n",
    "\n",
    "if num1 > num2 and num1 > num3:\n",
    "    print(f'{num1} is greater than {num2} and {num3}')\n",
    "elif num2 > num3:\n",
    "    print(f'{num2} is greater than {num1} and {num3}')\n",
    "elif num1 == num2 == num3:\n",
    "    print(f'{num1}, {num2}, {num3} are equal.')\n",
    "else:\n",
    "    print(f'{num3} is greater than {num1} and {num2}')"
   ]
  },
  {
   "cell_type": "code",
   "execution_count": 33,
   "metadata": {},
   "outputs": [
    {
     "name": "stdout",
     "output_type": "stream",
     "text": [
      "Enter 3 numbers to compare.\n",
      "Enter 1st number:  10\n",
      "Enter 2nd number:  10\n",
      "Enter 2nd number:  10\n",
      "10, 10, 10 are equal.\n"
     ]
    }
   ],
   "source": [
    "# using ternary operator\n",
    "\n",
    "print('Enter 3 numbers to compare.')\n",
    "num1 = int(input('Enter 1st number:  '))\n",
    "num2 = int(input('Enter 2nd number:  '))\n",
    "num3 = int(input('Enter 2nd number:  '))\n",
    "\n",
    "print(f'{num1} is greater than {num2} and {num3}') if num1 > num2 and num1 > num3 else print(f'{num2} is greater than {num1} and {num3}') if num2 > num3 else print(f'{num1}, {num2}, {num3} are equal.') if num1 == num2 == num3 else print(f'{num3} is greater than {num1} and {num2}')"
   ]
  },
  {
   "cell_type": "markdown",
   "metadata": {
    "colab_type": "text",
    "id": "IoOLQMUGdSox"
   },
   "source": [
    "# Loops - for loop, while loop"
   ]
  },
  {
   "cell_type": "markdown",
   "metadata": {
    "colab": {},
    "colab_type": "code",
    "id": "9K23Uld8dQfA"
   },
   "source": [
    "### 1. Write a Python program to find the length of the my_str using loop:-\n",
    "\n",
    "    Input:- 'Write a Python program to find the length of the my_str'\n",
    "    Output:- 55"
   ]
  },
  {
   "cell_type": "code",
   "execution_count": 38,
   "metadata": {},
   "outputs": [
    {
     "name": "stdout",
     "output_type": "stream",
     "text": [
      "55\n"
     ]
    }
   ],
   "source": [
    "str1 = 'Write a Python program to find the length of the my_str'\n",
    "\n",
    "count = 0\n",
    "for i in str1:\n",
    "    count += 1\n",
    "print(count)"
   ]
  },
  {
   "cell_type": "markdown",
   "metadata": {
    "colab": {},
    "colab_type": "code",
    "id": "bp6AcqTsdYxy"
   },
   "source": [
    "### 2. Write a Python program to find the total number of times letter 'p' is appeared in the below string using loop:-\n",
    "    Input:- 'peter piper picked a peck of pickled peppers.\\n'\n",
    "    Output:- 9"
   ]
  },
  {
   "cell_type": "code",
   "execution_count": 39,
   "metadata": {},
   "outputs": [
    {
     "name": "stdout",
     "output_type": "stream",
     "text": [
      "9\n"
     ]
    }
   ],
   "source": [
    "str1 = 'peter piper picked a peck of pickled peppers.\\n'\n",
    "\n",
    "count = 0\n",
    "for i in str1:\n",
    "    if i == 'p':\n",
    "        count += 1\n",
    "print(count)"
   ]
  },
  {
   "cell_type": "markdown",
   "metadata": {
    "colab": {},
    "colab_type": "code",
    "id": "xvxSBhTJdav1"
   },
   "source": [
    "### 3. Write a Python Program, to print all the indexes of all occurences of letter 'p' appeared in the string using loop:-\n",
    "    \n",
    "    Input:- 'peter piper picked a peck of pickled peppers.'\n",
    "    Output:- \n",
    "    0\n",
    "    6\n",
    "    8\n",
    "    12\n",
    "    21\n",
    "    29\n",
    "    37\n",
    "    39\n",
    "    40"
   ]
  },
  {
   "cell_type": "code",
   "execution_count": 42,
   "metadata": {},
   "outputs": [
    {
     "name": "stdout",
     "output_type": "stream",
     "text": [
      "0\n",
      "6\n",
      "8\n",
      "12\n",
      "21\n",
      "29\n",
      "37\n",
      "39\n",
      "40\n"
     ]
    }
   ],
   "source": [
    "str1 = 'peter piper picked a peck of pickled peppers.'\n",
    "\n",
    "count = -1\n",
    "for i in str1:\n",
    "    count += 1\n",
    "    if i == 'p':\n",
    "        print(count)"
   ]
  },
  {
   "cell_type": "markdown",
   "metadata": {
    "colab": {},
    "colab_type": "code",
    "id": "79L_feMadbmw"
   },
   "source": [
    "### 4. Write a python program to find below output using loop:-\n",
    "    Input:- 'peter piper picked a peck of pickled peppers.'\n",
    "    Output:- ['peter', 'piper', 'picked', 'a', 'peck', 'of', 'pickled', 'peppers']"
   ]
  },
  {
   "cell_type": "code",
   "execution_count": 55,
   "metadata": {},
   "outputs": [
    {
     "name": "stdout",
     "output_type": "stream",
     "text": [
      "['peter', 'piper', 'picked', 'a', 'peck', 'of', 'pickled', 'peppers.']\n"
     ]
    }
   ],
   "source": [
    "str1 = 'peter piper picked a peck of pickled peppers.'\n",
    "\n",
    "s = ''\n",
    "c = []\n",
    "for i in str1:\n",
    "    if i != ' ':\n",
    "        s += i\n",
    "    else:\n",
    "        c.append(s)\n",
    "        s = ''\n",
    "else:\n",
    "    c.append(s)\n",
    "\n",
    "print(c)"
   ]
  },
  {
   "cell_type": "markdown",
   "metadata": {
    "colab": {},
    "colab_type": "code",
    "id": "vzs5AJ53deVS"
   },
   "source": [
    "### 5. Write a python program to find below output using loop:-\n",
    "\n",
    "    Input:- 'peter piper picked a peck of pickled peppers.'\n",
    "    Output:- 'peppers pickled of peck a picked piper peter'"
   ]
  },
  {
   "cell_type": "code",
   "execution_count": 60,
   "metadata": {},
   "outputs": [
    {
     "name": "stdout",
     "output_type": "stream",
     "text": [
      "['peppers.', 'pickled', 'of', 'peck', 'a', 'picked', 'piper', 'peter']\n"
     ]
    }
   ],
   "source": [
    "str1 = 'peter piper picked a peck of pickled peppers.'\n",
    "\n",
    "s = ''\n",
    "c = []\n",
    "for i in str1:\n",
    "    if i != ' ':\n",
    "        s += i\n",
    "    else:\n",
    "        c.append(s)\n",
    "        s = ''\n",
    "else:\n",
    "    c.append(s)\n",
    "\n",
    "f = []\n",
    "for j in range(len(c)):\n",
    "    f.append(c[-(j+1)])\n",
    "    \n",
    "print(f)"
   ]
  },
  {
   "cell_type": "markdown",
   "metadata": {
    "colab": {},
    "colab_type": "code",
    "id": "i-HP7DrCdhwS"
   },
   "source": [
    "### 6. Write a python program to find below output using loop:-\n",
    "\n",
    "    Input:- 'peter piper picked a peck of pickled peppers.'\n",
    "    Output:- '.sreppep delkcip fo kcep a dekcip repip retep'"
   ]
  },
  {
   "cell_type": "code",
   "execution_count": 68,
   "metadata": {},
   "outputs": [
    {
     "name": "stdout",
     "output_type": "stream",
     "text": [
      ".sreppep delkcip fo kcep a dekcip repip retep\n"
     ]
    }
   ],
   "source": [
    "str1 = 'peter piper picked a peck of pickled peppers.'\n",
    "\n",
    "s = ''\n",
    "for i in range(len(str1)):\n",
    "    s += str1[-(i+1)]\n",
    "print(s)"
   ]
  },
  {
   "cell_type": "markdown",
   "metadata": {
    "colab": {},
    "colab_type": "code",
    "id": "3rt6p0ytdkq0"
   },
   "source": [
    "### 7. Write a python program to find below output using loop:-\n",
    "\n",
    "    Input:- 'peter piper picked a peck of pickled peppers.'\n",
    "    Output:- 'retep repip dekcip a kcep fo delkcip sreppep'"
   ]
  },
  {
   "cell_type": "code",
   "execution_count": 87,
   "metadata": {},
   "outputs": [
    {
     "name": "stdout",
     "output_type": "stream",
     "text": [
      "retep repip dekcip a kcep fo delkcip .sreppep\n"
     ]
    }
   ],
   "source": [
    "str1 = 'peter piper picked a peck of pickled peppers.'\n",
    "\n",
    "s1 = ''\n",
    "for i in range(len(str1)):\n",
    "    s1 += str1[-(i+1)]\n",
    "\n",
    "s = ''\n",
    "c = []\n",
    "for i in s1:\n",
    "    if i != ' ':\n",
    "        s += i\n",
    "    else:\n",
    "        c.append(s)\n",
    "        s = ''\n",
    "else:\n",
    "    c.append(s)\n",
    "\n",
    "f = []\n",
    "for j in range(len(c)):\n",
    "    f.append(c[-(j+1)])\n",
    "\n",
    "a = ''\n",
    "for k in f:\n",
    "    a += k\n",
    "    if k != f[len(f)-1]:\n",
    "        a += ' '\n",
    "    \n",
    "print(a)"
   ]
  },
  {
   "cell_type": "markdown",
   "metadata": {
    "colab": {},
    "colab_type": "code",
    "id": "HdlAWgT2dnKO"
   },
   "source": [
    "### 8. Write a python program to find below output using loop:-\n",
    "\n",
    "    Input:- 'peter piper picked a peck of pickled peppers.'\n",
    "    Output:- 'Peter Piper Picked A Peck Of Pickled Peppers'"
   ]
  },
  {
   "cell_type": "code",
   "execution_count": 113,
   "metadata": {},
   "outputs": [
    {
     "name": "stdout",
     "output_type": "stream",
     "text": [
      "PpPePtPePrP PpPiPpPePrP PpPiPcPkPePdP PaP PpPePcPkP PoPfP PpPiPcPkPlPePdP PpPePpPpPePrPsP.\n"
     ]
    }
   ],
   "source": [
    "str1 = 'peter piper picked a peck of pickled peppers.'\n",
    "\n",
    "s = ''\n",
    "for i in str1:\n",
    "    if bool(str[0]) == True:\n",
    "        s += i\n",
    "    s += i\n",
    "        \n",
    "    s += str1[i]\n",
    "print(s)"
   ]
  },
  {
   "cell_type": "code",
   "execution_count": null,
   "metadata": {},
   "outputs": [],
   "source": []
  },
  {
   "cell_type": "markdown",
   "metadata": {
    "colab": {},
    "colab_type": "code",
    "id": "OthUuacodrNl"
   },
   "source": [
    "### 9. Write a python program to find below output using loop:-\n",
    "\n",
    "#Input:- 'Peter Piper Picked A Peck Of Pickled Peppers.'\n",
    "#Output:- 'Peter piper picked a peck of pickled peppers'"
   ]
  },
  {
   "cell_type": "code",
   "execution_count": 98,
   "metadata": {},
   "outputs": [
    {
     "name": "stdout",
     "output_type": "stream",
     "text": [
      "Peter PiPer Picked a Peck of Pickled PePPers.\n"
     ]
    }
   ],
   "source": [
    "str1 = 'peter piper picked a peck of pickled peppers.'\n",
    "\n",
    "s = ''\n",
    "for i in str1:\n",
    "    if i == str1[0]:\n",
    "        s += chr(ord(i)-32)\n",
    "    else:\n",
    "        s += i\n",
    "print(s)"
   ]
  },
  {
   "cell_type": "code",
   "execution_count": null,
   "metadata": {},
   "outputs": [],
   "source": []
  },
  {
   "cell_type": "markdown",
   "metadata": {
    "colab": {
     "base_uri": "https://localhost:8080/",
     "height": 34
    },
    "colab_type": "code",
    "id": "scmDJE-ldsI9",
    "outputId": "4b1d1979-9f4a-4bc6-c505-b88b1bbd4d5d"
   },
   "source": [
    "### 10. Write a python program to implement index method using loop. If sub_str is found in my_str then it will print the index of first occurrence of first character of matching string in my_str:-\n",
    "\n",
    "    Input:- my_str = 'Peter Piper Picked A Peck Of Pickled Peppers.', sub_str = 'Pickl'\n",
    "    Output:- 29"
   ]
  },
  {
   "cell_type": "code",
   "execution_count": null,
   "metadata": {},
   "outputs": [],
   "source": [
    "my_str = 'Peter Piper Picked A Peck Of Pickled Peppers.'\n",
    "sub_str = 'Pickl'\n",
    "\n",
    "for i in my_str:\n",
    "    if \n"
   ]
  },
  {
   "cell_type": "code",
   "execution_count": null,
   "metadata": {},
   "outputs": [],
   "source": []
  },
  {
   "cell_type": "markdown",
   "metadata": {
    "colab": {},
    "colab_type": "code",
    "id": "Kq_fwdb_dvYE"
   },
   "source": [
    "### 11. Write a python program to implement replace method using loop. If sub_str is found in my_str then it will replace the first occurrence of sub_str with new_str else it will will print sub_str not found:-\n",
    "\n",
    "    Input:- my_str = 'Peter Piper Picked A Peck Of Pickled Peppers.', sub_str = 'Peck', new_str = 'Pack'\n",
    "    Output:- 'Peter Piper Picked A Pack Of Pickled Peppers.'"
   ]
  },
  {
   "cell_type": "code",
   "execution_count": null,
   "metadata": {},
   "outputs": [],
   "source": [
    "my_str = 'Peter Piper Picked A Peck Of Pickled Peppers.'\n",
    "sub_str = 'Peck'\n",
    "new_str = 'Pack'"
   ]
  },
  {
   "cell_type": "code",
   "execution_count": null,
   "metadata": {},
   "outputs": [],
   "source": []
  },
  {
   "cell_type": "markdown",
   "metadata": {
    "colab": {},
    "colab_type": "code",
    "id": "4Qes5D0cdyd1"
   },
   "source": [
    "### 12. Write a python program to find below output (implements rjust and ljust) using loop:-\n",
    "\n",
    "    Input:- 'Peter Piper Picked A Peck Of Pickled Peppers.', sub_str = 'Peck', \n",
    "    Output:- '*********************Peck********************'"
   ]
  },
  {
   "cell_type": "code",
   "execution_count": 99,
   "metadata": {},
   "outputs": [
    {
     "name": "stdout",
     "output_type": "stream",
     "text": [
      "45\n"
     ]
    }
   ],
   "source": [
    "my_str = 'Peter Piper Picked A Peck Of Pickled Peppers.'\n",
    "sub_str = 'Peck'\n",
    "\n",
    "print(len(my_str))\n",
    "\n"
   ]
  },
  {
   "cell_type": "code",
   "execution_count": null,
   "metadata": {},
   "outputs": [],
   "source": []
  },
  {
   "cell_type": "markdown",
   "metadata": {
    "colab": {},
    "colab_type": "code",
    "id": "DsOrb07Od0lR"
   },
   "source": [
    "### 13. Write a python program to find below output using loop:-\n",
    "\n",
    "    Input:- 'This is Python class', sep = 'is', \n",
    "    Output:- ['This', 'is', 'Python class']"
   ]
  },
  {
   "cell_type": "code",
   "execution_count": null,
   "metadata": {},
   "outputs": [],
   "source": [
    "str1 = 'This is Python class'\n",
    "sep = 'is'"
   ]
  },
  {
   "cell_type": "code",
   "execution_count": null,
   "metadata": {},
   "outputs": [],
   "source": []
  },
  {
   "cell_type": "code",
   "execution_count": null,
   "metadata": {
    "colab": {},
    "colab_type": "code",
    "id": "jRnBVufmd2Ay"
   },
   "outputs": [],
   "source": [
    "EXCLUDED FROM ASSIGNMENT\n",
    "\n",
    "### 14. Write a python program which takes one input string from user and encode it in below format:-\n",
    "\n",
    "    1. #Input:- 'Python'\n",
    "       Output:- 'R{vjqp'\n",
    "    2. #Input:- 'Python'\n",
    "       Output:- 'Rwvfql'\n",
    "    3. #Input:- 'Python'\n",
    "       Output:- 'R{vkfml'"
   ]
  },
  {
   "cell_type": "code",
   "execution_count": null,
   "metadata": {},
   "outputs": [],
   "source": []
  },
  {
   "cell_type": "code",
   "execution_count": null,
   "metadata": {},
   "outputs": [],
   "source": []
  }
 ],
 "metadata": {
  "colab": {
   "name": "Conditional_and_loop_assignment.ipynb",
   "provenance": []
  },
  "kernelspec": {
   "display_name": "Python 3",
   "language": "python",
   "name": "python3"
  },
  "language_info": {
   "codemirror_mode": {
    "name": "ipython",
    "version": 3
   },
   "file_extension": ".py",
   "mimetype": "text/x-python",
   "name": "python",
   "nbconvert_exporter": "python",
   "pygments_lexer": "ipython3",
   "version": "3.8.3"
  }
 },
 "nbformat": 4,
 "nbformat_minor": 1
}
