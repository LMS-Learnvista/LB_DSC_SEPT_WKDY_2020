{
 "cells": [
  {
   "cell_type": "markdown",
   "metadata": {},
   "source": [
    "# Dictionary Assignment"
   ]
  },
  {
   "cell_type": "markdown",
   "metadata": {
    "colab": {},
    "colab_type": "code",
    "id": "2k4ZB9yltJCa"
   },
   "source": [
    "### 1. Initialize a dictionary \"emp_info\" with below details\n",
    "\n",
    "    In - emp_info['Tom']\n",
    "    Out - {'email':'tom_latham019@gmail.com', 'Phone': +1987654321, 'City': 'California'}\n",
    "\n",
    "    In - emp_info['Kathy']\n",
    "    Out - {'email':'kathy_abram897@gmail.com', 'Phone': +1887654321, 'City': 'New York'}"
   ]
  },
  {
   "cell_type": "code",
   "execution_count": 2,
   "metadata": {},
   "outputs": [
    {
     "name": "stdout",
     "output_type": "stream",
     "text": [
      "{'email': 'tom_latham019@gmail.com', 'Phone': 1987654321, 'City': 'California'}\n",
      "{'email': 'kathy_abram897@gmail.com', 'Phone': 1887654321, 'City': 'New York'}\n"
     ]
    }
   ],
   "source": [
    "emp_info = {'Tom':{'email':'tom_latham019@gmail.com', 'Phone': +1987654321, 'City': 'California'}, 'Kathy':{'email':'kathy_abram897@gmail.com', 'Phone': +1887654321, 'City': 'New York'}}\n",
    "\n",
    "print(emp_info['Tom'])\n",
    "print(emp_info['Kathy'])"
   ]
  },
  {
   "cell_type": "markdown",
   "metadata": {
    "colab": {},
    "colab_type": "code",
    "id": "BAUj-S0fqFWG"
   },
   "source": [
    "### 2. Create a dictionary out of below inputs\n",
    "\n",
    "    lst1 = ['emp1', 'emp2', 'emp3']\n",
    "    emp_key = ['e_name', 'e_id', 'e_sal']\n",
    "    emp1_val = ['John', 'SG101', '$10,000']\n",
    "    emp2_val = ['Smith', 'SG102', '$9,000']\n",
    "    emp3_val = ['Peter', 'SG103', '$9,500']\n",
    "\n",
    "    Expected Output:- {'emp1':{'e_name':'John', 'e_id':'SG101', 'e_sal':$10,000}, \n",
    "                       'emp2':{'e_name':'Smith', 'e_id':'SG102', 'e_sal':$9,000}, \n",
    "                       'emp3':{'e_name':'Peter', 'e_id':'SG103', 'e_sal':$9,500}}\n",
    "\n"
   ]
  },
  {
   "cell_type": "code",
   "execution_count": 45,
   "metadata": {},
   "outputs": [
    {
     "name": "stdout",
     "output_type": "stream",
     "text": [
      "{'emp1': {'e_name': 'John', 'e_id': 'SG101', 'e_sal': '$10,000'}, 'emp2': {'e_name': 'Smith', 'e_id': 'SG102', 'e_sal': '$9,000'}, 'emp3': {'e_name': 'Peter', 'e_id': 'SG103', 'e_sal': '$9,500'}}\n"
     ]
    }
   ],
   "source": [
    "lst1 = ['emp1', 'emp2', 'emp3']\n",
    "\n",
    "emp_key = ['e_name', 'e_id', 'e_sal']\n",
    "emp1_val = ['John', 'SG101', '$10,000']\n",
    "emp2_val = ['Smith', 'SG102', '$9,000']\n",
    "emp3_val = ['Peter', 'SG103', '$9,500']\n",
    "\n",
    "d = dict(zip(lst1, [(dict(zip(emp_key, emp1_val))), (dict(zip(emp_key, emp2_val))), (dict(zip(emp_key, emp3_val)))]))\n",
    "print(d)"
   ]
  },
  {
   "cell_type": "markdown",
   "metadata": {
    "colab": {},
    "colab_type": "code",
    "id": "LxGZ3jbjrBkj"
   },
   "source": [
    "### 3. Acess the value of key 'history'\n",
    "\n",
    "    sampleDict = { \n",
    "       \"class\":{ \n",
    "          \"student\":{ \n",
    "             \"name\":\"Mike\",\n",
    "             \"marks\":{ \n",
    "                \"physics\":70,\n",
    "                \"history\":80\n",
    "             }\n",
    "          }\n",
    "       }\n",
    "    }"
   ]
  },
  {
   "cell_type": "code",
   "execution_count": 13,
   "metadata": {},
   "outputs": [
    {
     "name": "stdout",
     "output_type": "stream",
     "text": [
      "80\n"
     ]
    }
   ],
   "source": [
    "sampleDict = { \n",
    "   \"class\":{ \n",
    "      \"student\":{ \n",
    "         \"name\":\"Mike\",\n",
    "         \"marks\":{ \n",
    "            \"physics\":70,\n",
    "            \"history\":80\n",
    "         }\n",
    "      }\n",
    "   }\n",
    "}\n",
    "\n",
    "print (sampleDict['class']['student']['marks']['history'])"
   ]
  },
  {
   "cell_type": "markdown",
   "metadata": {
    "colab": {},
    "colab_type": "code",
    "id": "Vm8UZbyNrKID"
   },
   "source": [
    "### 4. Initialize dictionary with default values. Inputs are:-\n",
    "\n",
    "employees = ['Kelly', 'Emma', 'John']\n",
    "defaults = {\"designation\": 'Application Developer', \"salary\": 8000}\n",
    "\n",
    "Expected output:- {'Kelly': {'designation': 'Application Developer', 'salary': 8000}, \n",
    "                  'Emma': {'designation': 'Application Developer', 'salary': 8000}, \n",
    "                  'John': {'designation': 'Application Developer', 'salary': 8000}}"
   ]
  },
  {
   "cell_type": "code",
   "execution_count": 47,
   "metadata": {},
   "outputs": [
    {
     "name": "stdout",
     "output_type": "stream",
     "text": [
      "{'Kelly': {'designation': 'Application Developer', 'salary': 8000}, 'Emma': {'designation': 'Application Developer', 'salary': 8000}, 'John': {'designation': 'Application Developer', 'salary': 8000}}\n"
     ]
    }
   ],
   "source": [
    "employees = ['Kelly', 'Emma', 'John']\n",
    "defaults = {\"designation\": 'Application Developer', \"salary\": 8000}\n",
    "\n",
    "d = dict(zip(employees, ((dict(defaults)), (dict(defaults)), (dict(defaults)))))\n",
    "print(d)"
   ]
  },
  {
   "cell_type": "markdown",
   "metadata": {
    "colab": {},
    "colab_type": "code",
    "id": "nmFdbaHBrThC"
   },
   "source": [
    "### 5. In gene expression, mRNA is transcribed from a DNA template.\n",
    "\n",
    "    The 4 nucleotide bases of A, T, C, G corresponds to the U, A, G, C bases of the mRNA. \n",
    "    Write a function that returns the mRNA transcript given the sequence of a DNA strand.\n",
    "\n",
    "    Use a dictionary to provide the mapping of DNA to RNA bases."
   ]
  },
  {
   "cell_type": "code",
   "execution_count": 72,
   "metadata": {},
   "outputs": [
    {
     "name": "stdout",
     "output_type": "stream",
     "text": [
      "Enter sequence of DNA strand which is combination of A,T,C,G:  CTA\n",
      "\n",
      "mRNA, corresponding to the sequence of DNA strand is: G A U\n"
     ]
    }
   ],
   "source": [
    "def mRNA():\n",
    "    i = input('Enter sequence of DNA strand which is combination of A,T,C,G:  ')\n",
    "    for n in i:\n",
    "        if len(i) == 1:\n",
    "            mRNA = d[i]\n",
    "        else:\n",
    "            l = list(i)\n",
    "            RNA = []\n",
    "            for x in l:\n",
    "                mR = d[x]\n",
    "                RNA.append(mR)\n",
    "            mRNA = ' '.join(RNA)\n",
    "    return mRNA\n",
    "\n",
    "DNA_bases = 'A', 'T', 'C', 'G'\n",
    "RNA_bases = 'U', 'A', 'G', 'C'\n",
    "\n",
    "d = dict(zip(DNA_bases, RNA_bases))\n",
    "RNA = mRNA()\n",
    "print()\n",
    "print(f'mRNA, corresponding to the sequence of DNA strand is: {RNA}')\n"
   ]
  },
  {
   "cell_type": "markdown",
   "metadata": {
    "colab": {},
    "colab_type": "code",
    "id": "rop1A1pQw6Uk"
   },
   "source": [
    "### 6. Write a function which takes a word as input and returns a dictionary with letters as key and no of time letters are repeated as value.\n",
    "    In - count_letter('google.com')\n",
    "    Out - {'g': 2, 'o': 3, 'l': 1, 'e': 1, '.': 1, 'c': 1, 'm': 1}"
   ]
  },
  {
   "cell_type": "code",
   "execution_count": 85,
   "metadata": {},
   "outputs": [
    {
     "name": "stdout",
     "output_type": "stream",
     "text": [
      "Count of letters in text --> \"google.com\" are:\n",
      "{'g': 2, 'o': 3, 'l': 1, 'e': 1, '.': 1, 'c': 1, 'm': 1}\n"
     ]
    }
   ],
   "source": [
    "def count_letter(string):\n",
    "    print(f'Count of letters in text --> \"{In}\" are:')\n",
    "    l = list(string)\n",
    "    ul = []\n",
    "    dc = {}\n",
    "    for i in l:\n",
    "        if i not in ul:\n",
    "            ul.append(i)\n",
    "    for j in range(len(ul)):\n",
    "        c = string.count(ul[j])\n",
    "        dc[ul[j]] = c\n",
    "    return dc\n",
    "\n",
    "In = 'google.com'\n",
    "\n",
    "cod = count_letter(In)\n",
    "print(cod)"
   ]
  },
  {
   "cell_type": "markdown",
   "metadata": {
    "colab": {},
    "colab_type": "code",
    "id": "vAwGIoxdw856"
   },
   "source": [
    "### 7. A DNA strand consisting of the 4 nucleotide bases is usually represented with a string of letters: A,T, C, G.\n",
    "\n",
    "    Write a function that computes the base composition of a given DNA sequence.\n",
    "\n",
    "    In - baseComposition(\"CTATCGGCACCCTTTCAGCA\")\n",
    "    Out - {'A': 4, 'C': 8, 'T': 5,  'G': 3 }\n",
    "\n",
    "    In - baseComposition(\"AGT\")\n",
    "    Out - {'A': 1, 'C': 0, 'T': 1,  'G': 1 }"
   ]
  },
  {
   "cell_type": "code",
   "execution_count": 5,
   "metadata": {},
   "outputs": [
    {
     "name": "stdout",
     "output_type": "stream",
     "text": [
      "Enter sequence of DNA strand which is combination of A,T,C,G:  AGT\n",
      "baseComposition \"AGT\" is:\n",
      "\n",
      "mRNA, corresponding to the sequence of DNA strand is: {'A': 1, 'C': 0, 'T': 1, 'G': 1}\n"
     ]
    }
   ],
   "source": [
    "def mRNA():\n",
    "    i = input('Enter sequence of DNA strand which is combination of A,T,C,G:  ')\n",
    "    print(f'baseComposition of \"{i}\" is:')\n",
    "    \n",
    "    l = list(i)\n",
    "    DNA_strand = ['A', 'C', 'T', 'G']\n",
    "    CmRNA = {}\n",
    "    for j in range(len(DNA_strand)):\n",
    "        c = i.count(DNA_strand[j])\n",
    "        CmRNA[DNA_strand[j]] = c\n",
    "    return CmRNA\n",
    "\n",
    "cRNA = mRNA()\n",
    "print()\n",
    "print(f'mRNA, corresponding to the sequence of DNA strand is: {cRNA}')"
   ]
  },
  {
   "cell_type": "markdown",
   "metadata": {
    "colab": {},
    "colab_type": "code",
    "id": "iVNnSsvaxMDo"
   },
   "source": [
    "### 8. [MCQ] Suppose \"d\" is an empty dictionary, which statement does not assign \"d\" with {\"Name\":\"Tom\"}? \n",
    "\n",
    "    1. d = {\"Name\": \"Tom\" }\n",
    "    2. d[\"Name\"] = \"Tom\"\n",
    "    3. d.update({\"Name\": \"Tom\" })\n",
    "    4. d.setdefault(\"Name\", \"Tom\")\n",
    "    5. None of the above.\n",
    "    \n",
    "    \n",
    "#####    Option 5: None of the above"
   ]
  },
  {
   "cell_type": "markdown",
   "metadata": {
    "colab": {},
    "colab_type": "code",
    "id": "tOgsXi2axnhF"
   },
   "source": [
    "### 9. [MCQ] d = {\"a\":1, \"b\":2}. Which of the statements returns [1,2]? \n",
    "\n",
    "    1. d.keys()\n",
    "    2. d.values()\n",
    "    3. d.items()\n",
    "    4. d.popitem()\n",
    "    5. None of the above.\n",
    "    \n",
    "#####    Option 2: d.values() will return dict values [1,2]"
   ]
  },
  {
   "cell_type": "markdown",
   "metadata": {
    "colab": {},
    "colab_type": "code",
    "id": "BeNNopkDzK0k"
   },
   "source": [
    "### 10. [MCQ] Which of the following declarations is not valid for 'dict' type?\n",
    "\n",
    "    1. d = {\"Name\": \"Tom\" }\n",
    "    2. d = { (1,3,4): 4.5 }\n",
    "    3. d = { [\"First\", \"Last\"]: (1,3) }\n",
    "    4. d = { 1: 0.4 }\n",
    "    5. None of the above\n",
    "\n",
    "#####    Option 3: d = { [\"First\", \"Last\"]: (1,3) } is not valid\n",
    "        - as a key can not be a mutable object; list is a mutable type object"
   ]
  },
  {
   "cell_type": "markdown",
   "metadata": {
    "colab": {},
    "colab_type": "code",
    "id": "7kPbKcfMzTHP"
   },
   "source": [
    "### 11. Write a function reverseLookup(dictionary, value) that takes in a dictionary and a value as arguments and returns a sorted list of all keys that contains the value. \n",
    "    The function will return an empty list if no match is found.\n",
    "\n",
    "    In - reverseLookup({'a':1, 'b':2, 'c':2}, 1)\n",
    "    Out - ['a']\n",
    "    In - reverseLookup({'a':1, 'b':2, 'c':2}, 2)\n",
    "    Out - ['b', 'c']\n",
    "    In - reverseLookup({'a':1, 'b':2, 'c':2}, 3)\n",
    "    Out - []"
   ]
  },
  {
   "cell_type": "code",
   "execution_count": 38,
   "metadata": {},
   "outputs": [
    {
     "name": "stdout",
     "output_type": "stream",
     "text": [
      "Enter the dictionary value for reverse Lookup:  2\n",
      "['b', 'c']\n"
     ]
    }
   ],
   "source": [
    "def reverseLookup(d):\n",
    "    val = eval(input('Enter the dictionary value for reverse Lookup:  '))\n",
    "    v = list(d.values())\n",
    "    k = list(d.keys())\n",
    "    \n",
    "    l = []\n",
    "    for i in range(len(v)):\n",
    "        if val == v[i]:\n",
    "            l.append(k[i])\n",
    "    return l\n",
    "\n",
    "In = {'a':1, 'b':2, 'c':2}\n",
    "rev = reverseLookup(In)\n",
    "print(rev)"
   ]
  },
  {
   "cell_type": "markdown",
   "metadata": {
    "colab": {},
    "colab_type": "code",
    "id": "s87Rvg2HDFYp"
   },
   "source": [
    "### 12. Write a function invertDictionary(d) that takes in a dictionary as argument and return a dictionary that inverts the keys and the values of the original dictionary.\n",
    "\n",
    "    In - invertDictionary({'a':1, 'b':2, 'c':3, 'd':2})\n",
    "    Out - {1: ['a'], 2: ['b', 'd'], 3: ['c']}\n",
    "    In - invertDictionary({'a':3, 'b':3, 'c':3})\n",
    "    Out - {3: ['a', 'c', 'b']}\n",
    "    In - invertDictionary({'a':2, 'b':1, 'c':2, 'd':1})\n",
    "    Out - {1: ['b', 'd'], 2: ['a', 'c']}\n"
   ]
  },
  {
   "cell_type": "code",
   "execution_count": 46,
   "metadata": {},
   "outputs": [
    {
     "name": "stdout",
     "output_type": "stream",
     "text": [
      "2\n",
      "2\n",
      "['b', 'b']\n"
     ]
    }
   ],
   "source": [
    "def reverseLookup(d):\n",
    "    v = list(d.values())\n",
    "    k = list(d.keys())\n",
    "    \n",
    "    i = 0\n",
    "    l = []\n",
    "    \n",
    "    for i in v:\n",
    "        if v.count(i) > 1:\n",
    "            print(v.count(i))\n",
    "            l.append(k[v.index(i)])\n",
    "#         if i == v[i]:\n",
    "            \n",
    "#         i += 1\n",
    "    return l\n",
    "\n",
    "In = {'a':1, 'b':2, 'c':3, 'd':2}\n",
    "rev = reverseLookup(In)\n",
    "print(rev)"
   ]
  },
  {
   "cell_type": "code",
   "execution_count": 79,
   "metadata": {},
   "outputs": [
    {
     "name": "stdout",
     "output_type": "stream",
     "text": [
      "{1: [10], 2: [10], 3: [10]} <class 'dict'>\n",
      "<class 'list'>\n",
      "0\n",
      "[10]\n",
      "[10, 'a']\n",
      "[10, 'a', 'b']\n",
      "{1: None, 2: None, 3: None}\n",
      "{1: 'a', 2: 'd', 3: 'c'}\n"
     ]
    }
   ],
   "source": [
    "def invertDictionary(d):\n",
    "    v = list(d.values())\n",
    "    k = list(d.keys())\n",
    "    l = []\n",
    "    for i in v:\n",
    "        x = v.count(i)\n",
    "        if i not in l:\n",
    "            l.append(i)\n",
    "    \n",
    "    d1 = d.fromkeys(l,[10])\n",
    "    o = 0\n",
    "    for j in d1:\n",
    "        d1[j] = d1[j].append(k[o])\n",
    "        o += 1\n",
    "    print(d1)\n",
    "\n",
    "    return ind\n",
    "\n",
    "In = {'a':1, 'b':2, 'c':3, 'd':2}\n",
    "inv = invertDictionary(In)\n",
    "print(inv)"
   ]
  },
  {
   "cell_type": "code",
   "execution_count": null,
   "metadata": {},
   "outputs": [],
   "source": []
  },
  {
   "cell_type": "code",
   "execution_count": 48,
   "metadata": {},
   "outputs": [
    {
     "name": "stdout",
     "output_type": "stream",
     "text": [
      "{1: 'a', 2: 'd', 3: 'c'}\n"
     ]
    }
   ],
   "source": [
    "def invertDictionary(d):\n",
    "#     d = eval(input('Enter a dictionary:  '))\n",
    "    v = list(d.values())\n",
    "    k = list(d.keys())\n",
    "    ind = dict(zip(v,k))\n",
    "    return ind\n",
    "\n",
    "In = {'a':1, 'b':2, 'c':3, 'd':2}\n",
    "inv = invertDictionary(In)\n",
    "print(inv)"
   ]
  },
  {
   "cell_type": "markdown",
   "metadata": {
    "colab": {},
    "colab_type": "code",
    "id": "DgYyaZU6Oz7E"
   },
   "source": [
    "### 13. Write a function that converts a sparse vector into a dictionary as described above.\n",
    "\n",
    "    In - convertVector([1, 0, 0, 2, 0, 0, 0, 3, 0, 0, 0, 0, 4])\n",
    "    Out - {0: 1, 3: 2, 7: 3, 12: 4}\n",
    "    In - convertVector([1, 0, 1 , 0, 2, 0, 1, 0, 0, 1, 0])\n",
    "    Out - {0: 1, 2: 1, 4: 2, 6: 1, 9: 1}\n",
    "    In - convertVector([0, 0, 0, 0, 0])\n",
    "    Out - {}"
   ]
  },
  {
   "cell_type": "code",
   "execution_count": 14,
   "metadata": {},
   "outputs": [
    {
     "name": "stdout",
     "output_type": "stream",
     "text": [
      "Enter a sparse vector: [1, 0, 1 , 0, 2, 0, 1, 0, 0, 1, 0]\n",
      "{0: 1, 2: 1, 4: 2, 6: 1, 9: 1}\n"
     ]
    }
   ],
   "source": [
    "def convertVector(l):\n",
    "    cl = l.copy()\n",
    "    kl = []\n",
    "    vl = []\n",
    "    for i in l:\n",
    "        if i != 0:\n",
    "            ind = cl.index(i)\n",
    "            kl.append(ind)\n",
    "            vl.append(i)\n",
    "            cl.remove(i)\n",
    "            cl.insert(i,0)\n",
    "    cv = dict(zip(kl,vl)) \n",
    "    return cv\n",
    "\n",
    "inp = eval(input('Enter a sparse vector: '))\n",
    "dv = convertVector(inp)\n",
    "print(dv)"
   ]
  },
  {
   "cell_type": "markdown",
   "metadata": {
    "colab": {},
    "colab_type": "code",
    "id": "ETCmEcflTGCI"
   },
   "source": [
    "### 14. Write a function that converts a dictionary back to its sparse vector representation.\n",
    "\n",
    "    In - convertDictionary({0: 1, 3: 2, 7: 3, 12: 4})\n",
    "    Out - [1, 0, 0, 2, 0, 0, 0, 3, 0, 0, 0, 0, 4]\n",
    "    In - convertDictionary({0: 1, 2: 1, 4: 2, 6: 1, 9: 1})\n",
    "    Out - [1, 0, 1, 0, 2, 0, 1, 0, 0, 1]\n",
    "    In - convertDictionary({})\n",
    "    Out - []"
   ]
  },
  {
   "cell_type": "code",
   "execution_count": 37,
   "metadata": {},
   "outputs": [
    {
     "name": "stdout",
     "output_type": "stream",
     "text": [
      "Enter a dictionary to convert in sparse vector: {0: 1, 2: 1, 4: 2, 6: 1, 9: 1}\n",
      "[1, 0, 1, 0, 2, 0, 1, 0, 0, 1]\n"
     ]
    }
   ],
   "source": [
    "def convertDictionary(l):\n",
    "    k = list(l.keys())\n",
    "    v = list(l.values())\n",
    "    l = []\n",
    "    if len(k) > 0:\n",
    "        for i in range(k[-1]+1):\n",
    "            l.insert(i,0)\n",
    "        x = 0\n",
    "        for j in k:\n",
    "            l.pop()\n",
    "            l.insert(j,v[x])\n",
    "            x += 1\n",
    "    return l\n",
    "\n",
    "inp = eval(input('Enter a dictionary to convert in sparse vector: '))\n",
    "dv = convertDictionary(inp)\n",
    "print(dv)"
   ]
  },
  {
   "cell_type": "markdown",
   "metadata": {
    "colab": {},
    "colab_type": "code",
    "id": "tTANm2QKZXh3"
   },
   "source": [
    "### 15. Given a Python dictionary, Change Brad’s salary to 8500\n",
    "\n",
    "    sampleDict = {\n",
    "         'emp1': {'name': 'Jhon', 'salary': 7500},\n",
    "         'emp2': {'name': 'Emma', 'salary': 8000},\n",
    "         'emp3': {'name': 'Brad', 'salary': 6500}\n",
    "    }\n",
    "\n",
    "    Expected Output\n",
    "    sampleDict = {\n",
    "         'emp1': {'name': 'Jhon', 'salary': 7500},\n",
    "         'emp2': {'name': 'Emma', 'salary': 8000},\n",
    "         'emp3': {'name': 'Brad', 'salary': 8500}\n",
    "    }"
   ]
  },
  {
   "cell_type": "code",
   "execution_count": 16,
   "metadata": {},
   "outputs": [
    {
     "data": {
      "text/plain": [
       "{'emp1': {'name': 'Jhon', 'salary': 7500},\n",
       " 'emp2': {'name': 'Emma', 'salary': 8000},\n",
       " 'emp3': {'name': 'Brad', 'salary': 8500}}"
      ]
     },
     "execution_count": 16,
     "metadata": {},
     "output_type": "execute_result"
    }
   ],
   "source": [
    "sampleDict = {\n",
    "     'emp1': {'name': 'Jhon', 'salary': 7500},\n",
    "     'emp2': {'name': 'Emma', 'salary': 8000},\n",
    "     'emp3': {'name': 'Brad', 'salary': 6500}\n",
    "}\n",
    "\n",
    "sampleDict['emp3']['salary'] = 8500\n",
    "\n",
    "sampleDict"
   ]
  },
  {
   "cell_type": "markdown",
   "metadata": {
    "colab": {},
    "colab_type": "code",
    "id": "8dUHXiCVZmUx"
   },
   "source": [
    "### 16. Get the key corresponding to the minimum value from the following dictionary\n",
    "\n",
    "    sampleDict = {\n",
    "      'Physics': 82,\n",
    "      'Math': 65,\n",
    "      'history': 75\n",
    "    }\n",
    "\n",
    "    Expected Output\n",
    "    Math"
   ]
  },
  {
   "cell_type": "code",
   "execution_count": 20,
   "metadata": {},
   "outputs": [
    {
     "name": "stdout",
     "output_type": "stream",
     "text": [
      "1\n",
      "Math\n"
     ]
    }
   ],
   "source": [
    "sampleDict = {\n",
    "  'Physics': 82,\n",
    "  'Math': 65,\n",
    "  'history': 75\n",
    "}\n",
    "\n",
    "keys = list(sampleDict.keys())\n",
    "val = list(sampleDict.values())\n",
    "\n",
    "mvK = keys[val.index(min(val))]\n",
    "print(mvK)"
   ]
  },
  {
   "cell_type": "markdown",
   "metadata": {
    "colab": {},
    "colab_type": "code",
    "id": "AQe5QNGdZ7aJ"
   },
   "source": [
    "### 17. Rename key city to location in the following dictionary\n",
    "\n",
    "    sampleDict = {\n",
    "      \"name\": \"Kelly\",\n",
    "      \"age\":25,\n",
    "      \"salary\": 8000,\n",
    "      \"city\": \"New york\"\n",
    "    }\n",
    "\n",
    "    Expected Output\n",
    "    {\n",
    "      \"name\": \"Kelly\",\n",
    "      \"age\":25,\n",
    "      \"salary\": 8000,\n",
    "      \"location\": \"New york\"\n",
    "    }"
   ]
  },
  {
   "cell_type": "code",
   "execution_count": 26,
   "metadata": {},
   "outputs": [
    {
     "name": "stdout",
     "output_type": "stream",
     "text": [
      "{'name': 'Kelly', 'age': 25, 'salary': 8000, 'location': 'New york'}\n"
     ]
    }
   ],
   "source": [
    "sampleDict = {\n",
    "  \"name\": \"Kelly\",\n",
    "  \"age\":25,\n",
    "  \"salary\": 8000,\n",
    "  \"city\": \"New york\"\n",
    "}\n",
    "\n",
    "keys = list(sampleDict.keys())\n",
    "val = list(sampleDict.values())\n",
    "\n",
    "keys[keys.index('city')] = \"location\"\n",
    "\n",
    "sampleDict = dict(zip(keys,val))\n",
    "\n",
    "print(sampleDict)"
   ]
  },
  {
   "cell_type": "markdown",
   "metadata": {
    "colab": {},
    "colab_type": "code",
    "id": "e19_ddO9aNNw"
   },
   "source": [
    "### 18. Check if a value 200 exists in a dictionary\n",
    "\n",
    "    sampleDict = {'a': 100, 'b': 200, 'c': 300}\n",
    "\n",
    "    Expected Output: True"
   ]
  },
  {
   "cell_type": "code",
   "execution_count": 35,
   "metadata": {},
   "outputs": [
    {
     "name": "stdout",
     "output_type": "stream",
     "text": [
      "True\n"
     ]
    }
   ],
   "source": [
    "sampleDict = {'a': 100, 'b': 200, 'c': 300}\n",
    "\n",
    "c = sampleDict.values()\n",
    "\n",
    "for i in c:\n",
    "    if i == 200:\n",
    "        print(True)\n",
    "        break"
   ]
  },
  {
   "cell_type": "markdown",
   "metadata": {
    "colab": {},
    "colab_type": "code",
    "id": "yphwjc1gabMa"
   },
   "source": [
    "### 19. Delete set of keys from Python Dictionary\n",
    "\n",
    "    sampleDict = {\n",
    "      \"name\": \"Kelly\",\n",
    "      \"age\":25,\n",
    "      \"salary\": 8000,\n",
    "      \"city\": \"New york\"\n",
    "\n",
    "    }\n",
    "    keysToRemove = [\"name\", \"salary\"]\n",
    "\n",
    "    Expected Output:\n",
    "    {'city': 'New york', 'age': 25}"
   ]
  },
  {
   "cell_type": "code",
   "execution_count": 43,
   "metadata": {},
   "outputs": [
    {
     "name": "stdout",
     "output_type": "stream",
     "text": [
      "{'age': 25, 'city': 'New york'}\n"
     ]
    }
   ],
   "source": [
    "sampleDict = {\n",
    "  \"name\": \"Kelly\",\n",
    "  \"age\":25,\n",
    "  \"salary\": 8000,\n",
    "  \"city\": \"New york\"\n",
    "}\n",
    "\n",
    "keysToRemove = [\"name\", \"salary\"]\n",
    "\n",
    "sampleDict.pop(\"name\")\n",
    "sampleDict.pop(\"salary\")\n",
    "\n",
    "print(sampleDict)"
   ]
  }
 ],
 "metadata": {
  "colab": {
   "name": "Dictionary_Assignment.ipynb",
   "provenance": []
  },
  "kernelspec": {
   "display_name": "Python 3",
   "language": "python",
   "name": "python3"
  },
  "language_info": {
   "codemirror_mode": {
    "name": "ipython",
    "version": 3
   },
   "file_extension": ".py",
   "mimetype": "text/x-python",
   "name": "python",
   "nbconvert_exporter": "python",
   "pygments_lexer": "ipython3",
   "version": "3.8.3"
  }
 },
 "nbformat": 4,
 "nbformat_minor": 1
}
