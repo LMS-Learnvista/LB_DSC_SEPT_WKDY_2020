{
 "cells": [
  {
   "cell_type": "markdown",
   "metadata": {},
   "source": [
    "# Regular Expression Assignment"
   ]
  },
  {
   "cell_type": "markdown",
   "metadata": {
    "id": "xMLU30SQxZCH"
   },
   "source": [
    "### 1. Write the regular expression and use proper method which gives output as:- 'cat' in str.\n",
    "    import re\n",
    "    str = 'cat mat bat rat'"
   ]
  },
  {
   "cell_type": "code",
   "execution_count": 12,
   "metadata": {},
   "outputs": [
    {
     "name": "stdout",
     "output_type": "stream",
     "text": [
      "['cat']\n"
     ]
    }
   ],
   "source": [
    "import re\n",
    "str = 'cat mat bat rat'\n",
    "reg = r'c\\w{2}'\n",
    "print(re.findall(reg, str))"
   ]
  },
  {
   "cell_type": "markdown",
   "metadata": {
    "id": "zMiSTGMHx6Dv"
   },
   "source": [
    "### 2. Write the regular expression and use proper method which gives output as:- 'rat' in str.\n",
    "    import re\n",
    "    str = 'cat mat bat rat'"
   ]
  },
  {
   "cell_type": "code",
   "execution_count": 16,
   "metadata": {},
   "outputs": [
    {
     "name": "stdout",
     "output_type": "stream",
     "text": [
      "['rat']\n"
     ]
    }
   ],
   "source": [
    "import re\n",
    "str = 'cat mat bat rat'\n",
    "reg = r'r\\w{2}'\n",
    "print(re.findall(reg, str))"
   ]
  },
  {
   "cell_type": "markdown",
   "metadata": {
    "id": "qBoYFjf5x6Mm"
   },
   "source": [
    "### 3. Write the regular expression and use proper method which gives output as:- ['mat', 'man'] in str.\n",
    "    import re\n",
    "    str = 'cat mat bat rat man'"
   ]
  },
  {
   "cell_type": "code",
   "execution_count": 17,
   "metadata": {},
   "outputs": [
    {
     "name": "stdout",
     "output_type": "stream",
     "text": [
      "['mat', 'man']\n"
     ]
    }
   ],
   "source": [
    "import re\n",
    "str = 'cat mat bat rat man'\n",
    "reg = r'm\\w{2}'\n",
    "print(re.findall(reg, str))"
   ]
  },
  {
   "cell_type": "markdown",
   "metadata": {
    "id": "qmxmqzX_x6QR"
   },
   "source": [
    "### 4. Write the regular expression and use proper method which gives output as:- \n",
    "    ['Python', 's', 'Programming', 'is', 'very', 'easy', 'to', 'learn'] in str.\n",
    "    import re\n",
    "    str = \"Python's Programming: is very easy to learn\""
   ]
  },
  {
   "cell_type": "code",
   "execution_count": 18,
   "metadata": {},
   "outputs": [
    {
     "name": "stdout",
     "output_type": "stream",
     "text": [
      "['Python', 's', 'Programming', 'is', 'very', 'easy', 'to', 'learn']\n"
     ]
    }
   ],
   "source": [
    "import re\n",
    "str = \"Python's Programming: is very easy to learn\"\n",
    "reg = r'\\w{1,}'\n",
    "print(re.findall(reg, str))"
   ]
  },
  {
   "cell_type": "markdown",
   "metadata": {
    "id": "LxGl1o7px6Vi"
   },
   "source": [
    "### 5. Write the regular expression and use proper method which gives output as:- Python Programming: is very easy to learn in str.\n",
    "    import re\n",
    "    str = \"Python's Programming: is very easy to learn\""
   ]
  },
  {
   "cell_type": "code",
   "execution_count": null,
   "metadata": {},
   "outputs": [],
   "source": [
    "import re\n",
    "str = \"Python's Programming: is very easy to learn\""
   ]
  },
  {
   "cell_type": "code",
   "execution_count": null,
   "metadata": {},
   "outputs": [],
   "source": []
  },
  {
   "cell_type": "markdown",
   "metadata": {
    "id": "9uIpb614x6Yb"
   },
   "source": [
    "### 6. Write the regular expression and use proper method which Retrieves all words starting with p.\n",
    "    Output:- ['peter', 'per', 'picked', 'peck', 'pickled', 'peppers']\n",
    "    import re\n",
    "    str = \"peter giper picked a peck of pickled peppers\""
   ]
  },
  {
   "cell_type": "code",
   "execution_count": 19,
   "metadata": {},
   "outputs": [
    {
     "name": "stdout",
     "output_type": "stream",
     "text": [
      "['peter', 'per', 'picked', 'peck', 'pickled', 'peppers']\n"
     ]
    }
   ],
   "source": [
    "import re\n",
    "str = \"peter giper picked a peck of pickled peppers\"\n",
    "reg = r'p\\w{1,}'\n",
    "print(re.findall(reg, str))"
   ]
  },
  {
   "cell_type": "markdown",
   "metadata": {
    "id": "N0vFkePdx6bN"
   },
   "source": [
    "### 7. Write the regular expression and use proper method which Retrieves all words starting with p except 'per' which is not a separate word.\n",
    "    Output:- ['peter', 'picked', 'peck', 'pickled', 'peppers']\n",
    "    import re\n",
    "    str = \"peter giper picked a peck of pickled peppers\""
   ]
  },
  {
   "cell_type": "code",
   "execution_count": 20,
   "metadata": {},
   "outputs": [
    {
     "name": "stdout",
     "output_type": "stream",
     "text": [
      "['peter', 'picked', 'peck', 'pickled', 'peppers']\n"
     ]
    }
   ],
   "source": [
    "import re\n",
    "str = \"peter giper picked a peck of pickled peppers\"\n",
    "reg = r'\\bp\\w{1,}'\n",
    "print(re.findall(reg, str))"
   ]
  },
  {
   "cell_type": "markdown",
   "metadata": {
    "id": "mbiypO3yx6eE"
   },
   "source": [
    "### 8. Write the regular expression and use proper method which Retrieves all words starting with a digit.\n",
    "    Output:- ['8th', '11th']\n",
    "    import re\n",
    "    str = 'The election in delhi will be held on 8th and result for the same will be declared on 11th'"
   ]
  },
  {
   "cell_type": "code",
   "execution_count": 21,
   "metadata": {},
   "outputs": [
    {
     "name": "stdout",
     "output_type": "stream",
     "text": [
      "['8th', '11th']\n"
     ]
    }
   ],
   "source": [
    "import re\n",
    "str = 'The election in delhi will be held on 8th and result for the same will be declared on 11th'\n",
    "reg = r'\\d{1,}\\w{1,}'\n",
    "print(re.findall(reg, str))"
   ]
  },
  {
   "cell_type": "markdown",
   "metadata": {
    "id": "6ZUWWd6bx6g8"
   },
   "source": [
    "### 9. Write the regular expression and use proper method which Retrieves all words having 5 characters.\n",
    "    Output:- ['peter', 'giper']\n",
    "    import re\n",
    "    str = \"peter giper picked a peck of pickled peppers\""
   ]
  },
  {
   "cell_type": "code",
   "execution_count": 24,
   "metadata": {},
   "outputs": [
    {
     "name": "stdout",
     "output_type": "stream",
     "text": [
      "['peter', 'giper']\n"
     ]
    }
   ],
   "source": [
    "import re\n",
    "str = \"peter giper picked a peck of pickled peppers\"\n",
    "reg = r'\\b\\w{5}\\b'\n",
    "print(re.findall(reg, str))"
   ]
  },
  {
   "cell_type": "markdown",
   "metadata": {
    "id": "syuXvEXox6jt"
   },
   "source": [
    "### 10. Write the regular expression and use proper method which Retrieves all words having at least 4 characters.\n",
    "    Output:- ['Retrieving',  'words', 'having', 'least', 'characters']\n",
    "    import re\n",
    "    str = \"Retrieving all words having at least 4 characters\""
   ]
  },
  {
   "cell_type": "code",
   "execution_count": 25,
   "metadata": {},
   "outputs": [
    {
     "name": "stdout",
     "output_type": "stream",
     "text": [
      "['Retrieving', 'words', 'having', 'least', 'characters']\n"
     ]
    }
   ],
   "source": [
    "import re\n",
    "str = \"Retrieving all words having at least 4 characters\"\n",
    "reg = r'\\w{4,}'\n",
    "print(re.findall(reg, str))"
   ]
  },
  {
   "cell_type": "markdown",
   "metadata": {
    "id": "MtXo1Hf8x6ma"
   },
   "source": [
    "### 11. Write the regular expression and use proper method which Retrieves all words having at characters between 3 to 5 words.\n",
    "    Output:- ['all', 'words', 'least']\n",
    "    import re\n",
    "    str = \"Retrieving all words having at least 4 characters\""
   ]
  },
  {
   "cell_type": "code",
   "execution_count": 28,
   "metadata": {},
   "outputs": [
    {
     "name": "stdout",
     "output_type": "stream",
     "text": [
      "['all', 'words', 'least']\n"
     ]
    }
   ],
   "source": [
    "import re\n",
    "str = \"Retrieving all words having at least 4 characters\"\n",
    "reg = r'\\b\\w{3,5}\\b'\n",
    "print(re.findall(reg, str))"
   ]
  },
  {
   "cell_type": "markdown",
   "metadata": {
    "id": "RlvMct7xx6pE"
   },
   "source": [
    "### 12. Write the regular expression and use proper method which Retrieves only digits from the string.\n",
    "    Output:- ['8', '11']\n",
    "    import re\n",
    "    str = 'The election in delhi will be held on 8 and result for the same will be declared on 11'"
   ]
  },
  {
   "cell_type": "code",
   "execution_count": 29,
   "metadata": {},
   "outputs": [
    {
     "name": "stdout",
     "output_type": "stream",
     "text": [
      "['8', '11']\n"
     ]
    }
   ],
   "source": [
    "import re\n",
    "str = 'The election in delhi will be held on 8 and result for the same will be declared on 11'\n",
    "reg = r'\\d{1,}'\n",
    "print(re.findall(reg, str))"
   ]
  },
  {
   "cell_type": "markdown",
   "metadata": {
    "id": "wdD4cSyJx6us"
   },
   "source": [
    "### 13. Write the regular expression and use proper method which Retrieves last word if starts with c from the given string.\n",
    "    Output:- ['characters']\n",
    "    import re\n",
    "    str = \"Retrieving all words having at least 4 characters\""
   ]
  },
  {
   "cell_type": "code",
   "execution_count": 33,
   "metadata": {},
   "outputs": [
    {
     "name": "stdout",
     "output_type": "stream",
     "text": [
      "['characters']\n"
     ]
    }
   ],
   "source": [
    "import re\n",
    "str = \"Retrieving all words having at least 4 characters\"\n",
    "reg = r'c\\w{1,}$'\n",
    "print(re.findall(reg, str))"
   ]
  },
  {
   "cell_type": "markdown",
   "metadata": {
    "id": "HsVGzJVbx6sl"
   },
   "source": [
    "### 14. Write the regular expression and use proper method which Retrieves a phone number from the given string.\n",
    "    Output:- 1234567890\n",
    "    import re\n",
    "    str = \"Learnbay : 1234567890\""
   ]
  },
  {
   "cell_type": "code",
   "execution_count": 34,
   "metadata": {},
   "outputs": [
    {
     "name": "stdout",
     "output_type": "stream",
     "text": [
      "['1234567890']\n"
     ]
    }
   ],
   "source": [
    "import re\n",
    "str = \"Learnbay : 1234567890\"\n",
    "reg = r'\\b\\d{10}\\b'\n",
    "print(re.findall(reg, str))"
   ]
  },
  {
   "cell_type": "markdown",
   "metadata": {
    "id": "LvG3jTtvyQKk"
   },
   "source": [
    "### 15. Write the regular expression and use proper method which Etracts name from the string but not number.\n",
    "    Output:- Learnbay : \n",
    "    import re\n",
    "    str = \"Learnbay : 1234567890\""
   ]
  },
  {
   "cell_type": "code",
   "execution_count": 37,
   "metadata": {},
   "outputs": [
    {
     "name": "stdout",
     "output_type": "stream",
     "text": [
      "['Learnbay']\n"
     ]
    }
   ],
   "source": [
    "import re\n",
    "str = \"Learnbay : 1234567890\"\n",
    "reg = r'[A-Za-z]\\w{1,}'\n",
    "print(re.findall(reg, str))"
   ]
  },
  {
   "cell_type": "markdown",
   "metadata": {
    "id": "drArGXgKyQNz"
   },
   "source": [
    "### 16. Write the regular expression and use proper method which Retrieves name starting with 'an' or 'ak'.\n",
    "    Output:- ['anil', 'akhil', 'anant', 'ankur']\n",
    "    import re\n",
    "    str = 'anil akhil anant abhi arun arati arundhati abhijit ankur'"
   ]
  },
  {
   "cell_type": "code",
   "execution_count": 39,
   "metadata": {},
   "outputs": [
    {
     "name": "stdout",
     "output_type": "stream",
     "text": [
      "['anil', 'akhil', 'anant', 'ankur']\n"
     ]
    }
   ],
   "source": [
    "import re\n",
    "str = 'anil akhil anant abhi arun arati arundhati abhijit ankur'\n",
    "reg = r'an\\w{1,}|ak\\w{1,}'\n",
    "print(re.findall(reg, str))"
   ]
  }
 ],
 "metadata": {
  "colab": {
   "name": "Regular_Expression.ipynb",
   "provenance": []
  },
  "kernelspec": {
   "display_name": "Python 3",
   "language": "python",
   "name": "python3"
  },
  "language_info": {
   "codemirror_mode": {
    "name": "ipython",
    "version": 3
   },
   "file_extension": ".py",
   "mimetype": "text/x-python",
   "name": "python",
   "nbconvert_exporter": "python",
   "pygments_lexer": "ipython3",
   "version": "3.8.3"
  }
 },
 "nbformat": 4,
 "nbformat_minor": 1
}
