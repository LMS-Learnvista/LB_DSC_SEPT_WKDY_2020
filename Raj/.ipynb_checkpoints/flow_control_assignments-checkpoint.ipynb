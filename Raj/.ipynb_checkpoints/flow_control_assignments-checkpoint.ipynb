{
 "cells": [
  {
   "cell_type": "code",
   "execution_count": 2,
   "metadata": {},
   "outputs": [
    {
     "name": "stdout",
     "output_type": "stream",
     "text": [
      "enter a first number:10\n",
      "enter a second number:20\n",
      "enter a third number:25\n",
      "max number is: 25\n"
     ]
    }
   ],
   "source": [
    "inta = int(input('enter a first number:'))\n",
    "intb = int(input('enter a second number:'))\n",
    "intc = int(input('enter a third number:'))\n",
    "if inta>intb and inta>intc:\n",
    "    print('max numer is:', inta)\n",
    "elif intb > intc:\n",
    "    print('max numer is:', intb)\n",
    "else:\n",
    "    print('max number is:', intc)"
   ]
  },
  {
   "cell_type": "code",
   "execution_count": 1,
   "metadata": {},
   "outputs": [
    {
     "name": "stdout",
     "output_type": "stream",
     "text": [
      "enter a first number:10\n",
      "enter a second number:23\n",
      "enter a operation code:\n",
      "\t* To add enter 1\n",
      "\t* To subtract enter 2\n",
      "\t* To multiply enter 3\n",
      "\t* To divide enter 4\n",
      "\t* To divide and find quotient enter 5\n",
      "\t* To divide and find remainder enter 6\n",
      "\t* To find num1 to the power of num2 enter 7\n",
      "\t* To Come out of the program enter 85\n",
      "divide and quotient of two numbers: 0\n"
     ]
    }
   ],
   "source": [
    "#W. A P. to implement calculator but the operation to be done and two numbers will be taken as input from user:-\n",
    "#Operation console should show below:-\n",
    "#     Please select any one operation from below:-\n",
    "#         * To add enter 1\n",
    "#         * to subtract enter 2\n",
    "#         * To multiply enter 3\n",
    "#         * To divide enter 4\n",
    "#         * To divide and find quotient enter 5\n",
    "#         * To divide and find remainder enter 6\n",
    "#         * To divide and find num1 to the power of num2 enter 7\n",
    "#         * To Come out of the program enter 8\n",
    "\n",
    "\n",
    "\n",
    "inta = int(input('enter a first number:'))\n",
    "intb = int(input('enter a second number:'))\n",
    "intc = int(input('enter a operation code:\\n\\t* To add enter 1\\n\\t* To subtract enter 2\\n\\t* To multiply enter 3\\n\\t* To divide enter 4\\n\\t* To divide and find quotient enter 5\\n\\t* To divide and find remainder enter 6\\n\\t* To find num1 to the power of num2 enter 7\\n\\t* To Come out of the program enter 8'))\n",
    "if intc==1:\n",
    "    print('addition of two numbers:', inta+intb)\n",
    "elif intc==2:\n",
    "    print('subraction of two numbers:', inta-intb)\n",
    "elif intc==3:\n",
    "    print('multiplication of two numbers:', inta*intb)\n",
    "elif intc==4:\n",
    "    print('division of two numbers:', inta/intb)\n",
    "elif intc==5:\n",
    "    print('divide and quotient of two numbers:', inta//intb)    \n",
    "elif intc==6:\n",
    "    print('divide and reminder of two numbers:', inta%intb)\n",
    "elif intc==7:\n",
    "    print('find num1 to the power of num2:', inta**intb)\n",
    "else:\n",
    "    print('invalid operation code')"
   ]
  },
  {
   "cell_type": "code",
   "execution_count": 5,
   "metadata": {},
   "outputs": [
    {
     "name": "stdout",
     "output_type": "stream",
     "text": [
      "enter a year:2006\n",
      "it is not a leap year\n"
     ]
    }
   ],
   "source": [
    "#W A P to check whether a year entered by user is an leap year or not?\n",
    "#Check with below input:-\n",
    "    #leap year:- 2012, 1968, 2004, 1200, 1600,2400\n",
    "    #Non-lear year:- 1971, 2006, 1700,1800,1900inta = int(input('enter a year:'))\n",
    "a = input('enter a year:')\n",
    "if inta%4==0:\n",
    "    if inta%100==0:\n",
    "        if inta%400==0:\n",
    "            print('this is a leap year')\n",
    "        else:\n",
    "            print('this is not a leap year')\n",
    "    else:\n",
    "        print('this is a leap year')\n",
    "else:\n",
    "    print('it is not a leap year')"
   ]
  },
  {
   "cell_type": "code",
   "execution_count": 14,
   "metadata": {},
   "outputs": [
    {
     "name": "stdout",
     "output_type": "stream",
     "text": [
      "enter a numbertenet\n",
      "['tenet']\n",
      "it a palindrome\n"
     ]
    }
   ],
   "source": [
    "my_str = input('enter a number')\n",
    "my_list = my_str.split()\n",
    "my_templist = my_list\n",
    "my_templist.reverse()\n",
    "if \"\".join(my_templist) == my_str:\n",
    "    print('it a palindrome')\n",
    "else:\n",
    "    print('it is not a palindrome')"
   ]
  },
  {
   "cell_type": "code",
   "execution_count": 7,
   "metadata": {},
   "outputs": [
    {
     "name": "stdout",
     "output_type": "stream",
     "text": [
      "Enter a number to find whether it is odd or even:6.78\n"
     ]
    },
    {
     "ename": "ValueError",
     "evalue": "invalid literal for int() with base 10: '6.78'",
     "output_type": "error",
     "traceback": [
      "\u001b[1;31m---------------------------------------------------------------------------\u001b[0m",
      "\u001b[1;31mValueError\u001b[0m                                Traceback (most recent call last)",
      "\u001b[1;32m<ipython-input-7-a9b87fd48a78>\u001b[0m in \u001b[0;36m<module>\u001b[1;34m\u001b[0m\n\u001b[0;32m      2\u001b[0m \u001b[1;31m#even number else prints that number is odd number.\u001b[0m\u001b[1;33m\u001b[0m\u001b[1;33m\u001b[0m\u001b[1;33m\u001b[0m\u001b[0m\n\u001b[0;32m      3\u001b[0m \u001b[1;33m\u001b[0m\u001b[0m\n\u001b[1;32m----> 4\u001b[1;33m \u001b[0ma\u001b[0m \u001b[1;33m=\u001b[0m \u001b[0mint\u001b[0m\u001b[1;33m(\u001b[0m\u001b[0minput\u001b[0m\u001b[1;33m(\u001b[0m\u001b[1;34m'Enter a number to find whether it is odd or even:'\u001b[0m\u001b[1;33m)\u001b[0m\u001b[1;33m)\u001b[0m\u001b[1;33m\u001b[0m\u001b[1;33m\u001b[0m\u001b[0m\n\u001b[0m\u001b[0;32m      5\u001b[0m \u001b[1;32mif\u001b[0m \u001b[0ma\u001b[0m\u001b[1;33m%\u001b[0m\u001b[1;36m2\u001b[0m\u001b[1;33m==\u001b[0m\u001b[1;36m0\u001b[0m\u001b[1;33m:\u001b[0m\u001b[1;33m\u001b[0m\u001b[1;33m\u001b[0m\u001b[0m\n\u001b[0;32m      6\u001b[0m     \u001b[0mprint\u001b[0m\u001b[1;33m(\u001b[0m\u001b[1;34m'entered number is a even number'\u001b[0m\u001b[1;33m)\u001b[0m\u001b[1;33m\u001b[0m\u001b[1;33m\u001b[0m\u001b[0m\n",
      "\u001b[1;31mValueError\u001b[0m: invalid literal for int() with base 10: '6.78'"
     ]
    }
   ],
   "source": [
    "#W A P which takes one number from the user and checks whether it is an even or odd number?, If it even then prints number is \n",
    "#even number else prints that number is odd number.\n",
    "\n",
    "a = int(input('Enter a number to find whether it is odd or even:'))\n",
    "if a%2==0:\n",
    "    print('entered number is a even number')\n",
    "elif a%2!=0:\n",
    "    print('entered number is a odd number')"
   ]
  },
  {
   "cell_type": "code",
   "execution_count": null,
   "metadata": {},
   "outputs": [],
   "source": [
    "#W A P which takes two numbers from the user and prints below output:-\n",
    "#     1. num1 is greater than num2 if num1 is greater than num2\n",
    "#     2. num1 is smaller than num2 if num1 is smaller than num2\n",
    "#     3. num1 is equal to num2 if num1 and num2 are equal\n",
    "\n",
    "#Note:- 1. Do this problem using if - else \n",
    "#       2. Do this using ternary operator\n",
    "\n",
    "a = int(input('Enter a first number: '))\n",
    "b = int(input('Enter a second number: '))\n",
    "if a>b:\n",
    "    print('num1 is greater than num2')\n",
    "elif a<b:\n",
    "    print('num1 is smaller than num2')\n",
    "elif a==b:\n",
    "    print('num1 is equal to num2')"
   ]
  },
  {
   "cell_type": "markdown",
   "metadata": {},
   "source": [
    "# Loops - for loop, while loop"
   ]
  },
  {
   "cell_type": "code",
   "execution_count": 10,
   "metadata": {},
   "outputs": [
    {
     "name": "stdout",
     "output_type": "stream",
     "text": [
      "enter a input string: fudyfhcmv\n",
      "length of a inout string is  9\n"
     ]
    }
   ],
   "source": [
    "#Write a Python program to find the length of the my_str using loop:-\n",
    "\n",
    "#Input:- 'Write a Python program to find the length of the my_str'\n",
    "#Output:- 55\n",
    "\n",
    "my_str = input('enter a input string: ')\n",
    "intlen = 0\n",
    "for i in my_str:\n",
    "    intlen+=1\n",
    "print('length of a input string is ', intlen)"
   ]
  },
  {
   "cell_type": "code",
   "execution_count": 11,
   "metadata": {},
   "outputs": [
    {
     "name": "stdout",
     "output_type": "stream",
     "text": [
      "enter a input string: peter piper picked a peck of pickled peppers.\\n\n",
      "no of times p is repeating: 9\n"
     ]
    }
   ],
   "source": [
    "#Write a Python program to find the total number of times letter 'p' is appeared in the below string using loop:-\n",
    "    \n",
    "#Input:- 'peter piper picked a peck of pickled peppers.\\n'\n",
    "#Output:- 9\n",
    "\n",
    "my_str = input('enter a input string: ')\n",
    "intout = 0\n",
    "for i in my_str:\n",
    "    if i=='p':\n",
    "        intout+=1\n",
    "print('no of times p is repeating:', intout)\n",
    "    "
   ]
  },
  {
   "cell_type": "code",
   "execution_count": 12,
   "metadata": {},
   "outputs": [
    {
     "name": "stdout",
     "output_type": "stream",
     "text": [
      "enter a input string: peter piper picked a peck of pickled peppers.\n",
      "0\n",
      "6\n",
      "8\n",
      "12\n",
      "21\n",
      "29\n",
      "37\n",
      "39\n",
      "40\n",
      "no of times p is repeating: 0\n"
     ]
    }
   ],
   "source": [
    " #Write a Python Program, to print all the indexes of all occurences of letter 'p' appeared in the string using loop:-\n",
    "    \n",
    "#Input:- 'peter piper picked a peck of pickled peppers.'\n",
    "#Output:- \n",
    "# 0\n",
    "# 6\n",
    "# 8\n",
    "# 12\n",
    "# 21\n",
    "# 29\n",
    "# 37\n",
    "# 39\n",
    "# 40\n",
    "\n",
    "my_str = input('enter a input string: ')\n",
    "intout=0\n",
    "intindex=0\n",
    "for i in my_str:\n",
    "    if i=='p':\n",
    "        intout+=1\n",
    "        print(intindex)\n",
    "    intindex+=1\n",
    "print('no of times p is repeating:', intout)\n",
    "\n",
    "# using find method\n",
    "    "
   ]
  },
  {
   "cell_type": "code",
   "execution_count": 31,
   "metadata": {},
   "outputs": [
    {
     "name": "stdout",
     "output_type": "stream",
     "text": [
      "['peter', 'piper', 'picked', 'a', 'peck', 'of', 'pickled', 'peppers.']\n"
     ]
    }
   ],
   "source": [
    "#Write a python program to find below output using loop:-\n",
    "\n",
    "#Input:- 'peter piper picked a peck of pickled peppers.'\n",
    "#Output:- ['peter', 'piper', 'picked', 'a', 'peck', 'of', 'pickled', 'peppers']\n",
    "\n",
    "my_str = 'peter piper picked a peck of pickled peppers.'\n",
    "temp_str = \"\"\n",
    "my_list = []\n",
    "for i in my_str:\n",
    "    if i == \" \":\n",
    "        my_list.append(temp_str)\n",
    "        temp_str=\"\"\n",
    "        continue\n",
    "    temp_str = temp_str + i\n",
    "my_list.append(temp_str)\n",
    "print(my_list)"
   ]
  },
  {
   "cell_type": "code",
   "execution_count": 33,
   "metadata": {},
   "outputs": [
    {
     "name": "stdout",
     "output_type": "stream",
     "text": [
      " peppers. pickled of peck a picked piper peter\n"
     ]
    }
   ],
   "source": [
    "#Write a python program to find below output using loop:-\n",
    "\n",
    "#Input:- 'peter piper picked a peck of pickled peppers.'\n",
    "#Output:- ['peter', 'piper', 'picked', 'a', 'peck', 'of', 'pickled', 'peppers']\n",
    "\n",
    "my_str = 'peter piper picked a peck of pickled peppers.'\n",
    "temp_str = \"\"\n",
    "my_list = []\n",
    "for i in my_str:\n",
    "    if i == \" \":\n",
    "        my_list.append(temp_str)\n",
    "        temp_str=\"\"\n",
    "        continue\n",
    "    temp_str = temp_str + i\n",
    "my_list.append(temp_str)\n",
    "my_list.reverse()\n",
    "out_str = \"\"\n",
    "for i in my_list:\n",
    "    out_str = out_str + \" \" + i\n",
    "print(out_str)"
   ]
  },
  {
   "cell_type": "code",
   "execution_count": 14,
   "metadata": {},
   "outputs": [
    {
     "name": "stdout",
     "output_type": "stream",
     "text": [
      " .sreppep delkcip fo kcep a dekcip repip retep\n"
     ]
    }
   ],
   "source": [
    "#Write a python program to find below output using loop:-\n",
    "\n",
    "#Input:- 'peter piper picked a peck of pickled peppers.'\n",
    "#Output:- '.sreppep delkcip fo kcep a dekcip repip retep'\n",
    "\n",
    "my_str = 'peter piper picked a peck of pickled peppers.'\n",
    "temp_str = \"\"\n",
    "my_list = []\n",
    "for i in my_str[::-1]:\n",
    "    if i == \" \":\n",
    "        my_list.append(temp_str)\n",
    "        temp_str=\"\"\n",
    "        continue\n",
    "    temp_str = temp_str + i\n",
    "my_list.append(temp_str)\n",
    "# my_list.reverse()\n",
    "out_str = \"\"\n",
    "for i in my_list:\n",
    "    out_str = out_str + \" \" + i\n",
    "print(out_str)"
   ]
  },
  {
   "cell_type": "code",
   "execution_count": 15,
   "metadata": {},
   "outputs": [
    {
     "name": "stdout",
     "output_type": "stream",
     "text": [
      " retep repip dekcip a kcep fo delkcip .sreppep\n"
     ]
    }
   ],
   "source": [
    "#Write a python program to find below output using loop:-\n",
    "\n",
    "#Input:- 'peter piper picked a peck of pickled peppers.'\n",
    "#Output:- 'retep repip dekcip a kcep fo delkcip sreppep'\n",
    "\n",
    "my_str = 'peter piper picked a peck of pickled peppers.'\n",
    "temp_str = \"\"\n",
    "my_list = []\n",
    "for i in my_str[::-1]:\n",
    "    if i == \" \":\n",
    "        my_list.append(temp_str)\n",
    "        temp_str=\"\"\n",
    "        continue\n",
    "    temp_str = temp_str + i\n",
    "my_list.append(temp_str)\n",
    "my_list.reverse()\n",
    "out_str = \"\"\n",
    "for i in my_list:\n",
    "    out_str = out_str + \" \" + i\n",
    "print(out_str)\n"
   ]
  },
  {
   "cell_type": "code",
   "execution_count": 19,
   "metadata": {},
   "outputs": [
    {
     "name": "stdout",
     "output_type": "stream",
     "text": [
      "Peter Piper Picked A Peck Of Pickled Peppers.\n"
     ]
    }
   ],
   "source": [
    "#Write a python program to find below output using loop:-\n",
    "\n",
    "#Input:- 'peter piper picked a peck of pickled peppers.'\n",
    "#Output:- 'Peter Piper Picked A Peck Of Pickled Peppers'\n",
    "\n",
    "my_str = 'peter piper picked a peck of pickled peppers.'\n",
    "my_list = my_str.split(' ')\n",
    "print(\" \".join([i.capitalize() for i in my_list]))"
   ]
  },
  {
   "cell_type": "code",
   "execution_count": 28,
   "metadata": {},
   "outputs": [
    {
     "name": "stdout",
     "output_type": "stream",
     "text": [
      "Peter piper picked a peck of pickled peppers.\n"
     ]
    }
   ],
   "source": [
    "#Write a python program to find below output using loop:-\n",
    "\n",
    "#Input:- 'Peter Piper Picked A Peck Of Pickled Peppers.'\n",
    "#Output:- 'Peter piper picked a peck of pickled peppers'\n",
    "\n",
    "my_str = 'Peter Piper Picked A Peck Of Pickled Peppers.'\n",
    "my_list = my_str.split(' ')\n",
    "my_outlist = []\n",
    "for i in my_list:\n",
    "    if i==my_list[0]:\n",
    "        my_outlist.append(i.title())\n",
    "    elif i[0].isupper():\n",
    "        my_outlist.append(i.casefold())\n",
    "\n",
    "print(\" \".join(my_outlist))"
   ]
  },
  {
   "cell_type": "code",
   "execution_count": 32,
   "metadata": {},
   "outputs": [
    {
     "name": "stdout",
     "output_type": "stream",
     "text": [
      "29\n"
     ]
    }
   ],
   "source": [
    "#Write a python program to implement index method using loop. If sub_str is found in my_str then it will print the index\n",
    "# of first occurrence of first character of matching string in my_str:-\n",
    "\n",
    "#Input:- my_str = 'Peter Piper Picked A Peck Of Pickled Peppers.', sub_str = 'Pickl'\n",
    "#Output:- 29\n",
    "\n",
    "my_str = 'Peter Piper Picked A Peck Of Pickled Peppers.'\n",
    "sub_str = 'Pickl'\n",
    "for i in range(len(my_str)):\n",
    "    if my_str[i]==sub_str[0]:\n",
    "        k = i\n",
    "        found = True\n",
    "        for j in range(len(sub_str)):\n",
    "            if sub_str[j]==my_str[k]:\n",
    "                k+=1\n",
    "            else:\n",
    "                found = False\n",
    "                break\n",
    "        if found:\n",
    "            print(i)\n",
    "            break"
   ]
  },
  {
   "cell_type": "code",
   "execution_count": 34,
   "metadata": {},
   "outputs": [
    {
     "name": "stdout",
     "output_type": "stream",
     "text": [
      "Peter Piper Picked A Pack Of Pickled Peppers.\n",
      "21\n"
     ]
    }
   ],
   "source": [
    "#Write a python program to implement replace method using loop. If sub_str is found in my_str then it will replace the first \n",
    "#occurrence of sub_str with new_str else it will will print sub_str not found:-\n",
    "\n",
    "#Input:- my_str = 'Peter Piper Picked A Peck Of Pickled Peppers.', sub_str = 'Peck', new_str = 'Pack'\n",
    "#Output:- 'Peter Piper Picked A Pack Of Pickled Peppers.'\n",
    "\n",
    "my_str = 'Peter Piper Picked A Peck Of Pickled Peppers.'\n",
    "sub_str = 'Peck'\n",
    "new_str = 'Pack'\n",
    "\n",
    "intStart = 0\n",
    "for i in range(len(my_str)):\n",
    "    if my_str[i]==sub_str[0]:\n",
    "        k = i\n",
    "        found = True\n",
    "        for j in range(len(sub_str)):\n",
    "            if sub_str[j]==my_str[k]:\n",
    "                k+=1\n",
    "            else:\n",
    "                found = False\n",
    "                break\n",
    "        if found:\n",
    "            print(my_str[intStart:i] + new_str + my_str[k:len(my_str)+1:1])\n",
    "            intStart = i\n",
    "            break\n"
   ]
  },
  {
   "cell_type": "code",
   "execution_count": 60,
   "metadata": {},
   "outputs": [
    {
     "name": "stdout",
     "output_type": "stream",
     "text": [
      "Peter Piper Picked A Peck Of Pickled Peppers.\n",
      "***********************Peck*********************\n"
     ]
    }
   ],
   "source": [
    "#Write a python program to find below output (implements rjust and ljust) using loop:-\n",
    "\n",
    "#Input:- 'Peter Piper Picked A Peck Of Pickled Peppers.', sub_str = 'Peck', \n",
    "#Output:- '*********************Peck********************'\n",
    "\n",
    "my_str = 'Peter Piper Picked A Peck Of Pickled Peppers.'\n",
    "sub_str = 'Peck'\n",
    "str_out = ''\n",
    "\n",
    "for i in range(len(my_str)):\n",
    "    if my_str[i]==sub_str[0]:\n",
    "        k = i\n",
    "        found = True\n",
    "        for j in range(len(sub_str)):\n",
    "            if sub_str[j]==my_str[k]:\n",
    "                k+=1\n",
    "            else:\n",
    "                found = False\n",
    "                break\n",
    "        if found:\n",
    "            i = k\n",
    "            str_out = sub_str + str_out\n",
    "        else:\n",
    "            str_out = '*' + str_out\n",
    "    else:\n",
    "        str_out = '*' + str_out\n",
    "print(my_str)\n",
    "print(str_out)"
   ]
  },
  {
   "cell_type": "code",
   "execution_count": 39,
   "metadata": {},
   "outputs": [
    {
     "name": "stdout",
     "output_type": "stream",
     "text": [
      "['This', 'is', 'Python class']\n"
     ]
    }
   ],
   "source": [
    "#Write a python program to find below output using loop:-\n",
    "\n",
    "#Input:- 'This is Python class', sep = 'is', \n",
    "#Output:- ['This', 'is', 'Python class']\n",
    "\n",
    "my_str = 'This is Python class'\n",
    "my_list = my_str.split(' ')\n",
    "sep = 'is'\n",
    "out_list = []\n",
    "strtemp = ''\n",
    "for i in my_list:\n",
    "    if i==sep:\n",
    "        out_list.append(strtemp)\n",
    "        out_list.append(i)\n",
    "        strtemp = ''\n",
    "    else:\n",
    "        if strtemp=='':\n",
    "            strtemp = i\n",
    "        else:\n",
    "            strtemp = strtemp + ' ' + i\n",
    "out_list.append(strtemp)\n",
    "print(out_list)"
   ]
  },
  {
   "cell_type": "code",
   "execution_count": 53,
   "metadata": {},
   "outputs": [
    {
     "name": "stdout",
     "output_type": "stream",
     "text": [
      "R{vjqp\n",
      "Rwvfql\n"
     ]
    }
   ],
   "source": [
    "#Write a python program which takes one input string from user and encode it in below format:-\n",
    "    # 1. #Input:- 'Python'\n",
    "       #Output:- 'R{vjqp'\n",
    "        \n",
    "my_str = 'Python'\n",
    "strout = ''\n",
    "for i in my_str:\n",
    "    strout = strout + chr(ord(i)+2)\n",
    "print(strout)\n",
    "\n",
    "# 2. #Input:- 'Python'\n",
    "   #Output:- 'Rwvfql'\n",
    "my_str = 'Python'\n",
    "strout = ''\n",
    "odd=False\n",
    "for i in my_str:\n",
    "    if odd:\n",
    "        strout = strout + chr(ord(i)-2)\n",
    "        odd=False\n",
    "    else:\n",
    "        strout = strout + chr(ord(i)+2)\n",
    "        odd=True\n",
    "print(strout)\n",
    "        \n",
    "        \n",
    "        \n",
    "        \n",
    "    # 3. #Input:- 'Python'\n",
    "       #Output:- 'R{vkfml'\n",
    "\n"
   ]
  },
  {
   "cell_type": "code",
   "execution_count": null,
   "metadata": {},
   "outputs": [],
   "source": []
  },
  {
   "cell_type": "code",
   "execution_count": null,
   "metadata": {},
   "outputs": [],
   "source": []
  },
  {
   "cell_type": "code",
   "execution_count": null,
   "metadata": {},
   "outputs": [],
   "source": []
  },
  {
   "cell_type": "code",
   "execution_count": null,
   "metadata": {},
   "outputs": [],
   "source": []
  },
  {
   "cell_type": "code",
   "execution_count": null,
   "metadata": {},
   "outputs": [],
   "source": []
  },
  {
   "cell_type": "code",
   "execution_count": null,
   "metadata": {},
   "outputs": [],
   "source": []
  },
  {
   "cell_type": "code",
   "execution_count": null,
   "metadata": {},
   "outputs": [],
   "source": []
  },
  {
   "cell_type": "code",
   "execution_count": null,
   "metadata": {},
   "outputs": [],
   "source": []
  },
  {
   "cell_type": "code",
   "execution_count": null,
   "metadata": {},
   "outputs": [],
   "source": []
  }
 ],
 "metadata": {
  "kernelspec": {
   "display_name": "Python 3",
   "language": "python",
   "name": "python3"
  },
  "language_info": {
   "codemirror_mode": {
    "name": "ipython",
    "version": 3
   },
   "file_extension": ".py",
   "mimetype": "text/x-python",
   "name": "python",
   "nbconvert_exporter": "python",
   "pygments_lexer": "ipython3",
   "version": "3.6.10"
  }
 },
 "nbformat": 4,
 "nbformat_minor": 4
}
